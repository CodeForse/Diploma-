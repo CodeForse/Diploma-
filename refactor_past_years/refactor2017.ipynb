{
 "cells": [
  {
   "cell_type": "code",
   "execution_count": 3,
   "metadata": {},
   "outputs": [],
   "source": [
    "import pandas as pd\n",
    "import numpy as np\n",
    "import re"
   ]
  },
  {
   "cell_type": "code",
   "execution_count": 4,
   "metadata": {},
   "outputs": [],
   "source": [
    "DATA_PATH = './data'"
   ]
  },
  {
   "cell_type": "code",
   "execution_count": 5,
   "metadata": {},
   "outputs": [],
   "source": [
    "column_names = ['district', 'address', 'room_count', 'price', 'Жилой комплекс', 'Дом', 'Время постройки', 'Этаж', 'Площадь', 'Состояние', 'Санузел', 'Балкон', 'Балкон остеклен', 'Дверь', 'Телефон', 'Потолки', 'Безопасноть', 'В прив. общежитии', 'Интернет', 'Мебель', 'Пол', 'Парковка', 'Latitude', 'Longitude']"
   ]
  },
  {
   "cell_type": "code",
   "execution_count": 6,
   "metadata": {},
   "outputs": [],
   "source": [
    "column_names_eng = [\n",
    "    'district',\n",
    "    'address',\n",
    "    'room_count',\n",
    "    'price',\n",
    "    'building',\n",
    "    'house_type',\n",
    "    'year_built',\n",
    "    'floor',\n",
    "    'total_floors',\n",
    "    'area',\n",
    "    'condition',\n",
    "    'bathroom',\n",
    "    'balcony',\n",
    "    'glazed_balcony',\n",
    "    'door',\n",
    "    'phone',\n",
    "    'ceiling',\n",
    "    'safety',\n",
    "    'dormitory',\n",
    "    'internet',\n",
    "    'furniture',\n",
    "    'flooring',\n",
    "    'parking',\n",
    "    'latitude',\n",
    "    'longitude'\n",
    "]"
   ]
  },
  {
   "cell_type": "code",
   "execution_count": null,
   "metadata": {},
   "outputs": [],
   "source": [
    "with open(f'{DATA_PATH}/2017.txt','r', encoding='utf-8') as f:\n",
    "    data2017 = f.read().split('\\n')\n",
    "    "
   ]
  },
  {
   "cell_type": "code",
   "execution_count": null,
   "metadata": {},
   "outputs": [],
   "source": [
    "df = pd.DataFrame(columns=column_names)"
   ]
  },
  {
   "cell_type": "code",
   "execution_count": null,
   "metadata": {},
   "outputs": [],
   "source": [
    "iter = 0\n",
    "for data in data2017:\n",
    "    d = {}\n",
    "    for item in data.split('|'):\n",
    "        key, value = item.split(':')\n",
    "        d[key.strip()] = value.strip()          \n",
    "\n",
    "    df.loc[len(df)] = d\n",
    "    iter += 1\n",
    "    print(iter)\n",
    "    "
   ]
  },
  {
   "cell_type": "code",
   "execution_count": 13,
   "metadata": {},
   "outputs": [],
   "source": [
    "df = df.rename(dict(zip(column_names, column_names_eng)))  # if needed"
   ]
  },
  {
   "cell_type": "code",
   "execution_count": null,
   "metadata": {},
   "outputs": [],
   "source": [
    "df.to_excel(f'{DATA_PATH}/data2017.xlsx')"
   ]
  },
  {
   "cell_type": "code",
   "execution_count": 7,
   "metadata": {},
   "outputs": [],
   "source": [
    "df = pd.read_excel(f'{DATA_PATH}/data2017.xlsx')"
   ]
  },
  {
   "cell_type": "code",
   "execution_count": null,
   "metadata": {},
   "outputs": [],
   "source": []
  }
 ],
 "metadata": {
  "kernelspec": {
   "display_name": "Python 3.10.10 64-bit (microsoft store)",
   "language": "python",
   "name": "python3"
  },
  "language_info": {
   "codemirror_mode": {
    "name": "ipython",
    "version": 3
   },
   "file_extension": ".py",
   "mimetype": "text/x-python",
   "name": "python",
   "nbconvert_exporter": "python",
   "pygments_lexer": "ipython3",
   "version": "3.10.10"
  },
  "orig_nbformat": 4,
  "vscode": {
   "interpreter": {
    "hash": "3b7e9cb8e453d6cda0fe8c8dd13f891a1f09162f0e7c66ffeae7751a7aecf00d"
   }
  }
 },
 "nbformat": 4,
 "nbformat_minor": 2
}
