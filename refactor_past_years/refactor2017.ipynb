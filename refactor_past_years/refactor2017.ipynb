{
 "cells": [
  {
   "cell_type": "code",
   "execution_count": 1,
   "metadata": {},
   "outputs": [],
   "source": [
    "import pandas as pd\n",
    "import numpy as np\n",
    "import re"
   ]
  },
  {
   "cell_type": "code",
   "execution_count": 5,
   "metadata": {},
   "outputs": [],
   "source": [
    "DATA_PATH = '../data'"
   ]
  },
  {
   "cell_type": "code",
   "execution_count": 8,
   "metadata": {},
   "outputs": [],
   "source": [
    "column_names = ['district', 'address', 'room_count', 'price', 'Жилой комплекс', 'Дом', 'Время постройки', 'Этаж', 'Площадь', 'Состояние', 'Санузел', 'Балкон', 'Балкон остеклен', 'Дверь', 'Телефон', 'Потолки', 'Безопасноть', 'В прив. общежитии', 'Интернет', 'Мебель', 'Пол', 'Парковка', 'Latitude', 'Longitude']"
   ]
  },
  {
   "cell_type": "code",
   "execution_count": 3,
   "metadata": {},
   "outputs": [],
   "source": [
    "column_names_eng = [\n",
    "    'district',\n",
    "    'address',\n",
    "    'room_count',\n",
    "    'price',\n",
    "    'building',\n",
    "    'house_type',\n",
    "    'year_built',\n",
    "    'floor',\n",
    "    'total_floors',\n",
    "    'area',\n",
    "    'condition',\n",
    "    'bathroom',\n",
    "    'balcony',\n",
    "    'glazed_balcony',\n",
    "    'door',\n",
    "    'phone',\n",
    "    'ceiling',\n",
    "    'safety',\n",
    "    'dormitory',\n",
    "    'internet',\n",
    "    'furniture',\n",
    "    'flooring',\n",
    "    'parking',\n",
    "    'latitude',\n",
    "    'longitude'\n",
    "]"
   ]
  },
  {
   "cell_type": "code",
   "execution_count": null,
   "metadata": {},
   "outputs": [],
   "source": [
    "with open(f'{DATA_PATH}/2017.txt','r', encoding='utf-8') as f:\n",
    "    data2017 = f.read().split('\\n')\n",
    "    "
   ]
  },
  {
   "cell_type": "code",
   "execution_count": null,
   "metadata": {},
   "outputs": [],
   "source": [
    "df = pd.DataFrame(columns=column_names)"
   ]
  },
  {
   "cell_type": "code",
   "execution_count": null,
   "metadata": {},
   "outputs": [],
   "source": [
    "iter = 0\n",
    "for data in data2017:\n",
    "    d = {}\n",
    "    for item in data.split('|'):\n",
    "        key, value = item.split(':')\n",
    "        d[key.strip()] = value.strip()          \n",
    "\n",
    "    df.loc[len(df)] = d\n",
    "    iter += 1\n",
    "    print(iter)\n",
    "    "
   ]
  },
  {
   "cell_type": "code",
   "execution_count": 9,
   "metadata": {},
   "outputs": [],
   "source": [
    "df = df.rename(dict(zip(column_names, column_names_eng)))  # if needed"
   ]
  },
  {
   "cell_type": "code",
   "execution_count": null,
   "metadata": {},
   "outputs": [],
   "source": [
    "df.to_excel(f'{DATA_PATH}/data2017.xlsx')"
   ]
  },
  {
   "cell_type": "code",
   "execution_count": 6,
   "metadata": {},
   "outputs": [],
   "source": [
    "df = pd.read_excel(f'{DATA_PATH}/data2017.xlsx')"
   ]
  },
  {
   "cell_type": "code",
   "execution_count": 7,
   "metadata": {},
   "outputs": [
    {
     "data": {
      "text/plain": [
       "Index(['Unnamed: 0', 'district', 'address', 'room_count', 'price',\n",
       "       'Жилой комплекс', 'Дом', 'Время постройки', 'Этаж', 'Площадь',\n",
       "       'Состояние', 'Санузел', 'Балкон', 'Балкон остеклен', 'Дверь', 'Телефон',\n",
       "       'Потолки', 'Безопасноть', 'В прив. общежитии', 'Интернет', 'Мебель',\n",
       "       'Пол', 'Парковка', 'Latitude', 'Longitude'],\n",
       "      dtype='object')"
      ]
     },
     "execution_count": 7,
     "metadata": {},
     "output_type": "execute_result"
    }
   ],
   "source": [
    "df.columns"
   ]
  },
  {
   "cell_type": "code",
   "execution_count": 10,
   "metadata": {},
   "outputs": [
    {
     "data": {
      "text/plain": [
       "Index(['Unnamed: 0', 'district', 'address', 'room_count', 'price',\n",
       "       'Жилой комплекс', 'Дом', 'Время постройки', 'Этаж', 'Площадь',\n",
       "       'Состояние', 'Санузел', 'Балкон', 'Балкон остеклен', 'Дверь', 'Телефон',\n",
       "       'Потолки', 'Безопасноть', 'В прив. общежитии', 'Интернет', 'Мебель',\n",
       "       'Пол', 'Парковка', 'Latitude', 'Longitude'],\n",
       "      dtype='object')"
      ]
     },
     "execution_count": 10,
     "metadata": {},
     "output_type": "execute_result"
    }
   ],
   "source": [
    "df.columns"
   ]
  },
  {
   "cell_type": "code",
   "execution_count": 21,
   "metadata": {},
   "outputs": [],
   "source": [
    "def get_floor(floor_text, is_total=False):\n",
    "    if 'из' in floor_text:\n",
    "        return int(floor_text.split('из')[is_total])\n",
    "    else: \n",
    "        return int(floor_text)"
   ]
  },
  {
   "cell_type": "code",
   "execution_count": 26,
   "metadata": {},
   "outputs": [],
   "source": [
    "df['floor'] = df.Этаж.apply(lambda x: get_floor(x))"
   ]
  },
  {
   "cell_type": "code",
   "execution_count": 27,
   "metadata": {},
   "outputs": [],
   "source": [
    "df['total_floor'] = df.Этаж.apply(lambda x: get_floor(x,1))"
   ]
  },
  {
   "cell_type": "code",
   "execution_count": 28,
   "metadata": {},
   "outputs": [
    {
     "data": {
      "text/html": [
       "<div>\n",
       "<style scoped>\n",
       "    .dataframe tbody tr th:only-of-type {\n",
       "        vertical-align: middle;\n",
       "    }\n",
       "\n",
       "    .dataframe tbody tr th {\n",
       "        vertical-align: top;\n",
       "    }\n",
       "\n",
       "    .dataframe thead th {\n",
       "        text-align: right;\n",
       "    }\n",
       "</style>\n",
       "<table border=\"1\" class=\"dataframe\">\n",
       "  <thead>\n",
       "    <tr style=\"text-align: right;\">\n",
       "      <th></th>\n",
       "      <th>Unnamed: 0</th>\n",
       "      <th>district</th>\n",
       "      <th>address</th>\n",
       "      <th>room_count</th>\n",
       "      <th>price</th>\n",
       "      <th>Жилой комплекс</th>\n",
       "      <th>Дом</th>\n",
       "      <th>Время постройки</th>\n",
       "      <th>Этаж</th>\n",
       "      <th>Площадь</th>\n",
       "      <th>...</th>\n",
       "      <th>Безопасноть</th>\n",
       "      <th>В прив. общежитии</th>\n",
       "      <th>Интернет</th>\n",
       "      <th>Мебель</th>\n",
       "      <th>Пол</th>\n",
       "      <th>Парковка</th>\n",
       "      <th>Latitude</th>\n",
       "      <th>Longitude</th>\n",
       "      <th>floor</th>\n",
       "      <th>total_floor</th>\n",
       "    </tr>\n",
       "  </thead>\n",
       "  <tbody>\n",
       "    <tr>\n",
       "      <th>0</th>\n",
       "      <td>0</td>\n",
       "      <td>Алматы, Ауэзовский р-н</td>\n",
       "      <td>мкр №3</td>\n",
       "      <td>3</td>\n",
       "      <td>14 500 000 ₸</td>\n",
       "      <td>-1</td>\n",
       "      <td>панельный</td>\n",
       "      <td>1966 г.п.</td>\n",
       "      <td>1 из 4</td>\n",
       "      <td>60 м2</td>\n",
       "      <td>...</td>\n",
       "      <td>-1</td>\n",
       "      <td>нет</td>\n",
       "      <td>проводной</td>\n",
       "      <td>частично меблирована</td>\n",
       "      <td>линолеум</td>\n",
       "      <td>рядом охраняемая стоянка</td>\n",
       "      <td>43.223779</td>\n",
       "      <td>76.849031</td>\n",
       "      <td>1</td>\n",
       "      <td>4</td>\n",
       "    </tr>\n",
       "    <tr>\n",
       "      <th>1</th>\n",
       "      <td>1</td>\n",
       "      <td>Алматы, Ауэзовский р-н</td>\n",
       "      <td>мкр №3</td>\n",
       "      <td>3</td>\n",
       "      <td>14 500 000 ₸</td>\n",
       "      <td>-1</td>\n",
       "      <td>панельный</td>\n",
       "      <td>1966 г.п.</td>\n",
       "      <td>1 из 4</td>\n",
       "      <td>60 м2</td>\n",
       "      <td>...</td>\n",
       "      <td>-1</td>\n",
       "      <td>нет</td>\n",
       "      <td>проводной</td>\n",
       "      <td>частично меблирована</td>\n",
       "      <td>линолеум</td>\n",
       "      <td>рядом охраняемая стоянка</td>\n",
       "      <td>43.223779</td>\n",
       "      <td>76.849031</td>\n",
       "      <td>1</td>\n",
       "      <td>4</td>\n",
       "    </tr>\n",
       "    <tr>\n",
       "      <th>2</th>\n",
       "      <td>2</td>\n",
       "      <td>Алматы, Бостандыкский р-н</td>\n",
       "      <td>Розыбакиева 247 — Аль-Фараби</td>\n",
       "      <td>2</td>\n",
       "      <td>37 950 000 ₸</td>\n",
       "      <td>Вавилон</td>\n",
       "      <td>монолитный</td>\n",
       "      <td>2016 г.п.</td>\n",
       "      <td>10 из 13</td>\n",
       "      <td>82.5 м2</td>\n",
       "      <td>...</td>\n",
       "      <td>-1</td>\n",
       "      <td>нет</td>\n",
       "      <td>проводной</td>\n",
       "      <td>пустая</td>\n",
       "      <td>-1</td>\n",
       "      <td>паркинг</td>\n",
       "      <td>43.202449</td>\n",
       "      <td>76.891970</td>\n",
       "      <td>10</td>\n",
       "      <td>13</td>\n",
       "    </tr>\n",
       "    <tr>\n",
       "      <th>3</th>\n",
       "      <td>3</td>\n",
       "      <td>Алматы, Бостандыкский р-н</td>\n",
       "      <td>мкр Орбита-2, Навои 322 — проспект Аль-Фараби</td>\n",
       "      <td>3</td>\n",
       "      <td>18 000 000 ₸</td>\n",
       "      <td>-1</td>\n",
       "      <td>панельный</td>\n",
       "      <td>1974 г.п.</td>\n",
       "      <td>1 из 5</td>\n",
       "      <td>59 м2</td>\n",
       "      <td>...</td>\n",
       "      <td>-1</td>\n",
       "      <td>нет</td>\n",
       "      <td>оптика</td>\n",
       "      <td>пустая</td>\n",
       "      <td>линолеум</td>\n",
       "      <td>рядом охраняемая стоянка</td>\n",
       "      <td>43.197612</td>\n",
       "      <td>76.888557</td>\n",
       "      <td>1</td>\n",
       "      <td>5</td>\n",
       "    </tr>\n",
       "    <tr>\n",
       "      <th>4</th>\n",
       "      <td>4</td>\n",
       "      <td>Алматы, Бостандыкский р-н</td>\n",
       "      <td>Каблукова 270 — Розыбакиева</td>\n",
       "      <td>4</td>\n",
       "      <td>87 000 000 ₸</td>\n",
       "      <td>Mega Tower Almaty</td>\n",
       "      <td>монолитный</td>\n",
       "      <td>2009 г.п.</td>\n",
       "      <td>12 из 25</td>\n",
       "      <td>135 м2</td>\n",
       "      <td>...</td>\n",
       "      <td>-1</td>\n",
       "      <td>нет</td>\n",
       "      <td>через TV кабель</td>\n",
       "      <td>-1</td>\n",
       "      <td>паркет</td>\n",
       "      <td>паркинг</td>\n",
       "      <td>43.200004</td>\n",
       "      <td>76.890659</td>\n",
       "      <td>12</td>\n",
       "      <td>25</td>\n",
       "    </tr>\n",
       "  </tbody>\n",
       "</table>\n",
       "<p>5 rows × 27 columns</p>\n",
       "</div>"
      ],
      "text/plain": [
       "   Unnamed: 0                   district  \\\n",
       "0           0     Алматы, Ауэзовский р-н   \n",
       "1           1     Алматы, Ауэзовский р-н   \n",
       "2           2  Алматы, Бостандыкский р-н   \n",
       "3           3  Алматы, Бостандыкский р-н   \n",
       "4           4  Алматы, Бостандыкский р-н   \n",
       "\n",
       "                                         address  room_count         price  \\\n",
       "0                                         мкр №3           3  14 500 000 ₸   \n",
       "1                                         мкр №3           3  14 500 000 ₸   \n",
       "2                   Розыбакиева 247 — Аль-Фараби           2  37 950 000 ₸   \n",
       "3  мкр Орбита-2, Навои 322 — проспект Аль-Фараби           3  18 000 000 ₸   \n",
       "4                    Каблукова 270 — Розыбакиева           4  87 000 000 ₸   \n",
       "\n",
       "      Жилой комплекс         Дом Время постройки      Этаж  Площадь  ...  \\\n",
       "0                 -1   панельный       1966 г.п.    1 из 4    60 м2  ...   \n",
       "1                 -1   панельный       1966 г.п.    1 из 4    60 м2  ...   \n",
       "2            Вавилон  монолитный       2016 г.п.  10 из 13  82.5 м2  ...   \n",
       "3                 -1   панельный       1974 г.п.    1 из 5    59 м2  ...   \n",
       "4  Mega Tower Almaty  монолитный       2009 г.п.  12 из 25   135 м2  ...   \n",
       "\n",
       "  Безопасноть В прив. общежитии         Интернет                Мебель  \\\n",
       "0          -1               нет        проводной  частично меблирована   \n",
       "1          -1               нет        проводной  частично меблирована   \n",
       "2          -1               нет        проводной                пустая   \n",
       "3          -1               нет           оптика                пустая   \n",
       "4          -1               нет  через TV кабель                    -1   \n",
       "\n",
       "        Пол                  Парковка   Latitude  Longitude floor total_floor  \n",
       "0  линолеум  рядом охраняемая стоянка  43.223779  76.849031     1           4  \n",
       "1  линолеум  рядом охраняемая стоянка  43.223779  76.849031     1           4  \n",
       "2        -1                   паркинг  43.202449  76.891970    10          13  \n",
       "3  линолеум  рядом охраняемая стоянка  43.197612  76.888557     1           5  \n",
       "4    паркет                   паркинг  43.200004  76.890659    12          25  \n",
       "\n",
       "[5 rows x 27 columns]"
      ]
     },
     "execution_count": 28,
     "metadata": {},
     "output_type": "execute_result"
    }
   ],
   "source": [
    "df.head()"
   ]
  },
  {
   "cell_type": "code",
   "execution_count": 40,
   "metadata": {},
   "outputs": [],
   "source": [
    "df['price'] = pd.to_numeric(df['price'].str.replace('₸','').str.replace('\\xa0',''))"
   ]
  },
  {
   "cell_type": "code",
   "execution_count": 47,
   "metadata": {},
   "outputs": [],
   "source": [
    "df['year_built'] = df['Время постройки'].apply(lambda x: int(x[:x.find(' г')]) if 'г' in x else -1)"
   ]
  },
  {
   "cell_type": "code",
   "execution_count": 54,
   "metadata": {},
   "outputs": [],
   "source": [
    "df['area'] = pd.to_numeric(df['Площадь'].str.replace('м2',''))"
   ]
  },
  {
   "cell_type": "code",
   "execution_count": 57,
   "metadata": {},
   "outputs": [],
   "source": [
    "df.drop(columns=['Unnamed: 0']).to_excel(f'{DATA_PATH}/data2017.xlsx')"
   ]
  },
  {
   "cell_type": "code",
   "execution_count": null,
   "metadata": {},
   "outputs": [],
   "source": []
  }
 ],
 "metadata": {
  "kernelspec": {
   "display_name": "Python 3.10.10 64-bit (microsoft store)",
   "language": "python",
   "name": "python3"
  },
  "language_info": {
   "codemirror_mode": {
    "name": "ipython",
    "version": 3
   },
   "file_extension": ".py",
   "mimetype": "text/x-python",
   "name": "python",
   "nbconvert_exporter": "python",
   "pygments_lexer": "ipython3",
   "version": "3.10.11"
  },
  "orig_nbformat": 4,
  "vscode": {
   "interpreter": {
    "hash": "3b7e9cb8e453d6cda0fe8c8dd13f891a1f09162f0e7c66ffeae7751a7aecf00d"
   }
  }
 },
 "nbformat": 4,
 "nbformat_minor": 2
}
