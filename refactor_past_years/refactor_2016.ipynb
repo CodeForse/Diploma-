{
 "cells": [
  {
   "cell_type": "code",
   "execution_count": 1,
   "metadata": {},
   "outputs": [],
   "source": [
    "import pandas as pd \n",
    "import numpy as np"
   ]
  },
  {
   "cell_type": "code",
   "execution_count": 6,
   "metadata": {},
   "outputs": [],
   "source": [
    "df = pd.read_excel('../data/data2016.XLSX')"
   ]
  },
  {
   "cell_type": "code",
   "execution_count": 7,
   "metadata": {},
   "outputs": [
    {
     "data": {
      "text/plain": [
       "Index(['Column1', 'Column2', 'Column3', 'Column4', 'Column5', 'Column6',\n",
       "       'Column7', 'Column8', 'Column9', 'Column10', 'Column11'],\n",
       "      dtype='object')"
      ]
     },
     "execution_count": 7,
     "metadata": {},
     "output_type": "execute_result"
    }
   ],
   "source": [
    "df.columns"
   ]
  },
  {
   "cell_type": "code",
   "execution_count": 8,
   "metadata": {},
   "outputs": [
    {
     "data": {
      "text/plain": [
       "(95, 11)"
      ]
     },
     "execution_count": 8,
     "metadata": {},
     "output_type": "execute_result"
    }
   ],
   "source": [
    "df.shape"
   ]
  },
  {
   "cell_type": "code",
   "execution_count": 9,
   "metadata": {},
   "outputs": [],
   "source": [
    "df = df.rename(columns={'Column1': 'krisha_id', 'Column2': 'title', 'Column3':'address', 'Column4': 'price', 'Column5': 'region', 'Column6':'floor_data', 'Column7':'area', 'Column8':'building_type', 'Column9':'year_built', 'Column10': 'seller', 'Column11':'ceiling'})"
   ]
  },
  {
   "cell_type": "code",
   "execution_count": 10,
   "metadata": {},
   "outputs": [],
   "source": [
    "df['num_rooms'] = df['title'].apply(lambda x: int(x[:x.find('-')]))\n",
    "df['floor_data'] = df['floor_data'].apply(lambda x: x.replace(' из ', '/') if x is not np.NaN else '-1/-1')\n",
    "df['floor'] = df['floor_data'].apply(lambda x: x[:x.find('/')])\n",
    "df['total_floor'] = df['floor_data'].apply(lambda x: x[x.find('/')+1:].replace(' эт.',''))\n",
    "df['area'] = df['area'].apply(lambda x: float(x.replace(' м2', '')))\n",
    "df['year_built'] = df['year_built'].apply(lambda x: int(x.replace(' г.п.','')))\n",
    "df['ceiling'] = df['ceiling'].apply(lambda x: float(x.replace('потолки ', '').replace('м.','')))\n",
    "df = df[['krisha_id', 'address', 'price', 'region', 'area', 'building_type', 'year_built', 'seller', 'ceiling', 'num_rooms', 'floor', 'total_floor']]\n",
    "df['full_address'] = df['region'] + ', ' + df['address']\n",
    "\n",
    "add_df = pd.read_excel('../data/constructed/all_addresses.xlsx')\n",
    "df = df.merge(add_df,how='left', left_on='full_address', right_on='address')\n"
   ]
  },
  {
   "cell_type": "code",
   "execution_count": 12,
   "metadata": {},
   "outputs": [],
   "source": [
    "df.to_excel('../data/data2016.xlsx')"
   ]
  },
  {
   "cell_type": "code",
   "execution_count": null,
   "metadata": {},
   "outputs": [],
   "source": []
  }
 ],
 "metadata": {
  "kernelspec": {
   "display_name": "Python 3.10.11 64-bit (microsoft store)",
   "language": "python",
   "name": "python3"
  },
  "language_info": {
   "codemirror_mode": {
    "name": "ipython",
    "version": 3
   },
   "file_extension": ".py",
   "mimetype": "text/x-python",
   "name": "python",
   "nbconvert_exporter": "python",
   "pygments_lexer": "ipython3",
   "version": "3.10.11"
  },
  "orig_nbformat": 4,
  "vscode": {
   "interpreter": {
    "hash": "3b7e9cb8e453d6cda0fe8c8dd13f891a1f09162f0e7c66ffeae7751a7aecf00d"
   }
  }
 },
 "nbformat": 4,
 "nbformat_minor": 2
}
