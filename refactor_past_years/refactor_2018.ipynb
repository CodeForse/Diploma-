{
 "cells": [
  {
   "cell_type": "code",
   "execution_count": 1,
   "metadata": {},
   "outputs": [],
   "source": [
    "import pandas as pd\n",
    "import numpy as np"
   ]
  },
  {
   "cell_type": "code",
   "execution_count": 3,
   "metadata": {},
   "outputs": [],
   "source": [
    "df = pd.read_excel('../data/rw2018.XLSX')"
   ]
  },
  {
   "cell_type": "code",
   "execution_count": 5,
   "metadata": {},
   "outputs": [
    {
     "data": {
      "text/plain": [
       "Index(['id', 'room', 'area', 'fl', 'price', 'rayon', 'address', 'compl',\n",
       "       'type', 'year', 'ceiling'],\n",
       "      dtype='object')"
      ]
     },
     "execution_count": 5,
     "metadata": {},
     "output_type": "execute_result"
    }
   ],
   "source": [
    "df.columns"
   ]
  },
  {
   "cell_type": "code",
   "execution_count": 6,
   "metadata": {},
   "outputs": [
    {
     "data": {
      "text/plain": [
       "(23, 11)"
      ]
     },
     "execution_count": 6,
     "metadata": {},
     "output_type": "execute_result"
    }
   ],
   "source": [
    "df.shape"
   ]
  },
  {
   "cell_type": "code",
   "execution_count": 15,
   "metadata": {},
   "outputs": [],
   "source": [
    "df.area = pd.to_numeric(df.area.str.strip().str.replace(' м²', ''))"
   ]
  },
  {
   "cell_type": "code",
   "execution_count": 21,
   "metadata": {},
   "outputs": [
    {
     "name": "stderr",
     "output_type": "stream",
     "text": [
      "C:\\Users\\User\\AppData\\Local\\Temp\\ipykernel_3412\\767603596.py:1: FutureWarning: The default value of regex will change from True to False in a future version.\n",
      "  df['floor'] = df.fl.str.replace(' эт.','').str.strip().str.split('/').str[0]\n"
     ]
    }
   ],
   "source": [
    "df['floor'] = df.fl.str.replace(' эт.','').str.strip().str.split('/').str[0]"
   ]
  },
  {
   "cell_type": "code",
   "execution_count": 54,
   "metadata": {},
   "outputs": [
    {
     "name": "stderr",
     "output_type": "stream",
     "text": [
      "C:\\Users\\User\\AppData\\Local\\Temp\\ipykernel_3412\\3009508902.py:1: FutureWarning: The default value of regex will change from True to False in a future version.\n",
      "  df['total_floor'] = df.fl.str.replace(' эт.','').str.strip().str.split('/').str[1]\n"
     ]
    }
   ],
   "source": [
    "df['total_floor'] = df.fl.str.replace(' эт.','').str.strip().str.split('/').str[1]"
   ]
  },
  {
   "cell_type": "code",
   "execution_count": 31,
   "metadata": {},
   "outputs": [
    {
     "name": "stderr",
     "output_type": "stream",
     "text": [
      "C:\\Users\\User\\AppData\\Local\\Temp\\ipykernel_3412\\1308998640.py:1: FutureWarning: The default value of regex will change from True to False in a future version.\n",
      "  df.year_built = pd.to_numeric(df.year.str.replace('г.п.','').str.strip())\n",
      "C:\\Users\\User\\AppData\\Local\\Temp\\ipykernel_3412\\1308998640.py:1: UserWarning: Pandas doesn't allow columns to be created via a new attribute name - see https://pandas.pydata.org/pandas-docs/stable/indexing.html#attribute-access\n",
      "  df.year_built = pd.to_numeric(df.year.str.replace('г.п.','').str.strip())\n"
     ]
    }
   ],
   "source": [
    "df.year_built = pd.to_numeric(df.year.str.replace('г.п.','').str.strip())"
   ]
  },
  {
   "cell_type": "code",
   "execution_count": 37,
   "metadata": {},
   "outputs": [
    {
     "name": "stderr",
     "output_type": "stream",
     "text": [
      "C:\\Users\\User\\AppData\\Local\\Temp\\ipykernel_3412\\1090092272.py:1: FutureWarning: The default value of regex will change from True to False in a future version.\n",
      "  df.ceiling = pd.to_numeric(df.ceiling.str.replace(' потолки ', '').str.replace('м.','').str.strip())\n"
     ]
    }
   ],
   "source": [
    "df.ceiling = pd.to_numeric(df.ceiling.str.replace(' потолки ', '').str.replace('м.','').str.strip())"
   ]
  },
  {
   "cell_type": "code",
   "execution_count": 41,
   "metadata": {},
   "outputs": [],
   "source": [
    "df['year_built'] = df.year_built"
   ]
  },
  {
   "cell_type": "code",
   "execution_count": 49,
   "metadata": {},
   "outputs": [],
   "source": [
    "df['room'] = df['room'].apply(lambda x: x[:x.find('-')])"
   ]
  },
  {
   "cell_type": "code",
   "execution_count": 52,
   "metadata": {},
   "outputs": [],
   "source": [
    "df['full_address'] = df.rayon + ', ' + df.address"
   ]
  },
  {
   "cell_type": "code",
   "execution_count": 57,
   "metadata": {},
   "outputs": [],
   "source": [
    "df = df.rename(columns={'id':'krisha_id', 'room':'num_rooms', 'rayon':'region', }).drop(columns=['fl','year'])"
   ]
  },
  {
   "cell_type": "code",
   "execution_count": 58,
   "metadata": {},
   "outputs": [],
   "source": [
    "df.to_excel('../data/data2018.xlsx')"
   ]
  },
  {
   "cell_type": "code",
   "execution_count": null,
   "metadata": {},
   "outputs": [],
   "source": []
  }
 ],
 "metadata": {
  "kernelspec": {
   "display_name": "Python 3.10.11 64-bit (microsoft store)",
   "language": "python",
   "name": "python3"
  },
  "language_info": {
   "codemirror_mode": {
    "name": "ipython",
    "version": 3
   },
   "file_extension": ".py",
   "mimetype": "text/x-python",
   "name": "python",
   "nbconvert_exporter": "python",
   "pygments_lexer": "ipython3",
   "version": "3.10.11"
  },
  "orig_nbformat": 4,
  "vscode": {
   "interpreter": {
    "hash": "3b7e9cb8e453d6cda0fe8c8dd13f891a1f09162f0e7c66ffeae7751a7aecf00d"
   }
  }
 },
 "nbformat": 4,
 "nbformat_minor": 2
}
