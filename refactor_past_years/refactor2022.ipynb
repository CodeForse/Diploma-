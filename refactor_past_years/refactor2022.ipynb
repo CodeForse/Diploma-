{
 "cells": [
  {
   "cell_type": "code",
   "execution_count": 1,
   "metadata": {},
   "outputs": [],
   "source": [
    "import pandas as pd \n",
    "import numpy as np\n",
    "import matplotlib.pyplot as plt\n",
    "import seaborn as sns"
   ]
  },
  {
   "cell_type": "code",
   "execution_count": 5,
   "metadata": {},
   "outputs": [],
   "source": [
    "df = pd.read_excel('../data/tre2022.xlsx')"
   ]
  },
  {
   "cell_type": "code",
   "execution_count": 10,
   "metadata": {},
   "outputs": [],
   "source": [
    "df['room'] = df['room'].apply(lambda x: x[:x.find('-')])"
   ]
  },
  {
   "cell_type": "code",
   "execution_count": 11,
   "metadata": {},
   "outputs": [
    {
     "data": {
      "text/html": [
       "<div>\n",
       "<style scoped>\n",
       "    .dataframe tbody tr th:only-of-type {\n",
       "        vertical-align: middle;\n",
       "    }\n",
       "\n",
       "    .dataframe tbody tr th {\n",
       "        vertical-align: top;\n",
       "    }\n",
       "\n",
       "    .dataframe thead th {\n",
       "        text-align: right;\n",
       "    }\n",
       "</style>\n",
       "<table border=\"1\" class=\"dataframe\">\n",
       "  <thead>\n",
       "    <tr style=\"text-align: right;\">\n",
       "      <th></th>\n",
       "      <th>id</th>\n",
       "      <th>room</th>\n",
       "      <th>area</th>\n",
       "      <th>fl/totfl</th>\n",
       "      <th>price</th>\n",
       "      <th>rayon</th>\n",
       "      <th>address</th>\n",
       "      <th>zhil complex</th>\n",
       "      <th>type</th>\n",
       "      <th>year</th>\n",
       "      <th>ceiling</th>\n",
       "    </tr>\n",
       "  </thead>\n",
       "  <tbody>\n",
       "    <tr>\n",
       "      <th>0</th>\n",
       "      <td>673148324</td>\n",
       "      <td>3</td>\n",
       "      <td>115.00</td>\n",
       "      <td>7/11</td>\n",
       "      <td>58 000 000</td>\n",
       "      <td>Ауэзовский р-н</td>\n",
       "      <td>мкр Жетысу-3 60</td>\n",
       "      <td>NaN</td>\n",
       "      <td>монолитный дом</td>\n",
       "      <td>2011 г.п.</td>\n",
       "      <td>NaN</td>\n",
       "    </tr>\n",
       "    <tr>\n",
       "      <th>1</th>\n",
       "      <td>672974077</td>\n",
       "      <td>2</td>\n",
       "      <td>74.16</td>\n",
       "      <td>2/16</td>\n",
       "      <td>42 500 000</td>\n",
       "      <td>Бостандыкский р-н</td>\n",
       "      <td>Розыбакиева — Утепова</td>\n",
       "      <td>жил. комплекс Heaven</td>\n",
       "      <td>монолитный дом</td>\n",
       "      <td>2022 г.п.</td>\n",
       "      <td>потолки 3м.</td>\n",
       "    </tr>\n",
       "  </tbody>\n",
       "</table>\n",
       "</div>"
      ],
      "text/plain": [
       "          id room    area fl/totfl        price               rayon  \\\n",
       "0  673148324    3  115.00     7/11   58 000 000      Ауэзовский р-н   \n",
       "1  672974077    2   74.16     2/16   42 500 000   Бостандыкский р-н   \n",
       "\n",
       "                  address           zhil complex             type        year  \\\n",
       "0         мкр Жетысу-3 60                    NaN   монолитный дом   2011 г.п.   \n",
       "1   Розыбакиева — Утепова   жил. комплекс Heaven   монолитный дом   2022 г.п.   \n",
       "\n",
       "        ceiling  \n",
       "0           NaN  \n",
       "1   потолки 3м.  "
      ]
     },
     "execution_count": 11,
     "metadata": {},
     "output_type": "execute_result"
    }
   ],
   "source": [
    "df.head(2)"
   ]
  },
  {
   "cell_type": "code",
   "execution_count": 12,
   "metadata": {},
   "outputs": [
    {
     "data": {
      "text/plain": [
       "array([' 7/11', ' 2/16', ' ', ' 7/12', ' 4/10', ' 5/5', ' 1/4', ' 2/5',\n",
       "       ' 3/4', ' 7/13', ' 3/9', ' 4/9', ' 8/9', ' 5/10', ' 4/5', ' 3/10',\n",
       "       ' 9/10', ' 4/4', ' 7/7', ' 5/7', ' 2/7', ' 2/4', ' 6/6', nan,\n",
       "       ' 5/21', ' 8/8', ' 3/3', ' 3/5', ' 6/14', ' 1/2', ' 11/11', ' 9/9',\n",
       "       ' 2/9', ' 2/17', ' 13/15', ' 5/8', ' 1/5', ' 3/8', ' 11/15',\n",
       "       ' 12/15', ' 1/9', ' 1/7', ' 2/6', ' 9/21', ' 4/12', ' 7/30',\n",
       "       ' 8/12', ' 9/12', ' 6/7', ' 5/9', ' 13/16', ' 12/12', ' 9/16',\n",
       "       ' 6/12', ' 1/6', ' 1/3', ' 6/10', ' 6/13', ' 11/12', ' 4/8',\n",
       "       ' 6/9', ' 7/9', ' 5/12', ' 7/16', ' 10/16', ' 1/1', ' 2/13',\n",
       "       ' 12/21', ' 8/13', ' 8/20', ' 3/14', ' 3/16', '8/8', ' 4/13'],\n",
       "      dtype=object)"
      ]
     },
     "execution_count": 12,
     "metadata": {},
     "output_type": "execute_result"
    }
   ],
   "source": [
    "df['fl/totfl'].unique()"
   ]
  },
  {
   "cell_type": "code",
   "execution_count": 16,
   "metadata": {},
   "outputs": [],
   "source": [
    "df['floor'] = df['fl/totfl'].apply(lambda x: int(x.strip().split('/')[0]) if x is not np.NaN and x != ' ' else -1)"
   ]
  },
  {
   "cell_type": "code",
   "execution_count": 17,
   "metadata": {},
   "outputs": [],
   "source": [
    "df['total_floors'] = df['fl/totfl'].apply(lambda x: int(x.strip().split('/')[1]) if x is not np.NaN and x != ' ' else -1)"
   ]
  },
  {
   "cell_type": "code",
   "execution_count": 24,
   "metadata": {},
   "outputs": [
    {
     "data": {
      "text/plain": [
       "array([' 58 000 000', ' 42 500 000', ' от 79 980 000', ' 48 000 000',\n",
       "       ' 53 000 000', ' 27 500 000', ' 28 000 000', ' 9 500 000',\n",
       "       ' 12 500 000', ' 41 500 000', ' 185 999 000', ' 36 000 000',\n",
       "       ' 15 200 000', ' 22 500 000', ' 236 000 000', ' 316 080 000',\n",
       "       ' 374 490 000', ' 35 000 000', ' от 220 797 000', ' от 78 354 000',\n",
       "       ' от 95 210 075', ' 113 500 000', ' 71 500 000', ' 78 000 000',\n",
       "       ' 55 000 000', ' 42 000 000', ' 23 500 000', ' 67 000 000',\n",
       "       ' 38 000 000', ' 180 000 000', ' 29 800 000', ' 29 999 990',\n",
       "       ' 110 000 000', ' 75 000 000', ' 33 000 000', ' 72 000 000',\n",
       "       ' 35 900 000', ' 29 900 000', ' 15 000 000', ' 54 000 000',\n",
       "       ' 39 000 000', ' 200 000 000', ' 37 500 000', ' 167 000 000',\n",
       "       ' 40 500 000', ' 40 000 000', ' 26 000 000', ' 79 000 000',\n",
       "       ' 45 000 000', ' 29 500 000', ' 41 000 000', ' 57 000 000',\n",
       "       ' 36 500 000', ' 70 000 000', ' 24 500 000', ' 43 500 000',\n",
       "       ' 225 000 000', ' 33 500 000', ' 133 888 000', ' 14 000 000',\n",
       "       ' 44 500 000', ' 27 000 000', ' 31 500 000', ' 43 000 000',\n",
       "       ' от 84 500 000', ' 11 500 000', ' 13 300 000', ' 20 500 000',\n",
       "       ' 205 000 000', ' 25 700 000', ' 7 000 000', ' 230 000 000',\n",
       "       ' 27 900 000', ' 23 900 000', ' 34 990 000', ' 31 000 000',\n",
       "       ' 13 000 000', ' 25 500 000', ' 24 000 000', ' 29 999 999',\n",
       "       ' 50 500 000', ' 38 400 000', ' от 28 618 000', ' от 19 529 000',\n",
       "       ' 32 000 000', ' 54 500 000', ' 69 000 000', ' 53 500 000',\n",
       "       ' 50 000 000', ' 100 000 000', ' 34 000 000', ' от 72 709 410',\n",
       "       ' от 23 520 000', ' от 32 964 000', ' от 22 720 000',\n",
       "       ' от 35 568 041', ' от 108 812 500', ' от 43 216 000',\n",
       "       ' от 57 368 000', ' от 37 854 000', ' 38 600 000', ' 87 600 000',\n",
       "       ' 155 000 000', ' 39 500 000', ' 29 000 000', ' 18 500 000',\n",
       "       ' 22 000 000', ' 19 900 000', ' от 30 617 000', ' от 73 710 000'],\n",
       "      dtype=object)"
      ]
     },
     "execution_count": 24,
     "metadata": {},
     "output_type": "execute_result"
    }
   ],
   "source": [
    "df['price'].str.replace('\\xa0',' ').unique()"
   ]
  },
  {
   "cell_type": "code",
   "execution_count": 26,
   "metadata": {},
   "outputs": [],
   "source": [
    "df['cold_entry'] = df['price'].str.contains('от')"
   ]
  },
  {
   "cell_type": "code",
   "execution_count": 33,
   "metadata": {},
   "outputs": [],
   "source": [
    "df['price'] = pd.to_numeric(df['price'].str.replace('\\xa0','').str.replace('от', '').str.replace(' ', ''))"
   ]
  },
  {
   "cell_type": "code",
   "execution_count": 36,
   "metadata": {},
   "outputs": [
    {
     "data": {
      "text/plain": [
       "array([' 2011 г.п.', ' 2022 г.п.', ' 1988 г.п.', ' 2013 г.п.',\n",
       "       ' 1980 г.п.', ' 1964 г.п.', ' 1979 г.п.', ' 1972 г.п.',\n",
       "       ' 2017 г.п.', ' 1990 г.п.', ' 1977 г.п.', ' 1989 г.п.',\n",
       "       ' 2018 г.п.', ' 2014 г.п.', ' 2021 г.п.', ' 2012 г.п.',\n",
       "       ' 2010 г.п.', ' 1973 г.п.', ' 2016 г.п.', ' 1974 г.п.',\n",
       "       ' 1960 г.п.', ' 2015 г.п.', ' 1962 г.п.', ' 1961 г.п.',\n",
       "       ' 1975 г.п.', ' 1978 г.п.', ' 1966 г.п.', ' 1979 г.п',\n",
       "       ' 2020 г.п.', ' 1976 г.п.', ' 1993 г.п.', ' 1995 г.п.',\n",
       "       ' 2008 г.п.', ' 2004 г.п.', ' 1982 г.п.', ' 2009 г.п.',\n",
       "       ' 1997 г.п.', ' 1963 г.п.', ' 1981 г.п.', ' 1987 г.п.',\n",
       "       ' 1967 г.п.', ' 2007 г.п.', ' 1984 г.п.', ' 2023 г.п.',\n",
       "       ' 1986 г.п.', ' 1983 г.п.', ' 2019 г.п.', ' 1991 г.п.'],\n",
       "      dtype=object)"
      ]
     },
     "execution_count": 36,
     "metadata": {},
     "output_type": "execute_result"
    }
   ],
   "source": [
    "df['year'].unique()"
   ]
  },
  {
   "cell_type": "code",
   "execution_count": 47,
   "metadata": {},
   "outputs": [],
   "source": [
    "df['year'] = df['year'].apply(lambda x: int(x[:x.find(' г.п')].strip()))"
   ]
  },
  {
   "cell_type": "code",
   "execution_count": 48,
   "metadata": {},
   "outputs": [
    {
     "data": {
      "text/html": [
       "<div>\n",
       "<style scoped>\n",
       "    .dataframe tbody tr th:only-of-type {\n",
       "        vertical-align: middle;\n",
       "    }\n",
       "\n",
       "    .dataframe tbody tr th {\n",
       "        vertical-align: top;\n",
       "    }\n",
       "\n",
       "    .dataframe thead th {\n",
       "        text-align: right;\n",
       "    }\n",
       "</style>\n",
       "<table border=\"1\" class=\"dataframe\">\n",
       "  <thead>\n",
       "    <tr style=\"text-align: right;\">\n",
       "      <th></th>\n",
       "      <th>id</th>\n",
       "      <th>room</th>\n",
       "      <th>area</th>\n",
       "      <th>fl/totfl</th>\n",
       "      <th>price</th>\n",
       "      <th>rayon</th>\n",
       "      <th>address</th>\n",
       "      <th>zhil complex</th>\n",
       "      <th>type</th>\n",
       "      <th>year</th>\n",
       "      <th>ceiling</th>\n",
       "      <th>floor</th>\n",
       "      <th>total_floors</th>\n",
       "      <th>cold_entry</th>\n",
       "    </tr>\n",
       "  </thead>\n",
       "  <tbody>\n",
       "    <tr>\n",
       "      <th>0</th>\n",
       "      <td>673148324</td>\n",
       "      <td>3</td>\n",
       "      <td>115.00</td>\n",
       "      <td>7/11</td>\n",
       "      <td>58000000</td>\n",
       "      <td>Ауэзовский р-н</td>\n",
       "      <td>мкр Жетысу-3 60</td>\n",
       "      <td>NaN</td>\n",
       "      <td>монолитный дом</td>\n",
       "      <td>2011</td>\n",
       "      <td>NaN</td>\n",
       "      <td>7</td>\n",
       "      <td>11</td>\n",
       "      <td>False</td>\n",
       "    </tr>\n",
       "    <tr>\n",
       "      <th>1</th>\n",
       "      <td>672974077</td>\n",
       "      <td>2</td>\n",
       "      <td>74.16</td>\n",
       "      <td>2/16</td>\n",
       "      <td>42500000</td>\n",
       "      <td>Бостандыкский р-н</td>\n",
       "      <td>Розыбакиева — Утепова</td>\n",
       "      <td>жил. комплекс Heaven</td>\n",
       "      <td>монолитный дом</td>\n",
       "      <td>2022</td>\n",
       "      <td>потолки 3м.</td>\n",
       "      <td>2</td>\n",
       "      <td>16</td>\n",
       "      <td>False</td>\n",
       "    </tr>\n",
       "  </tbody>\n",
       "</table>\n",
       "</div>"
      ],
      "text/plain": [
       "          id room    area fl/totfl     price               rayon  \\\n",
       "0  673148324    3  115.00     7/11  58000000      Ауэзовский р-н   \n",
       "1  672974077    2   74.16     2/16  42500000   Бостандыкский р-н   \n",
       "\n",
       "                  address           zhil complex             type  year  \\\n",
       "0         мкр Жетысу-3 60                    NaN   монолитный дом  2011   \n",
       "1   Розыбакиева — Утепова   жил. комплекс Heaven   монолитный дом  2022   \n",
       "\n",
       "        ceiling  floor  total_floors  cold_entry  \n",
       "0           NaN      7            11       False  \n",
       "1   потолки 3м.      2            16       False  "
      ]
     },
     "execution_count": 48,
     "metadata": {},
     "output_type": "execute_result"
    }
   ],
   "source": [
    "df.head(2)"
   ]
  },
  {
   "cell_type": "code",
   "execution_count": 51,
   "metadata": {},
   "outputs": [],
   "source": [
    "df['full_address'] = df['rayon'] + ', ' +df['address']"
   ]
  },
  {
   "cell_type": "code",
   "execution_count": 59,
   "metadata": {},
   "outputs": [],
   "source": [
    "df = df.rename(columns={'room':'num_rooms', 'rayon':'region', 'type':'house_type', 'year':'year_built', 'id':'krisha_id'}).drop(columns=['fl/totfl'])"
   ]
  },
  {
   "cell_type": "code",
   "execution_count": 60,
   "metadata": {},
   "outputs": [],
   "source": [
    "df.to_excel('../data/data2022.xlsx')"
   ]
  },
  {
   "cell_type": "code",
   "execution_count": null,
   "metadata": {},
   "outputs": [],
   "source": []
  }
 ],
 "metadata": {
  "kernelspec": {
   "display_name": "Python 3.10.11 64-bit (microsoft store)",
   "language": "python",
   "name": "python3"
  },
  "language_info": {
   "codemirror_mode": {
    "name": "ipython",
    "version": 3
   },
   "file_extension": ".py",
   "mimetype": "text/x-python",
   "name": "python",
   "nbconvert_exporter": "python",
   "pygments_lexer": "ipython3",
   "version": "3.10.11"
  },
  "orig_nbformat": 4,
  "vscode": {
   "interpreter": {
    "hash": "3b7e9cb8e453d6cda0fe8c8dd13f891a1f09162f0e7c66ffeae7751a7aecf00d"
   }
  }
 },
 "nbformat": 4,
 "nbformat_minor": 2
}
