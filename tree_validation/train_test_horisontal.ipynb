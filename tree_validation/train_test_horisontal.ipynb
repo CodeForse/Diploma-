{
 "cells": [
  {
   "cell_type": "code",
   "execution_count": 1,
   "metadata": {},
   "outputs": [],
   "source": [
    "from sklearn.tree import DecisionTreeRegressor\n",
    "from sklearn.model_selection import train_test_split, KFold\n",
    "from sklearn.preprocessing import OneHotEncoder\n",
    "import pandas as pd\n",
    "import numpy as np\n",
    "import seaborn as sns\n",
    "import matplotlib.pyplot as plt\n",
    "import sklearn\n",
    "from sklearn.model_selection import GridSearchCV, KFold\n",
    "from sklearn.ensemble import GradientBoostingRegressor, AdaBoostRegressor, BaggingRegressor, RandomForestRegressor"
   ]
  },
  {
   "cell_type": "code",
   "execution_count": 2,
   "metadata": {},
   "outputs": [],
   "source": [
    "df_join = pd.read_excel('../data/data_joined_16-23_no_new_buildings.xlsx')"
   ]
  },
  {
   "cell_type": "code",
   "execution_count": 14,
   "metadata": {},
   "outputs": [
    {
     "name": "stderr",
     "output_type": "stream",
     "text": [
      "C:\\Users\\User\\AppData\\Local\\Temp\\ipykernel_21100\\1026236143.py:2: FutureWarning: The default value of regex will change from True to False in a future version. In addition, single character regular expressions will *not* be treated as literal strings when regex=True.\n",
      "  df_infl['Year'] = pd.to_numeric(df_infl['Year'].str.replace('*',''))\n"
     ]
    }
   ],
   "source": [
    "df_infl = pd.read_excel('../data/constructed/inflation-rate-in-kazakhstan-2028.xlsx', sheet_name='Data')\n",
    "df_infl['Year'] = pd.to_numeric(df_infl['Year'].str.replace('*',''))\n",
    "df_infl=df_infl[pd.to_numeric(df_infl.Year)>=2016]"
   ]
  },
  {
   "cell_type": "code",
   "execution_count": 1,
   "metadata": {},
   "outputs": [
    {
     "ename": "NameError",
     "evalue": "name 'df_join' is not defined",
     "output_type": "error",
     "traceback": [
      "\u001b[1;31m---------------------------------------------------------------------------\u001b[0m",
      "\u001b[1;31mNameError\u001b[0m                                 Traceback (most recent call last)",
      "Cell \u001b[1;32mIn[1], line 1\u001b[0m\n\u001b[1;32m----> 1\u001b[0m \u001b[43mdf_join\u001b[49m[\u001b[38;5;124m'\u001b[39m\u001b[38;5;124mprice_per_area\u001b[39m\u001b[38;5;124m'\u001b[39m]\n",
      "\u001b[1;31mNameError\u001b[0m: name 'df_join' is not defined"
     ]
    }
   ],
   "source": []
  },
  {
   "cell_type": "markdown",
   "metadata": {},
   "source": [
    "Validation of overall model"
   ]
  },
  {
   "cell_type": "code",
   "execution_count": 50,
   "metadata": {},
   "outputs": [],
   "source": [
    "tree = DecisionTreeRegressor(criterion='absolute_error', min_samples_split=5)"
   ]
  },
  {
   "cell_type": "code",
   "execution_count": 15,
   "metadata": {},
   "outputs": [],
   "source": [
    "scores=[]\n",
    "kf = KFold(n_splits=5)\n",
    "for year in df_join.YEAR.unique():\n",
    "            \n",
    "    x, y = df_join[df_join['YEAR']==year][[ 'area','floor', 'building_age', 'total_floor', 'Latitude', 'Longitude','Regions_Alatau', 'Regions_Almaly', 'Regions_Almaty', 'Regions_Auezov',\n",
    "        'Regions_Bostandyq', 'Regions_Jetysu', 'Regions_Medeu',\n",
    "        'Regions_Nauryzbai', 'Regions_Turksib','YEAR']], df_join[df_join['YEAR']==year]['price']\n",
    "    kf.get_n_splits(x, y)\n",
    "    for train_index,test_index in kf.split(x, y):    \n",
    "        X_train, X_test, y_train, y_test = x.iloc[train_index], x.iloc[test_index], y.iloc[train_index], y.iloc[test_index]\n",
    "        tree.fit(X_train, y_train)\n",
    "        scores.append(tree.score(X_test, y_test))"
   ]
  },
  {
   "cell_type": "code",
   "execution_count": 64,
   "metadata": {},
   "outputs": [],
   "source": [
    "df_join['floor_interaction'] = df_join['floor']*df_join.total_floor"
   ]
  },
  {
   "cell_type": "code",
   "execution_count": 69,
   "metadata": {},
   "outputs": [],
   "source": [
    "scores=[]\n",
    "kf = KFold(n_splits=5, shuffle=True)\n",
    "tree = DecisionTreeRegressor(criterion='squared_error', min_samples_split=5, max_leaf_nodes=32)\n",
    "for year in [2023]:\n",
    "            \n",
    "    x, y = df_join[df_join['YEAR']==year][[ 'area','floor', 'building_age', 'total_floor', 'Latitude', 'Longitude','Regions_Alatau', 'Regions_Almaly', 'Regions_Almaty', 'Regions_Auezov',\n",
    "        'floor_interaction','Regions_Bostandyq', 'Regions_Jetysu', 'Regions_Medeu',\n",
    "        'Regions_Nauryzbai', 'Regions_Turksib','YEAR']], df_join[df_join['YEAR']==year]['price']\n",
    "    kf.get_n_splits(x, y)\n",
    "    for train_index,test_index in kf.split(x, y):    \n",
    "        X_train, X_test, y_train, y_test = x.iloc[train_index], x.iloc[test_index], y.iloc[train_index], y.iloc[test_index]\n",
    "        tree.fit(X_train, y_train)\n",
    "        scores.append(tree.score(X_test, y_test))"
   ]
  },
  {
   "cell_type": "code",
   "execution_count": 70,
   "metadata": {},
   "outputs": [
    {
     "data": {
      "text/plain": [
       "0.6730070530248629"
      ]
     },
     "execution_count": 70,
     "metadata": {},
     "output_type": "execute_result"
    }
   ],
   "source": [
    "np.mean(scores)"
   ]
  },
  {
   "cell_type": "code",
   "execution_count": 71,
   "metadata": {},
   "outputs": [],
   "source": [
    "import os\n",
    "os.environ[\"PATH\"] += os.pathsep + 'C:/Program Files/Graphviz/bin/'\n",
    "import graphviz \n",
    "\n",
    "dot_data = sklearn.tree.export_graphviz(tree, out_file=None, filled=True, feature_names=X_train.columns,  )\n",
    "graph = graphviz.Source(dot_data)"
   ]
  },
  {
   "cell_type": "code",
   "execution_count": 72,
   "metadata": {},
   "outputs": [
    {
     "data": {
      "image/svg+xml": "<?xml version=\"1.0\" encoding=\"UTF-8\" standalone=\"no\"?>\n<!DOCTYPE svg PUBLIC \"-//W3C//DTD SVG 1.1//EN\"\n \"http://www.w3.org/Graphics/SVG/1.1/DTD/svg11.dtd\">\n<!-- Generated by graphviz version 7.1.0 (20230121.1956)\n -->\n<!-- Title: Tree Pages: 1 -->\n<svg width=\"4627pt\" height=\"1309pt\"\n viewBox=\"0.00 0.00 4626.50 1309.00\" xmlns=\"http://www.w3.org/2000/svg\" xmlns:xlink=\"http://www.w3.org/1999/xlink\">\n<g id=\"graph0\" class=\"graph\" transform=\"scale(1 1) rotate(0) translate(4 1305)\">\n<title>Tree</title>\n<polygon fill=\"white\" stroke=\"none\" points=\"-4,4 -4,-1305 4622.5,-1305 4622.5,4 -4,4\"/>\n<!-- 0 -->\n<g id=\"node1\" class=\"node\">\n<title>0</title>\n<polygon fill=\"#fefcfb\" stroke=\"black\" points=\"2214,-1301 1948,-1301 1948,-1233 2214,-1233 2214,-1301\"/>\n<text text-anchor=\"middle\" x=\"2081\" y=\"-1285.8\" font-family=\"Helvetica,sans-Serif\" font-size=\"14.00\">area &lt;= 132.02</text>\n<text text-anchor=\"middle\" x=\"2081\" y=\"-1270.8\" font-family=\"Helvetica,sans-Serif\" font-size=\"14.00\">squared_error = 3398789055793014.5</text>\n<text text-anchor=\"middle\" x=\"2081\" y=\"-1255.8\" font-family=\"Helvetica,sans-Serif\" font-size=\"14.00\">samples = 21272</text>\n<text text-anchor=\"middle\" x=\"2081\" y=\"-1240.8\" font-family=\"Helvetica,sans-Serif\" font-size=\"14.00\">value = 52323198.575</text>\n</g>\n<!-- 1 -->\n<g id=\"node2\" class=\"node\">\n<title>1</title>\n<polygon fill=\"#fffdfc\" stroke=\"black\" points=\"1786,-1197 1528,-1197 1528,-1129 1786,-1129 1786,-1197\"/>\n<text text-anchor=\"middle\" x=\"1657\" y=\"-1181.8\" font-family=\"Helvetica,sans-Serif\" font-size=\"14.00\">area &lt;= 77.55</text>\n<text text-anchor=\"middle\" x=\"1657\" y=\"-1166.8\" font-family=\"Helvetica,sans-Serif\" font-size=\"14.00\">squared_error = 648352650617364.8</text>\n<text text-anchor=\"middle\" x=\"1657\" y=\"-1151.8\" font-family=\"Helvetica,sans-Serif\" font-size=\"14.00\">samples = 19885</text>\n<text text-anchor=\"middle\" x=\"1657\" y=\"-1136.8\" font-family=\"Helvetica,sans-Serif\" font-size=\"14.00\">value = 42808113.375</text>\n</g>\n<!-- 0&#45;&gt;1 -->\n<g id=\"edge1\" class=\"edge\">\n<title>0&#45;&gt;1</title>\n<path fill=\"none\" stroke=\"black\" d=\"M1947.72,-1233.94C1899.96,-1222.45 1846,-1209.47 1797.64,-1197.83\"/>\n<polygon fill=\"black\" stroke=\"black\" points=\"1798.46,-1194.43 1787.92,-1195.49 1796.82,-1201.24 1798.46,-1194.43\"/>\n<text text-anchor=\"middle\" x=\"1799.5\" y=\"-1212.76\" font-family=\"Helvetica,sans-Serif\" font-size=\"14.00\">True</text>\n</g>\n<!-- 2 -->\n<g id=\"node17\" class=\"node\">\n<title>2</title>\n<polygon fill=\"#fcf1ea\" stroke=\"black\" points=\"2510.5,-1197 2219.5,-1197 2219.5,-1129 2510.5,-1129 2510.5,-1197\"/>\n<text text-anchor=\"middle\" x=\"2365\" y=\"-1181.8\" font-family=\"Helvetica,sans-Serif\" font-size=\"14.00\">area &lt;= 204.5</text>\n<text text-anchor=\"middle\" x=\"2365\" y=\"-1166.8\" font-family=\"Helvetica,sans-Serif\" font-size=\"14.00\">squared_error = 2.292393998336787e+16</text>\n<text text-anchor=\"middle\" x=\"2365\" y=\"-1151.8\" font-family=\"Helvetica,sans-Serif\" font-size=\"14.00\">samples = 1387</text>\n<text text-anchor=\"middle\" x=\"2365\" y=\"-1136.8\" font-family=\"Helvetica,sans-Serif\" font-size=\"14.00\">value = 188738100.678</text>\n</g>\n<!-- 0&#45;&gt;2 -->\n<g id=\"edge16\" class=\"edge\">\n<title>0&#45;&gt;2</title>\n<path fill=\"none\" stroke=\"black\" d=\"M2173.99,-1232.6C2201.82,-1222.61 2232.51,-1211.58 2261,-1201.35\"/>\n<polygon fill=\"black\" stroke=\"black\" points=\"2262.15,-1204.66 2270.37,-1197.99 2259.78,-1198.07 2262.15,-1204.66\"/>\n<text text-anchor=\"middle\" x=\"2261.14\" y=\"-1216.39\" font-family=\"Helvetica,sans-Serif\" font-size=\"14.00\">False</text>\n</g>\n<!-- 5 -->\n<g id=\"node3\" class=\"node\">\n<title>5</title>\n<polygon fill=\"#fffefd\" stroke=\"black\" points=\"954,-1093 696,-1093 696,-1025 954,-1025 954,-1093\"/>\n<text text-anchor=\"middle\" x=\"825\" y=\"-1077.8\" font-family=\"Helvetica,sans-Serif\" font-size=\"14.00\">area &lt;= 48.36</text>\n<text text-anchor=\"middle\" x=\"825\" y=\"-1062.8\" font-family=\"Helvetica,sans-Serif\" font-size=\"14.00\">squared_error = 202686227366539.5</text>\n<text text-anchor=\"middle\" x=\"825\" y=\"-1047.8\" font-family=\"Helvetica,sans-Serif\" font-size=\"14.00\">samples = 16027</text>\n<text text-anchor=\"middle\" x=\"825\" y=\"-1032.8\" font-family=\"Helvetica,sans-Serif\" font-size=\"14.00\">value = 34763840.207</text>\n</g>\n<!-- 1&#45;&gt;5 -->\n<g id=\"edge2\" class=\"edge\">\n<title>1&#45;&gt;5</title>\n<path fill=\"none\" stroke=\"black\" d=\"M1527.91,-1146.17C1375.47,-1127.49 1122.81,-1096.51 965.55,-1077.23\"/>\n<polygon fill=\"black\" stroke=\"black\" points=\"966.24,-1073.79 955.89,-1076.05 965.39,-1080.74 966.24,-1073.79\"/>\n</g>\n<!-- 6 -->\n<g id=\"node10\" class=\"node\">\n<title>6</title>\n<polygon fill=\"#fefaf8\" stroke=\"black\" points=\"1790,-1093 1524,-1093 1524,-1025 1790,-1025 1790,-1093\"/>\n<text text-anchor=\"middle\" x=\"1657\" y=\"-1077.8\" font-family=\"Helvetica,sans-Serif\" font-size=\"14.00\">area &lt;= 101.95</text>\n<text text-anchor=\"middle\" x=\"1657\" y=\"-1062.8\" font-family=\"Helvetica,sans-Serif\" font-size=\"14.00\">squared_error = 1114185919029407.0</text>\n<text text-anchor=\"middle\" x=\"1657\" y=\"-1047.8\" font-family=\"Helvetica,sans-Serif\" font-size=\"14.00\">samples = 3858</text>\n<text text-anchor=\"middle\" x=\"1657\" y=\"-1032.8\" font-family=\"Helvetica,sans-Serif\" font-size=\"14.00\">value = 76225833.97</text>\n</g>\n<!-- 1&#45;&gt;6 -->\n<g id=\"edge9\" class=\"edge\">\n<title>1&#45;&gt;6</title>\n<path fill=\"none\" stroke=\"black\" d=\"M1657,-1128.6C1657,-1121.03 1657,-1112.87 1657,-1104.9\"/>\n<polygon fill=\"black\" stroke=\"black\" points=\"1660.5,-1104.99 1657,-1094.99 1653.5,-1104.99 1660.5,-1104.99\"/>\n</g>\n<!-- 13 -->\n<g id=\"node4\" class=\"node\">\n<title>13</title>\n<polygon fill=\"#fffefe\" stroke=\"black\" points=\"534,-989 276,-989 276,-921 534,-921 534,-989\"/>\n<text text-anchor=\"middle\" x=\"405\" y=\"-973.8\" font-family=\"Helvetica,sans-Serif\" font-size=\"14.00\">area &lt;= 31.75</text>\n<text text-anchor=\"middle\" x=\"405\" y=\"-958.8\" font-family=\"Helvetica,sans-Serif\" font-size=\"14.00\">squared_error = 97793711230197.75</text>\n<text text-anchor=\"middle\" x=\"405\" y=\"-943.8\" font-family=\"Helvetica,sans-Serif\" font-size=\"14.00\">samples = 7617</text>\n<text text-anchor=\"middle\" x=\"405\" y=\"-928.8\" font-family=\"Helvetica,sans-Serif\" font-size=\"14.00\">value = 26177562.056</text>\n</g>\n<!-- 5&#45;&gt;13 -->\n<g id=\"edge3\" class=\"edge\">\n<title>5&#45;&gt;13</title>\n<path fill=\"none\" stroke=\"black\" d=\"M695.56,-1026.56C647.94,-1015 593.81,-1001.85 545.28,-990.07\"/>\n<polygon fill=\"black\" stroke=\"black\" points=\"546.39,-986.74 535.85,-987.78 544.74,-993.54 546.39,-986.74\"/>\n</g>\n<!-- 14 -->\n<g id=\"node7\" class=\"node\">\n<title>14</title>\n<polygon fill=\"#fffdfc\" stroke=\"black\" points=\"954,-989 696,-989 696,-921 954,-921 954,-989\"/>\n<text text-anchor=\"middle\" x=\"825\" y=\"-973.8\" font-family=\"Helvetica,sans-Serif\" font-size=\"14.00\">Regions_Bostandyq &lt;= 0.5</text>\n<text text-anchor=\"middle\" x=\"825\" y=\"-958.8\" font-family=\"Helvetica,sans-Serif\" font-size=\"14.00\">squared_error = 170439244294327.0</text>\n<text text-anchor=\"middle\" x=\"825\" y=\"-943.8\" font-family=\"Helvetica,sans-Serif\" font-size=\"14.00\">samples = 8410</text>\n<text text-anchor=\"middle\" x=\"825\" y=\"-928.8\" font-family=\"Helvetica,sans-Serif\" font-size=\"14.00\">value = 42540496.648</text>\n</g>\n<!-- 5&#45;&gt;14 -->\n<g id=\"edge6\" class=\"edge\">\n<title>5&#45;&gt;14</title>\n<path fill=\"none\" stroke=\"black\" d=\"M825,-1024.6C825,-1017.03 825,-1008.87 825,-1000.9\"/>\n<polygon fill=\"black\" stroke=\"black\" points=\"828.5,-1000.99 825,-990.99 821.5,-1000.99 828.5,-1000.99\"/>\n</g>\n<!-- 61 -->\n<g id=\"node5\" class=\"node\">\n<title>61</title>\n<polygon fill=\"#ffffff\" stroke=\"black\" points=\"258,-877.5 0,-877.5 0,-824.5 258,-824.5 258,-877.5\"/>\n<text text-anchor=\"middle\" x=\"129\" y=\"-862.3\" font-family=\"Helvetica,sans-Serif\" font-size=\"14.00\">squared_error = 39921323076852.47</text>\n<text text-anchor=\"middle\" x=\"129\" y=\"-847.3\" font-family=\"Helvetica,sans-Serif\" font-size=\"14.00\">samples = 1433</text>\n<text text-anchor=\"middle\" x=\"129\" y=\"-832.3\" font-family=\"Helvetica,sans-Serif\" font-size=\"14.00\">value = 16619853.627</text>\n</g>\n<!-- 13&#45;&gt;61 -->\n<g id=\"edge4\" class=\"edge\">\n<title>13&#45;&gt;61</title>\n<path fill=\"none\" stroke=\"black\" d=\"M314.63,-920.6C280.72,-908.07 242.45,-893.93 209.5,-881.75\"/>\n<polygon fill=\"black\" stroke=\"black\" points=\"211.01,-878.58 200.42,-878.39 208.58,-885.14 211.01,-878.58\"/>\n</g>\n<!-- 62 -->\n<g id=\"node6\" class=\"node\">\n<title>62</title>\n<polygon fill=\"#fffefe\" stroke=\"black\" points=\"534,-877.5 276,-877.5 276,-824.5 534,-824.5 534,-877.5\"/>\n<text text-anchor=\"middle\" x=\"405\" y=\"-862.3\" font-family=\"Helvetica,sans-Serif\" font-size=\"14.00\">squared_error = 85130843921938.62</text>\n<text text-anchor=\"middle\" x=\"405\" y=\"-847.3\" font-family=\"Helvetica,sans-Serif\" font-size=\"14.00\">samples = 6184</text>\n<text text-anchor=\"middle\" x=\"405\" y=\"-832.3\" font-family=\"Helvetica,sans-Serif\" font-size=\"14.00\">value = 28392341.516</text>\n</g>\n<!-- 13&#45;&gt;62 -->\n<g id=\"edge5\" class=\"edge\">\n<title>13&#45;&gt;62</title>\n<path fill=\"none\" stroke=\"black\" d=\"M405,-920.6C405,-910.47 405,-899.28 405,-888.93\"/>\n<polygon fill=\"black\" stroke=\"black\" points=\"408.5,-889.22 405,-879.22 401.5,-889.22 408.5,-889.22\"/>\n</g>\n<!-- 47 -->\n<g id=\"node8\" class=\"node\">\n<title>47</title>\n<polygon fill=\"#fffdfc\" stroke=\"black\" points=\"818,-877.5 552,-877.5 552,-824.5 818,-824.5 818,-877.5\"/>\n<text text-anchor=\"middle\" x=\"685\" y=\"-862.3\" font-family=\"Helvetica,sans-Serif\" font-size=\"14.00\">squared_error = 135164857441316.75</text>\n<text text-anchor=\"middle\" x=\"685\" y=\"-847.3\" font-family=\"Helvetica,sans-Serif\" font-size=\"14.00\">samples = 6100</text>\n<text text-anchor=\"middle\" x=\"685\" y=\"-832.3\" font-family=\"Helvetica,sans-Serif\" font-size=\"14.00\">value = 39379668.594</text>\n</g>\n<!-- 14&#45;&gt;47 -->\n<g id=\"edge7\" class=\"edge\">\n<title>14&#45;&gt;47</title>\n<path fill=\"none\" stroke=\"black\" d=\"M779.16,-920.6C763.16,-908.94 745.24,-895.89 729.36,-884.32\"/>\n<polygon fill=\"black\" stroke=\"black\" points=\"731.65,-881.66 721.51,-878.6 727.53,-887.31 731.65,-881.66\"/>\n</g>\n<!-- 48 -->\n<g id=\"node9\" class=\"node\">\n<title>48</title>\n<polygon fill=\"#fefcfb\" stroke=\"black\" points=\"1094,-877.5 836,-877.5 836,-824.5 1094,-824.5 1094,-877.5\"/>\n<text text-anchor=\"middle\" x=\"965\" y=\"-862.3\" font-family=\"Helvetica,sans-Serif\" font-size=\"14.00\">squared_error = 167536677002380.0</text>\n<text text-anchor=\"middle\" x=\"965\" y=\"-847.3\" font-family=\"Helvetica,sans-Serif\" font-size=\"14.00\">samples = 2310</text>\n<text text-anchor=\"middle\" x=\"965\" y=\"-832.3\" font-family=\"Helvetica,sans-Serif\" font-size=\"14.00\">value = 50887272.03</text>\n</g>\n<!-- 14&#45;&gt;48 -->\n<g id=\"edge8\" class=\"edge\">\n<title>14&#45;&gt;48</title>\n<path fill=\"none\" stroke=\"black\" d=\"M870.84,-920.6C886.84,-908.94 904.76,-895.89 920.64,-884.32\"/>\n<polygon fill=\"black\" stroke=\"black\" points=\"922.47,-887.31 928.49,-878.6 918.35,-881.66 922.47,-887.31\"/>\n</g>\n<!-- 17 -->\n<g id=\"node11\" class=\"node\">\n<title>17</title>\n<polygon fill=\"#fefbf9\" stroke=\"black\" points=\"1646,-989 1388,-989 1388,-921 1646,-921 1646,-989\"/>\n<text text-anchor=\"middle\" x=\"1517\" y=\"-973.8\" font-family=\"Helvetica,sans-Serif\" font-size=\"14.00\">Longitude &lt;= 76.867</text>\n<text text-anchor=\"middle\" x=\"1517\" y=\"-958.8\" font-family=\"Helvetica,sans-Serif\" font-size=\"14.00\">squared_error = 702396964266598.5</text>\n<text text-anchor=\"middle\" x=\"1517\" y=\"-943.8\" font-family=\"Helvetica,sans-Serif\" font-size=\"14.00\">samples = 2430</text>\n<text text-anchor=\"middle\" x=\"1517\" y=\"-928.8\" font-family=\"Helvetica,sans-Serif\" font-size=\"14.00\">value = 64535661.082</text>\n</g>\n<!-- 6&#45;&gt;17 -->\n<g id=\"edge10\" class=\"edge\">\n<title>6&#45;&gt;17</title>\n<path fill=\"none\" stroke=\"black\" d=\"M1611.16,-1024.6C1598.71,-1015.53 1585.1,-1005.61 1572.19,-996.21\"/>\n<polygon fill=\"black\" stroke=\"black\" points=\"1574.31,-993.42 1564.17,-990.36 1570.19,-999.08 1574.31,-993.42\"/>\n</g>\n<!-- 18 -->\n<g id=\"node14\" class=\"node\">\n<title>18</title>\n<polygon fill=\"#fef9f5\" stroke=\"black\" points=\"1930,-989 1664,-989 1664,-921 1930,-921 1930,-989\"/>\n<text text-anchor=\"middle\" x=\"1797\" y=\"-973.8\" font-family=\"Helvetica,sans-Serif\" font-size=\"14.00\">floor_interaction &lt;= 791.0</text>\n<text text-anchor=\"middle\" x=\"1797\" y=\"-958.8\" font-family=\"Helvetica,sans-Serif\" font-size=\"14.00\">squared_error = 1186638189888470.0</text>\n<text text-anchor=\"middle\" x=\"1797\" y=\"-943.8\" font-family=\"Helvetica,sans-Serif\" font-size=\"14.00\">samples = 1428</text>\n<text text-anchor=\"middle\" x=\"1797\" y=\"-928.8\" font-family=\"Helvetica,sans-Serif\" font-size=\"14.00\">value = 96118775.23</text>\n</g>\n<!-- 6&#45;&gt;18 -->\n<g id=\"edge13\" class=\"edge\">\n<title>6&#45;&gt;18</title>\n<path fill=\"none\" stroke=\"black\" d=\"M1702.84,-1024.6C1715.29,-1015.53 1728.9,-1005.61 1741.81,-996.21\"/>\n<polygon fill=\"black\" stroke=\"black\" points=\"1743.81,-999.08 1749.83,-990.36 1739.69,-993.42 1743.81,-999.08\"/>\n</g>\n<!-- 57 -->\n<g id=\"node12\" class=\"node\">\n<title>57</title>\n<polygon fill=\"#fefcfb\" stroke=\"black\" points=\"1370,-877.5 1112,-877.5 1112,-824.5 1370,-824.5 1370,-877.5\"/>\n<text text-anchor=\"middle\" x=\"1241\" y=\"-862.3\" font-family=\"Helvetica,sans-Serif\" font-size=\"14.00\">squared_error = 169435761261056.0</text>\n<text text-anchor=\"middle\" x=\"1241\" y=\"-847.3\" font-family=\"Helvetica,sans-Serif\" font-size=\"14.00\">samples = 678</text>\n<text text-anchor=\"middle\" x=\"1241\" y=\"-832.3\" font-family=\"Helvetica,sans-Serif\" font-size=\"14.00\">value = 50025659.111</text>\n</g>\n<!-- 17&#45;&gt;57 -->\n<g id=\"edge11\" class=\"edge\">\n<title>17&#45;&gt;57</title>\n<path fill=\"none\" stroke=\"black\" d=\"M1426.63,-920.6C1392.72,-908.07 1354.45,-893.93 1321.5,-881.75\"/>\n<polygon fill=\"black\" stroke=\"black\" points=\"1323.01,-878.58 1312.42,-878.39 1320.58,-885.14 1323.01,-878.58\"/>\n</g>\n<!-- 58 -->\n<g id=\"node13\" class=\"node\">\n<title>58</title>\n<polygon fill=\"#fefbf8\" stroke=\"black\" points=\"1646,-877.5 1388,-877.5 1388,-824.5 1646,-824.5 1646,-877.5\"/>\n<text text-anchor=\"middle\" x=\"1517\" y=\"-862.3\" font-family=\"Helvetica,sans-Serif\" font-size=\"14.00\">squared_error = 795639335716158.0</text>\n<text text-anchor=\"middle\" x=\"1517\" y=\"-847.3\" font-family=\"Helvetica,sans-Serif\" font-size=\"14.00\">samples = 1752</text>\n<text text-anchor=\"middle\" x=\"1517\" y=\"-832.3\" font-family=\"Helvetica,sans-Serif\" font-size=\"14.00\">value = 70150833.078</text>\n</g>\n<!-- 17&#45;&gt;58 -->\n<g id=\"edge12\" class=\"edge\">\n<title>17&#45;&gt;58</title>\n<path fill=\"none\" stroke=\"black\" d=\"M1517,-920.6C1517,-910.47 1517,-899.28 1517,-888.93\"/>\n<polygon fill=\"black\" stroke=\"black\" points=\"1520.5,-889.22 1517,-879.22 1513.5,-889.22 1520.5,-889.22\"/>\n</g>\n<!-- 33 -->\n<g id=\"node15\" class=\"node\">\n<title>33</title>\n<polygon fill=\"#fef9f5\" stroke=\"black\" points=\"1930,-877.5 1664,-877.5 1664,-824.5 1930,-824.5 1930,-877.5\"/>\n<text text-anchor=\"middle\" x=\"1797\" y=\"-862.3\" font-family=\"Helvetica,sans-Serif\" font-size=\"14.00\">squared_error = 1000208963740044.0</text>\n<text text-anchor=\"middle\" x=\"1797\" y=\"-847.3\" font-family=\"Helvetica,sans-Serif\" font-size=\"14.00\">samples = 1424</text>\n<text text-anchor=\"middle\" x=\"1797\" y=\"-832.3\" font-family=\"Helvetica,sans-Serif\" font-size=\"14.00\">value = 95405274.598</text>\n</g>\n<!-- 18&#45;&gt;33 -->\n<g id=\"edge14\" class=\"edge\">\n<title>18&#45;&gt;33</title>\n<path fill=\"none\" stroke=\"black\" d=\"M1797,-920.6C1797,-910.47 1797,-899.28 1797,-888.93\"/>\n<polygon fill=\"black\" stroke=\"black\" points=\"1800.5,-889.22 1797,-879.22 1793.5,-889.22 1800.5,-889.22\"/>\n</g>\n<!-- 34 -->\n<g id=\"node16\" class=\"node\">\n<title>34</title>\n<polygon fill=\"#fae5d5\" stroke=\"black\" points=\"2214,-877.5 1948,-877.5 1948,-824.5 2214,-824.5 2214,-877.5\"/>\n<text text-anchor=\"middle\" x=\"2081\" y=\"-862.3\" font-family=\"Helvetica,sans-Serif\" font-size=\"14.00\">squared_error = 2855046874989504.0</text>\n<text text-anchor=\"middle\" x=\"2081\" y=\"-847.3\" font-family=\"Helvetica,sans-Serif\" font-size=\"14.00\">samples = 4</text>\n<text text-anchor=\"middle\" x=\"2081\" y=\"-832.3\" font-family=\"Helvetica,sans-Serif\" font-size=\"14.00\">value = 350125000.0</text>\n</g>\n<!-- 18&#45;&gt;34 -->\n<g id=\"edge15\" class=\"edge\">\n<title>18&#45;&gt;34</title>\n<path fill=\"none\" stroke=\"black\" d=\"M1889.99,-920.6C1924.88,-908.07 1964.27,-893.93 1998.17,-881.75\"/>\n<polygon fill=\"black\" stroke=\"black\" points=\"1999.32,-885.05 2007.55,-878.38 1996.95,-878.47 1999.32,-885.05\"/>\n</g>\n<!-- 3 -->\n<g id=\"node18\" class=\"node\">\n<title>3</title>\n<polygon fill=\"#fdf4ee\" stroke=\"black\" points=\"2498,-1093 2232,-1093 2232,-1025 2498,-1025 2498,-1093\"/>\n<text text-anchor=\"middle\" x=\"2365\" y=\"-1077.8\" font-family=\"Helvetica,sans-Serif\" font-size=\"14.00\">area &lt;= 167.5</text>\n<text text-anchor=\"middle\" x=\"2365\" y=\"-1062.8\" font-family=\"Helvetica,sans-Serif\" font-size=\"14.00\">squared_error = 3319656033752196.0</text>\n<text text-anchor=\"middle\" x=\"2365\" y=\"-1047.8\" font-family=\"Helvetica,sans-Serif\" font-size=\"14.00\">samples = 1016</text>\n<text text-anchor=\"middle\" x=\"2365\" y=\"-1032.8\" font-family=\"Helvetica,sans-Serif\" font-size=\"14.00\">value = 148907442.007</text>\n</g>\n<!-- 2&#45;&gt;3 -->\n<g id=\"edge17\" class=\"edge\">\n<title>2&#45;&gt;3</title>\n<path fill=\"none\" stroke=\"black\" d=\"M2365,-1128.6C2365,-1121.03 2365,-1112.87 2365,-1104.9\"/>\n<polygon fill=\"black\" stroke=\"black\" points=\"2368.5,-1104.99 2365,-1094.99 2361.5,-1104.99 2368.5,-1104.99\"/>\n</g>\n<!-- 4 -->\n<g id=\"node23\" class=\"node\">\n<title>4</title>\n<polygon fill=\"#fae9dc\" stroke=\"black\" points=\"3091.5,-1093 2800.5,-1093 2800.5,-1025 3091.5,-1025 3091.5,-1093\"/>\n<text text-anchor=\"middle\" x=\"2946\" y=\"-1077.8\" font-family=\"Helvetica,sans-Serif\" font-size=\"14.00\">floor_interaction &lt;= 838.0</text>\n<text text-anchor=\"middle\" x=\"2946\" y=\"-1062.8\" font-family=\"Helvetica,sans-Serif\" font-size=\"14.00\">squared_error = 6.036847700261688e+16</text>\n<text text-anchor=\"middle\" x=\"2946\" y=\"-1047.8\" font-family=\"Helvetica,sans-Serif\" font-size=\"14.00\">samples = 371</text>\n<text text-anchor=\"middle\" x=\"2946\" y=\"-1032.8\" font-family=\"Helvetica,sans-Serif\" font-size=\"14.00\">value = 297816130.892</text>\n</g>\n<!-- 2&#45;&gt;4 -->\n<g id=\"edge22\" class=\"edge\">\n<title>2&#45;&gt;4</title>\n<path fill=\"none\" stroke=\"black\" d=\"M2510.86,-1136.39C2595.55,-1121.52 2702.27,-1102.79 2788.82,-1087.59\"/>\n<polygon fill=\"black\" stroke=\"black\" points=\"2789.34,-1091.06 2798.59,-1085.88 2788.13,-1084.16 2789.34,-1091.06\"/>\n</g>\n<!-- 25 -->\n<g id=\"node19\" class=\"node\">\n<title>25</title>\n<polygon fill=\"#fdf6f1\" stroke=\"black\" points=\"2356,-981.5 2090,-981.5 2090,-928.5 2356,-928.5 2356,-981.5\"/>\n<text text-anchor=\"middle\" x=\"2223\" y=\"-966.3\" font-family=\"Helvetica,sans-Serif\" font-size=\"14.00\">squared_error = 1661041908714508.0</text>\n<text text-anchor=\"middle\" x=\"2223\" y=\"-951.3\" font-family=\"Helvetica,sans-Serif\" font-size=\"14.00\">samples = 706</text>\n<text text-anchor=\"middle\" x=\"2223\" y=\"-936.3\" font-family=\"Helvetica,sans-Serif\" font-size=\"14.00\">value = 132315162.086</text>\n</g>\n<!-- 3&#45;&gt;25 -->\n<g id=\"edge18\" class=\"edge\">\n<title>3&#45;&gt;25</title>\n<path fill=\"none\" stroke=\"black\" d=\"M2318.5,-1024.6C2302.28,-1012.94 2284.1,-999.89 2268,-988.32\"/>\n<polygon fill=\"black\" stroke=\"black\" points=\"2270.18,-985.58 2260.02,-982.59 2266.1,-991.27 2270.18,-985.58\"/>\n</g>\n<!-- 26 -->\n<g id=\"node20\" class=\"node\">\n<title>26</title>\n<polygon fill=\"#fcf1ea\" stroke=\"black\" points=\"2640,-989 2374,-989 2374,-921 2640,-921 2640,-989\"/>\n<text text-anchor=\"middle\" x=\"2507\" y=\"-973.8\" font-family=\"Helvetica,sans-Serif\" font-size=\"14.00\">total_floor &lt;= 20.5</text>\n<text text-anchor=\"middle\" x=\"2507\" y=\"-958.8\" font-family=\"Helvetica,sans-Serif\" font-size=\"14.00\">squared_error = 5042132689555376.0</text>\n<text text-anchor=\"middle\" x=\"2507\" y=\"-943.8\" font-family=\"Helvetica,sans-Serif\" font-size=\"14.00\">samples = 310</text>\n<text text-anchor=\"middle\" x=\"2507\" y=\"-928.8\" font-family=\"Helvetica,sans-Serif\" font-size=\"14.00\">value = 186695021.439</text>\n</g>\n<!-- 3&#45;&gt;26 -->\n<g id=\"edge19\" class=\"edge\">\n<title>3&#45;&gt;26</title>\n<path fill=\"none\" stroke=\"black\" d=\"M2411.5,-1024.6C2424.25,-1015.44 2438.2,-1005.42 2451.4,-995.94\"/>\n<polygon fill=\"black\" stroke=\"black\" points=\"2453.09,-999.03 2459.17,-990.36 2449.01,-993.35 2453.09,-999.03\"/>\n</g>\n<!-- 59 -->\n<g id=\"node21\" class=\"node\">\n<title>59</title>\n<polygon fill=\"#fcf2eb\" stroke=\"black\" points=\"2498,-877.5 2232,-877.5 2232,-824.5 2498,-824.5 2498,-877.5\"/>\n<text text-anchor=\"middle\" x=\"2365\" y=\"-862.3\" font-family=\"Helvetica,sans-Serif\" font-size=\"14.00\">squared_error = 4744269962143300.0</text>\n<text text-anchor=\"middle\" x=\"2365\" y=\"-847.3\" font-family=\"Helvetica,sans-Serif\" font-size=\"14.00\">samples = 278</text>\n<text text-anchor=\"middle\" x=\"2365\" y=\"-832.3\" font-family=\"Helvetica,sans-Serif\" font-size=\"14.00\">value = 178494088.655</text>\n</g>\n<!-- 26&#45;&gt;59 -->\n<g id=\"edge20\" class=\"edge\">\n<title>26&#45;&gt;59</title>\n<path fill=\"none\" stroke=\"black\" d=\"M2460.5,-920.6C2444.28,-908.94 2426.1,-895.89 2410,-884.32\"/>\n<polygon fill=\"black\" stroke=\"black\" points=\"2412.18,-881.58 2402.02,-878.59 2408.1,-887.27 2412.18,-881.58\"/>\n</g>\n<!-- 60 -->\n<g id=\"node22\" class=\"node\">\n<title>60</title>\n<polygon fill=\"#fbece1\" stroke=\"black\" points=\"2782,-877.5 2516,-877.5 2516,-824.5 2782,-824.5 2782,-877.5\"/>\n<text text-anchor=\"middle\" x=\"2649\" y=\"-862.3\" font-family=\"Helvetica,sans-Serif\" font-size=\"14.00\">squared_error = 1969598701171680.0</text>\n<text text-anchor=\"middle\" x=\"2649\" y=\"-847.3\" font-family=\"Helvetica,sans-Serif\" font-size=\"14.00\">samples = 32</text>\n<text text-anchor=\"middle\" x=\"2649\" y=\"-832.3\" font-family=\"Helvetica,sans-Serif\" font-size=\"14.00\">value = 257940625.0</text>\n</g>\n<!-- 26&#45;&gt;60 -->\n<g id=\"edge21\" class=\"edge\">\n<title>26&#45;&gt;60</title>\n<path fill=\"none\" stroke=\"black\" d=\"M2553.5,-920.6C2569.72,-908.94 2587.9,-895.89 2604,-884.32\"/>\n<polygon fill=\"black\" stroke=\"black\" points=\"2605.9,-887.27 2611.98,-878.59 2601.82,-881.58 2605.9,-887.27\"/>\n</g>\n<!-- 7 -->\n<g id=\"node24\" class=\"node\">\n<title>7</title>\n<polygon fill=\"#fbeadd\" stroke=\"black\" points=\"3091.5,-989 2800.5,-989 2800.5,-921 3091.5,-921 3091.5,-989\"/>\n<text text-anchor=\"middle\" x=\"2946\" y=\"-973.8\" font-family=\"Helvetica,sans-Serif\" font-size=\"14.00\">area &lt;= 482.5</text>\n<text text-anchor=\"middle\" x=\"2946\" y=\"-958.8\" font-family=\"Helvetica,sans-Serif\" font-size=\"14.00\">squared_error = 4.853189061598853e+16</text>\n<text text-anchor=\"middle\" x=\"2946\" y=\"-943.8\" font-family=\"Helvetica,sans-Serif\" font-size=\"14.00\">samples = 367</text>\n<text text-anchor=\"middle\" x=\"2946\" y=\"-928.8\" font-family=\"Helvetica,sans-Serif\" font-size=\"14.00\">value = 286211947.035</text>\n</g>\n<!-- 4&#45;&gt;7 -->\n<g id=\"edge23\" class=\"edge\">\n<title>4&#45;&gt;7</title>\n<path fill=\"none\" stroke=\"black\" d=\"M2946,-1024.6C2946,-1017.03 2946,-1008.87 2946,-1000.9\"/>\n<polygon fill=\"black\" stroke=\"black\" points=\"2949.5,-1000.99 2946,-990.99 2942.5,-1000.99 2949.5,-1000.99\"/>\n</g>\n<!-- 8 -->\n<g id=\"node63\" class=\"node\">\n<title>8</title>\n<polygon fill=\"#e99457\" stroke=\"black\" points=\"3368,-981.5 3110,-981.5 3110,-928.5 3368,-928.5 3368,-981.5\"/>\n<text text-anchor=\"middle\" x=\"3239\" y=\"-966.3\" font-family=\"Helvetica,sans-Serif\" font-size=\"14.00\">squared_error = 468750006235392.0</text>\n<text text-anchor=\"middle\" x=\"3239\" y=\"-951.3\" font-family=\"Helvetica,sans-Serif\" font-size=\"14.00\">samples = 4</text>\n<text text-anchor=\"middle\" x=\"3239\" y=\"-936.3\" font-family=\"Helvetica,sans-Serif\" font-size=\"14.00\">value = 1362499999.75</text>\n</g>\n<!-- 4&#45;&gt;8 -->\n<g id=\"edge62\" class=\"edge\">\n<title>4&#45;&gt;8</title>\n<path fill=\"none\" stroke=\"black\" d=\"M3041.94,-1024.6C3078.09,-1012.02 3118.92,-997.8 3154,-985.59\"/>\n<polygon fill=\"black\" stroke=\"black\" points=\"3154.97,-988.96 3163.26,-982.37 3152.67,-982.35 3154.97,-988.96\"/>\n</g>\n<!-- 9 -->\n<g id=\"node25\" class=\"node\">\n<title>9</title>\n<polygon fill=\"#fbebe0\" stroke=\"black\" points=\"3091.5,-885 2800.5,-885 2800.5,-817 3091.5,-817 3091.5,-885\"/>\n<text text-anchor=\"middle\" x=\"2946\" y=\"-869.8\" font-family=\"Helvetica,sans-Serif\" font-size=\"14.00\">area &lt;= 296.05</text>\n<text text-anchor=\"middle\" x=\"2946\" y=\"-854.8\" font-family=\"Helvetica,sans-Serif\" font-size=\"14.00\">squared_error = 2.959380353063432e+16</text>\n<text text-anchor=\"middle\" x=\"2946\" y=\"-839.8\" font-family=\"Helvetica,sans-Serif\" font-size=\"14.00\">samples = 345</text>\n<text text-anchor=\"middle\" x=\"2946\" y=\"-824.8\" font-family=\"Helvetica,sans-Serif\" font-size=\"14.00\">value = 264471114.652</text>\n</g>\n<!-- 7&#45;&gt;9 -->\n<g id=\"edge24\" class=\"edge\">\n<title>7&#45;&gt;9</title>\n<path fill=\"none\" stroke=\"black\" d=\"M2946,-920.6C2946,-913.03 2946,-904.87 2946,-896.9\"/>\n<polygon fill=\"black\" stroke=\"black\" points=\"2949.5,-896.99 2946,-886.99 2942.5,-896.99 2949.5,-896.99\"/>\n</g>\n<!-- 10 -->\n<g id=\"node52\" class=\"node\">\n<title>10</title>\n<polygon fill=\"#f5ceb3\" stroke=\"black\" points=\"3839.5,-885 3540.5,-885 3540.5,-817 3839.5,-817 3839.5,-885\"/>\n<text text-anchor=\"middle\" x=\"3690\" y=\"-869.8\" font-family=\"Helvetica,sans-Serif\" font-size=\"14.00\">Latitude &lt;= 43.221</text>\n<text text-anchor=\"middle\" x=\"3690\" y=\"-854.8\" font-family=\"Helvetica,sans-Serif\" font-size=\"14.00\">squared_error = 2.2186609487846445e+17</text>\n<text text-anchor=\"middle\" x=\"3690\" y=\"-839.8\" font-family=\"Helvetica,sans-Serif\" font-size=\"14.00\">samples = 22</text>\n<text text-anchor=\"middle\" x=\"3690\" y=\"-824.8\" font-family=\"Helvetica,sans-Serif\" font-size=\"14.00\">value = 627147727.591</text>\n</g>\n<!-- 7&#45;&gt;10 -->\n<g id=\"edge51\" class=\"edge\">\n<title>7&#45;&gt;10</title>\n<path fill=\"none\" stroke=\"black\" d=\"M3091.96,-922.53C3095,-922 3098.01,-921.49 3101,-921 3245.05,-897.28 3410.24,-878.67 3528.94,-866.78\"/>\n<polygon fill=\"black\" stroke=\"black\" points=\"3529.17,-870.28 3538.78,-865.8 3528.48,-863.31 3529.17,-870.28\"/>\n</g>\n<!-- 21 -->\n<g id=\"node26\" class=\"node\">\n<title>21</title>\n<polygon fill=\"#fbeee4\" stroke=\"black\" points=\"2658.5,-781 2367.5,-781 2367.5,-713 2658.5,-713 2658.5,-781\"/>\n<text text-anchor=\"middle\" x=\"2513\" y=\"-765.8\" font-family=\"Helvetica,sans-Serif\" font-size=\"14.00\">Longitude &lt;= 76.987</text>\n<text text-anchor=\"middle\" x=\"2513\" y=\"-750.8\" font-family=\"Helvetica,sans-Serif\" font-size=\"14.00\">squared_error = 1.949612434656347e+16</text>\n<text text-anchor=\"middle\" x=\"2513\" y=\"-735.8\" font-family=\"Helvetica,sans-Serif\" font-size=\"14.00\">samples = 237</text>\n<text text-anchor=\"middle\" x=\"2513\" y=\"-720.8\" font-family=\"Helvetica,sans-Serif\" font-size=\"14.00\">value = 235435516.557</text>\n</g>\n<!-- 9&#45;&gt;21 -->\n<g id=\"edge25\" class=\"edge\">\n<title>9&#45;&gt;21</title>\n<path fill=\"none\" stroke=\"black\" d=\"M2803.92,-816.53C2759.73,-806.12 2710.83,-794.6 2665.93,-784.03\"/>\n<polygon fill=\"black\" stroke=\"black\" points=\"2666.92,-780.66 2656.39,-781.78 2665.32,-787.48 2666.92,-780.66\"/>\n</g>\n<!-- 22 -->\n<g id=\"node35\" class=\"node\">\n<title>22</title>\n<polygon fill=\"#fae6d8\" stroke=\"black\" points=\"3091.5,-781 2800.5,-781 2800.5,-713 3091.5,-713 3091.5,-781\"/>\n<text text-anchor=\"middle\" x=\"2946\" y=\"-765.8\" font-family=\"Helvetica,sans-Serif\" font-size=\"14.00\">area &lt;= 299.5</text>\n<text text-anchor=\"middle\" x=\"2946\" y=\"-750.8\" font-family=\"Helvetica,sans-Serif\" font-size=\"14.00\">squared_error = 4.584268114055251e+16</text>\n<text text-anchor=\"middle\" x=\"2946\" y=\"-735.8\" font-family=\"Helvetica,sans-Serif\" font-size=\"14.00\">samples = 108</text>\n<text text-anchor=\"middle\" x=\"2946\" y=\"-720.8\" font-family=\"Helvetica,sans-Serif\" font-size=\"14.00\">value = 328188121.583</text>\n</g>\n<!-- 9&#45;&gt;22 -->\n<g id=\"edge34\" class=\"edge\">\n<title>9&#45;&gt;22</title>\n<path fill=\"none\" stroke=\"black\" d=\"M2946,-816.6C2946,-809.03 2946,-800.87 2946,-792.9\"/>\n<polygon fill=\"black\" stroke=\"black\" points=\"2949.5,-792.99 2946,-782.99 2942.5,-792.99 2949.5,-792.99\"/>\n</g>\n<!-- 23 -->\n<g id=\"node27\" class=\"node\">\n<title>23</title>\n<polygon fill=\"#fcefe6\" stroke=\"black\" points=\"2198.5,-677 1899.5,-677 1899.5,-609 2198.5,-609 2198.5,-677\"/>\n<text text-anchor=\"middle\" x=\"2049\" y=\"-661.8\" font-family=\"Helvetica,sans-Serif\" font-size=\"14.00\">Longitude &lt;= 76.824</text>\n<text text-anchor=\"middle\" x=\"2049\" y=\"-646.8\" font-family=\"Helvetica,sans-Serif\" font-size=\"14.00\">squared_error = 1.4755609898366792e+16</text>\n<text text-anchor=\"middle\" x=\"2049\" y=\"-631.8\" font-family=\"Helvetica,sans-Serif\" font-size=\"14.00\">samples = 216</text>\n<text text-anchor=\"middle\" x=\"2049\" y=\"-616.8\" font-family=\"Helvetica,sans-Serif\" font-size=\"14.00\">value = 217880636.227</text>\n</g>\n<!-- 21&#45;&gt;23 -->\n<g id=\"edge26\" class=\"edge\">\n<title>21&#45;&gt;23</title>\n<path fill=\"none\" stroke=\"black\" d=\"M2367.14,-713.94C2317.14,-702.94 2260.91,-690.58 2209.79,-679.35\"/>\n<polygon fill=\"black\" stroke=\"black\" points=\"2210.62,-675.95 2200.11,-677.22 2209.12,-682.78 2210.62,-675.95\"/>\n</g>\n<!-- 24 -->\n<g id=\"node32\" class=\"node\">\n<title>24</title>\n<polygon fill=\"#f8dfcd\" stroke=\"black\" points=\"2662.5,-677 2363.5,-677 2363.5,-609 2662.5,-609 2662.5,-677\"/>\n<text text-anchor=\"middle\" x=\"2513\" y=\"-661.8\" font-family=\"Helvetica,sans-Serif\" font-size=\"14.00\">floor_interaction &lt;= 8.5</text>\n<text text-anchor=\"middle\" x=\"2513\" y=\"-646.8\" font-family=\"Helvetica,sans-Serif\" font-size=\"14.00\">squared_error = 3.2482380966285696e+16</text>\n<text text-anchor=\"middle\" x=\"2513\" y=\"-631.8\" font-family=\"Helvetica,sans-Serif\" font-size=\"14.00\">samples = 21</text>\n<text text-anchor=\"middle\" x=\"2513\" y=\"-616.8\" font-family=\"Helvetica,sans-Serif\" font-size=\"14.00\">value = 415999999.952</text>\n</g>\n<!-- 21&#45;&gt;24 -->\n<g id=\"edge31\" class=\"edge\">\n<title>21&#45;&gt;24</title>\n<path fill=\"none\" stroke=\"black\" d=\"M2513,-712.6C2513,-705.03 2513,-696.87 2513,-688.9\"/>\n<polygon fill=\"black\" stroke=\"black\" points=\"2516.5,-688.99 2513,-678.99 2509.5,-688.99 2516.5,-688.99\"/>\n</g>\n<!-- 29 -->\n<g id=\"node28\" class=\"node\">\n<title>29</title>\n<polygon fill=\"#f6d3b9\" stroke=\"black\" points=\"1897.5,-565.5 1606.5,-565.5 1606.5,-512.5 1897.5,-512.5 1897.5,-565.5\"/>\n<text text-anchor=\"middle\" x=\"1752\" y=\"-550.3\" font-family=\"Helvetica,sans-Serif\" font-size=\"14.00\">squared_error = 4.296568888888889e+17</text>\n<text text-anchor=\"middle\" x=\"1752\" y=\"-535.3\" font-family=\"Helvetica,sans-Serif\" font-size=\"14.00\">samples = 3</text>\n<text text-anchor=\"middle\" x=\"1752\" y=\"-520.3\" font-family=\"Helvetica,sans-Serif\" font-size=\"14.00\">value = 574666666.667</text>\n</g>\n<!-- 23&#45;&gt;29 -->\n<g id=\"edge27\" class=\"edge\">\n<title>23&#45;&gt;29</title>\n<path fill=\"none\" stroke=\"black\" d=\"M1951.75,-608.6C1915.11,-596.02 1873.72,-581.8 1838.16,-569.59\"/>\n<polygon fill=\"black\" stroke=\"black\" points=\"1839.35,-566.3 1828.76,-566.36 1837.08,-572.92 1839.35,-566.3\"/>\n</g>\n<!-- 30 -->\n<g id=\"node29\" class=\"node\">\n<title>30</title>\n<polygon fill=\"#fcefe6\" stroke=\"black\" points=\"2182,-573 1916,-573 1916,-505 2182,-505 2182,-573\"/>\n<text text-anchor=\"middle\" x=\"2049\" y=\"-557.8\" font-family=\"Helvetica,sans-Serif\" font-size=\"14.00\">total_floor &lt;= 20.5</text>\n<text text-anchor=\"middle\" x=\"2049\" y=\"-542.8\" font-family=\"Helvetica,sans-Serif\" font-size=\"14.00\">squared_error = 7093772493575856.0</text>\n<text text-anchor=\"middle\" x=\"2049\" y=\"-527.8\" font-family=\"Helvetica,sans-Serif\" font-size=\"14.00\">samples = 213</text>\n<text text-anchor=\"middle\" x=\"2049\" y=\"-512.8\" font-family=\"Helvetica,sans-Serif\" font-size=\"14.00\">value = 212855480.869</text>\n</g>\n<!-- 23&#45;&gt;30 -->\n<g id=\"edge28\" class=\"edge\">\n<title>23&#45;&gt;30</title>\n<path fill=\"none\" stroke=\"black\" d=\"M2049,-608.6C2049,-601.03 2049,-592.87 2049,-584.9\"/>\n<polygon fill=\"black\" stroke=\"black\" points=\"2052.5,-584.99 2049,-574.99 2045.5,-584.99 2052.5,-584.99\"/>\n</g>\n<!-- 49 -->\n<g id=\"node30\" class=\"node\">\n<title>49</title>\n<polygon fill=\"#fcf0e7\" stroke=\"black\" points=\"2103,-461.5 1837,-461.5 1837,-408.5 2103,-408.5 2103,-461.5\"/>\n<text text-anchor=\"middle\" x=\"1970\" y=\"-446.3\" font-family=\"Helvetica,sans-Serif\" font-size=\"14.00\">squared_error = 5700817973261328.0</text>\n<text text-anchor=\"middle\" x=\"1970\" y=\"-431.3\" font-family=\"Helvetica,sans-Serif\" font-size=\"14.00\">samples = 202</text>\n<text text-anchor=\"middle\" x=\"1970\" y=\"-416.3\" font-family=\"Helvetica,sans-Serif\" font-size=\"14.00\">value = 205446477.317</text>\n</g>\n<!-- 30&#45;&gt;49 -->\n<g id=\"edge29\" class=\"edge\">\n<title>30&#45;&gt;49</title>\n<path fill=\"none\" stroke=\"black\" d=\"M2023.13,-504.6C2014.7,-493.71 2005.31,-481.59 1996.81,-470.61\"/>\n<polygon fill=\"black\" stroke=\"black\" points=\"1999.73,-468.67 1990.84,-462.9 1994.19,-472.95 1999.73,-468.67\"/>\n</g>\n<!-- 50 -->\n<g id=\"node31\" class=\"node\">\n<title>50</title>\n<polygon fill=\"#fae5d6\" stroke=\"black\" points=\"2420.5,-461.5 2121.5,-461.5 2121.5,-408.5 2420.5,-408.5 2420.5,-461.5\"/>\n<text text-anchor=\"middle\" x=\"2271\" y=\"-446.3\" font-family=\"Helvetica,sans-Serif\" font-size=\"14.00\">squared_error = 1.3154139199401552e+16</text>\n<text text-anchor=\"middle\" x=\"2271\" y=\"-431.3\" font-family=\"Helvetica,sans-Serif\" font-size=\"14.00\">samples = 11</text>\n<text text-anchor=\"middle\" x=\"2271\" y=\"-416.3\" font-family=\"Helvetica,sans-Serif\" font-size=\"14.00\">value = 348911727.909</text>\n</g>\n<!-- 30&#45;&gt;50 -->\n<g id=\"edge30\" class=\"edge\">\n<title>30&#45;&gt;50</title>\n<path fill=\"none\" stroke=\"black\" d=\"M2121.69,-504.6C2148.37,-492.34 2178.42,-478.54 2204.53,-466.54\"/>\n<polygon fill=\"black\" stroke=\"black\" points=\"2205.7,-469.86 2213.32,-462.5 2202.77,-463.5 2205.7,-469.86\"/>\n</g>\n<!-- 43 -->\n<g id=\"node33\" class=\"node\">\n<title>43</title>\n<polygon fill=\"#f7dbc6\" stroke=\"black\" points=\"2491.5,-565.5 2200.5,-565.5 2200.5,-512.5 2491.5,-512.5 2491.5,-565.5\"/>\n<text text-anchor=\"middle\" x=\"2346\" y=\"-550.3\" font-family=\"Helvetica,sans-Serif\" font-size=\"14.00\">squared_error = 2.543599611930467e+16</text>\n<text text-anchor=\"middle\" x=\"2346\" y=\"-535.3\" font-family=\"Helvetica,sans-Serif\" font-size=\"14.00\">samples = 16</text>\n<text text-anchor=\"middle\" x=\"2346\" y=\"-520.3\" font-family=\"Helvetica,sans-Serif\" font-size=\"14.00\">value = 474437499.938</text>\n</g>\n<!-- 24&#45;&gt;43 -->\n<g id=\"edge32\" class=\"edge\">\n<title>24&#45;&gt;43</title>\n<path fill=\"none\" stroke=\"black\" d=\"M2458.32,-608.6C2438.96,-596.78 2417.24,-583.51 2398.1,-571.82\"/>\n<polygon fill=\"black\" stroke=\"black\" points=\"2400,-568.88 2389.65,-566.66 2396.36,-574.86 2400,-568.88\"/>\n</g>\n<!-- 44 -->\n<g id=\"node34\" class=\"node\">\n<title>44</title>\n<polygon fill=\"#fceee4\" stroke=\"black\" points=\"2776,-565.5 2510,-565.5 2510,-512.5 2776,-512.5 2776,-565.5\"/>\n<text text-anchor=\"middle\" x=\"2643\" y=\"-550.3\" font-family=\"Helvetica,sans-Serif\" font-size=\"14.00\">squared_error = 9134000000000000.0</text>\n<text text-anchor=\"middle\" x=\"2643\" y=\"-535.3\" font-family=\"Helvetica,sans-Serif\" font-size=\"14.00\">samples = 5</text>\n<text text-anchor=\"middle\" x=\"2643\" y=\"-520.3\" font-family=\"Helvetica,sans-Serif\" font-size=\"14.00\">value = 229000000.0</text>\n</g>\n<!-- 24&#45;&gt;44 -->\n<g id=\"edge33\" class=\"edge\">\n<title>24&#45;&gt;44</title>\n<path fill=\"none\" stroke=\"black\" d=\"M2555.57,-608.6C2570.28,-597.05 2586.75,-584.13 2601.39,-572.65\"/>\n<polygon fill=\"black\" stroke=\"black\" points=\"2603.34,-575.57 2609.05,-566.64 2599.02,-570.06 2603.34,-575.57\"/>\n</g>\n<!-- 27 -->\n<g id=\"node36\" class=\"node\">\n<title>27</title>\n<polygon fill=\"#f3c4a2\" stroke=\"black\" points=\"2906.5,-669.5 2697.5,-669.5 2697.5,-616.5 2906.5,-616.5 2906.5,-669.5\"/>\n<text text-anchor=\"middle\" x=\"2802\" y=\"-654.3\" font-family=\"Helvetica,sans-Serif\" font-size=\"14.00\">squared_error = 1.33225e+17</text>\n<text text-anchor=\"middle\" x=\"2802\" y=\"-639.3\" font-family=\"Helvetica,sans-Serif\" font-size=\"14.00\">samples = 2</text>\n<text text-anchor=\"middle\" x=\"2802\" y=\"-624.3\" font-family=\"Helvetica,sans-Serif\" font-size=\"14.00\">value = 765000000.0</text>\n</g>\n<!-- 22&#45;&gt;27 -->\n<g id=\"edge35\" class=\"edge\">\n<title>22&#45;&gt;27</title>\n<path fill=\"none\" stroke=\"black\" d=\"M2898.85,-712.6C2882.39,-700.94 2863.96,-687.89 2847.63,-676.32\"/>\n<polygon fill=\"black\" stroke=\"black\" points=\"2849.71,-673.5 2839.53,-670.58 2845.66,-679.22 2849.71,-673.5\"/>\n</g>\n<!-- 28 -->\n<g id=\"node37\" class=\"node\">\n<title>28</title>\n<polygon fill=\"#fae7d9\" stroke=\"black\" points=\"3215.5,-677 2924.5,-677 2924.5,-609 3215.5,-609 3215.5,-677\"/>\n<text text-anchor=\"middle\" x=\"3070\" y=\"-661.8\" font-family=\"Helvetica,sans-Serif\" font-size=\"14.00\">Latitude &lt;= 43.216</text>\n<text text-anchor=\"middle\" x=\"3070\" y=\"-646.8\" font-family=\"Helvetica,sans-Serif\" font-size=\"14.00\">squared_error = 4.052594485562925e+16</text>\n<text text-anchor=\"middle\" x=\"3070\" y=\"-631.8\" font-family=\"Helvetica,sans-Serif\" font-size=\"14.00\">samples = 106</text>\n<text text-anchor=\"middle\" x=\"3070\" y=\"-616.8\" font-family=\"Helvetica,sans-Serif\" font-size=\"14.00\">value = 319946388.028</text>\n</g>\n<!-- 22&#45;&gt;28 -->\n<g id=\"edge36\" class=\"edge\">\n<title>22&#45;&gt;28</title>\n<path fill=\"none\" stroke=\"black\" d=\"M2986.6,-712.6C2997.41,-703.71 3009.22,-694 3020.45,-684.76\"/>\n<polygon fill=\"black\" stroke=\"black\" points=\"3022.64,-687.49 3028.14,-678.44 3018.19,-682.08 3022.64,-687.49\"/>\n</g>\n<!-- 35 -->\n<g id=\"node38\" class=\"node\">\n<title>35</title>\n<polygon fill=\"#f9e4d4\" stroke=\"black\" points=\"3085.5,-573 2794.5,-573 2794.5,-505 3085.5,-505 3085.5,-573\"/>\n<text text-anchor=\"middle\" x=\"2940\" y=\"-557.8\" font-family=\"Helvetica,sans-Serif\" font-size=\"14.00\">Latitude &lt;= 43.182</text>\n<text text-anchor=\"middle\" x=\"2940\" y=\"-542.8\" font-family=\"Helvetica,sans-Serif\" font-size=\"14.00\">squared_error = 5.913800413738882e+16</text>\n<text text-anchor=\"middle\" x=\"2940\" y=\"-527.8\" font-family=\"Helvetica,sans-Serif\" font-size=\"14.00\">samples = 64</text>\n<text text-anchor=\"middle\" x=\"2940\" y=\"-512.8\" font-family=\"Helvetica,sans-Serif\" font-size=\"14.00\">value = 358266078.234</text>\n</g>\n<!-- 28&#45;&gt;35 -->\n<g id=\"edge37\" class=\"edge\">\n<title>28&#45;&gt;35</title>\n<path fill=\"none\" stroke=\"black\" d=\"M3027.43,-608.6C3015.99,-599.62 3003.48,-589.81 2991.6,-580.49\"/>\n<polygon fill=\"black\" stroke=\"black\" points=\"2993.88,-577.83 2983.85,-574.41 2989.56,-583.33 2993.88,-577.83\"/>\n</g>\n<!-- 36 -->\n<g id=\"node51\" class=\"node\">\n<title>36</title>\n<polygon fill=\"#fbece0\" stroke=\"black\" points=\"3370,-565.5 3104,-565.5 3104,-512.5 3370,-512.5 3370,-565.5\"/>\n<text text-anchor=\"middle\" x=\"3237\" y=\"-550.3\" font-family=\"Helvetica,sans-Serif\" font-size=\"14.00\">squared_error = 6517536782059064.0</text>\n<text text-anchor=\"middle\" x=\"3237\" y=\"-535.3\" font-family=\"Helvetica,sans-Serif\" font-size=\"14.00\">samples = 42</text>\n<text text-anchor=\"middle\" x=\"3237\" y=\"-520.3\" font-family=\"Helvetica,sans-Serif\" font-size=\"14.00\">value = 261554479.143</text>\n</g>\n<!-- 28&#45;&gt;36 -->\n<g id=\"edge50\" class=\"edge\">\n<title>28&#45;&gt;36</title>\n<path fill=\"none\" stroke=\"black\" d=\"M3124.68,-608.6C3144.04,-596.78 3165.76,-583.51 3184.9,-571.82\"/>\n<polygon fill=\"black\" stroke=\"black\" points=\"3186.64,-574.86 3193.35,-566.66 3183,-568.88 3186.64,-574.86\"/>\n</g>\n<!-- 37 -->\n<g id=\"node39\" class=\"node\">\n<title>37</title>\n<polygon fill=\"#fbebe0\" stroke=\"black\" points=\"2855.5,-469 2564.5,-469 2564.5,-401 2855.5,-401 2855.5,-469\"/>\n<text text-anchor=\"middle\" x=\"2710\" y=\"-453.8\" font-family=\"Helvetica,sans-Serif\" font-size=\"14.00\">Longitude &lt;= 76.915</text>\n<text text-anchor=\"middle\" x=\"2710\" y=\"-438.8\" font-family=\"Helvetica,sans-Serif\" font-size=\"14.00\">squared_error = 2.169306596690821e+16</text>\n<text text-anchor=\"middle\" x=\"2710\" y=\"-423.8\" font-family=\"Helvetica,sans-Serif\" font-size=\"14.00\">samples = 29</text>\n<text text-anchor=\"middle\" x=\"2710\" y=\"-408.8\" font-family=\"Helvetica,sans-Serif\" font-size=\"14.00\">value = 268783758.862</text>\n</g>\n<!-- 35&#45;&gt;37 -->\n<g id=\"edge38\" class=\"edge\">\n<title>35&#45;&gt;37</title>\n<path fill=\"none\" stroke=\"black\" d=\"M2864.69,-504.6C2842.65,-494.83 2818.39,-484.07 2795.75,-474.03\"/>\n<polygon fill=\"black\" stroke=\"black\" points=\"2797.42,-470.94 2786.86,-470.09 2794.59,-477.34 2797.42,-470.94\"/>\n</g>\n<!-- 38 -->\n<g id=\"node42\" class=\"node\">\n<title>38</title>\n<polygon fill=\"#f8decb\" stroke=\"black\" points=\"3164.5,-469 2873.5,-469 2873.5,-401 3164.5,-401 3164.5,-469\"/>\n<text text-anchor=\"middle\" x=\"3019\" y=\"-453.8\" font-family=\"Helvetica,sans-Serif\" font-size=\"14.00\">Latitude &lt;= 43.186</text>\n<text text-anchor=\"middle\" x=\"3019\" y=\"-438.8\" font-family=\"Helvetica,sans-Serif\" font-size=\"14.00\">squared_error = 7.803225849795917e+16</text>\n<text text-anchor=\"middle\" x=\"3019\" y=\"-423.8\" font-family=\"Helvetica,sans-Serif\" font-size=\"14.00\">samples = 35</text>\n<text text-anchor=\"middle\" x=\"3019\" y=\"-408.8\" font-family=\"Helvetica,sans-Serif\" font-size=\"14.00\">value = 432408571.429</text>\n</g>\n<!-- 35&#45;&gt;38 -->\n<g id=\"edge41\" class=\"edge\">\n<title>35&#45;&gt;38</title>\n<path fill=\"none\" stroke=\"black\" d=\"M2965.87,-504.6C2972.35,-496.24 2979.38,-487.15 2986.15,-478.41\"/>\n<polygon fill=\"black\" stroke=\"black\" points=\"2988.79,-480.72 2992.15,-470.67 2983.26,-476.43 2988.79,-480.72\"/>\n</g>\n<!-- 45 -->\n<g id=\"node40\" class=\"node\">\n<title>45</title>\n<polygon fill=\"#fdf5f0\" stroke=\"black\" points=\"2557,-357.5 2291,-357.5 2291,-304.5 2557,-304.5 2557,-357.5\"/>\n<text text-anchor=\"middle\" x=\"2424\" y=\"-342.3\" font-family=\"Helvetica,sans-Serif\" font-size=\"14.00\">squared_error = 2393670305339112.0</text>\n<text text-anchor=\"middle\" x=\"2424\" y=\"-327.3\" font-family=\"Helvetica,sans-Serif\" font-size=\"14.00\">samples = 9</text>\n<text text-anchor=\"middle\" x=\"2424\" y=\"-312.3\" font-family=\"Helvetica,sans-Serif\" font-size=\"14.00\">value = 136282000.778</text>\n</g>\n<!-- 37&#45;&gt;45 -->\n<g id=\"edge39\" class=\"edge\">\n<title>37&#45;&gt;45</title>\n<path fill=\"none\" stroke=\"black\" d=\"M2616.35,-400.6C2581.07,-388.02 2541.21,-373.8 2506.97,-361.59\"/>\n<polygon fill=\"black\" stroke=\"black\" points=\"2508.55,-358.44 2497.96,-358.38 2506.2,-365.03 2508.55,-358.44\"/>\n</g>\n<!-- 46 -->\n<g id=\"node41\" class=\"node\">\n<title>46</title>\n<polygon fill=\"#fae6d8\" stroke=\"black\" points=\"2874.5,-357.5 2575.5,-357.5 2575.5,-304.5 2874.5,-304.5 2874.5,-357.5\"/>\n<text text-anchor=\"middle\" x=\"2725\" y=\"-342.3\" font-family=\"Helvetica,sans-Serif\" font-size=\"14.00\">squared_error = 1.8922036892847504e+16</text>\n<text text-anchor=\"middle\" x=\"2725\" y=\"-327.3\" font-family=\"Helvetica,sans-Serif\" font-size=\"14.00\">samples = 20</text>\n<text text-anchor=\"middle\" x=\"2725\" y=\"-312.3\" font-family=\"Helvetica,sans-Serif\" font-size=\"14.00\">value = 328409550.0</text>\n</g>\n<!-- 37&#45;&gt;46 -->\n<g id=\"edge40\" class=\"edge\">\n<title>37&#45;&gt;46</title>\n<path fill=\"none\" stroke=\"black\" d=\"M2714.91,-400.6C2716.4,-390.47 2718.05,-379.28 2719.57,-368.93\"/>\n<polygon fill=\"black\" stroke=\"black\" points=\"2723.01,-369.61 2721,-359.2 2716.08,-368.59 2723.01,-369.61\"/>\n</g>\n<!-- 39 -->\n<g id=\"node43\" class=\"node\">\n<title>39</title>\n<polygon fill=\"#e99457\" stroke=\"black\" points=\"3083,-357.5 2923,-357.5 2923,-304.5 3083,-304.5 3083,-357.5\"/>\n<text text-anchor=\"middle\" x=\"3003\" y=\"-342.3\" font-family=\"Helvetica,sans-Serif\" font-size=\"14.00\">squared_error = 0.0</text>\n<text text-anchor=\"middle\" x=\"3003\" y=\"-327.3\" font-family=\"Helvetica,sans-Serif\" font-size=\"14.00\">samples = 1</text>\n<text text-anchor=\"middle\" x=\"3003\" y=\"-312.3\" font-family=\"Helvetica,sans-Serif\" font-size=\"14.00\">value = 1365000000.0</text>\n</g>\n<!-- 38&#45;&gt;39 -->\n<g id=\"edge42\" class=\"edge\">\n<title>38&#45;&gt;39</title>\n<path fill=\"none\" stroke=\"black\" d=\"M3013.76,-400.6C3012.17,-390.47 3010.42,-379.28 3008.79,-368.93\"/>\n<polygon fill=\"black\" stroke=\"black\" points=\"3012.27,-368.54 3007.27,-359.2 3005.36,-369.62 3012.27,-368.54\"/>\n</g>\n<!-- 40 -->\n<g id=\"node44\" class=\"node\">\n<title>40</title>\n<polygon fill=\"#f9e0cf\" stroke=\"black\" points=\"3384.5,-365 3101.5,-365 3101.5,-297 3384.5,-297 3384.5,-365\"/>\n<text text-anchor=\"middle\" x=\"3243\" y=\"-349.8\" font-family=\"Helvetica,sans-Serif\" font-size=\"14.00\">building_age &lt;= 3.0</text>\n<text text-anchor=\"middle\" x=\"3243\" y=\"-334.8\" font-family=\"Helvetica,sans-Serif\" font-size=\"14.00\">squared_error = 5.39947669290657e+16</text>\n<text text-anchor=\"middle\" x=\"3243\" y=\"-319.8\" font-family=\"Helvetica,sans-Serif\" font-size=\"14.00\">samples = 34</text>\n<text text-anchor=\"middle\" x=\"3243\" y=\"-304.8\" font-family=\"Helvetica,sans-Serif\" font-size=\"14.00\">value = 404979411.765</text>\n</g>\n<!-- 38&#45;&gt;40 -->\n<g id=\"edge43\" class=\"edge\">\n<title>38&#45;&gt;40</title>\n<path fill=\"none\" stroke=\"black\" d=\"M3092.35,-400.6C3113.71,-390.87 3137.22,-380.17 3159.19,-370.17\"/>\n<polygon fill=\"black\" stroke=\"black\" points=\"3160.46,-373.43 3168.11,-366.1 3157.56,-367.06 3160.46,-373.43\"/>\n</g>\n<!-- 41 -->\n<g id=\"node45\" class=\"node\">\n<title>41</title>\n<polygon fill=\"#f4c8a9\" stroke=\"black\" points=\"3220,-253.5 2978,-253.5 2978,-200.5 3220,-200.5 3220,-253.5\"/>\n<text text-anchor=\"middle\" x=\"3099\" y=\"-238.3\" font-family=\"Helvetica,sans-Serif\" font-size=\"14.00\">squared_error = 1.389421875e+17</text>\n<text text-anchor=\"middle\" x=\"3099\" y=\"-223.3\" font-family=\"Helvetica,sans-Serif\" font-size=\"14.00\">samples = 4</text>\n<text text-anchor=\"middle\" x=\"3099\" y=\"-208.3\" font-family=\"Helvetica,sans-Serif\" font-size=\"14.00\">value = 703750000.0</text>\n</g>\n<!-- 40&#45;&gt;41 -->\n<g id=\"edge44\" class=\"edge\">\n<title>40&#45;&gt;41</title>\n<path fill=\"none\" stroke=\"black\" d=\"M3195.85,-296.6C3179.39,-284.94 3160.96,-271.89 3144.63,-260.32\"/>\n<polygon fill=\"black\" stroke=\"black\" points=\"3146.71,-257.5 3136.53,-254.58 3142.66,-263.22 3146.71,-257.5\"/>\n</g>\n<!-- 42 -->\n<g id=\"node46\" class=\"node\">\n<title>42</title>\n<polygon fill=\"#f9e3d3\" stroke=\"black\" points=\"3537.5,-261 3238.5,-261 3238.5,-193 3537.5,-193 3537.5,-261\"/>\n<text text-anchor=\"middle\" x=\"3388\" y=\"-245.8\" font-family=\"Helvetica,sans-Serif\" font-size=\"14.00\">floor &lt;= 4.5</text>\n<text text-anchor=\"middle\" x=\"3388\" y=\"-230.8\" font-family=\"Helvetica,sans-Serif\" font-size=\"14.00\">squared_error = 2.9179682455555584e+16</text>\n<text text-anchor=\"middle\" x=\"3388\" y=\"-215.8\" font-family=\"Helvetica,sans-Serif\" font-size=\"14.00\">samples = 30</text>\n<text text-anchor=\"middle\" x=\"3388\" y=\"-200.8\" font-family=\"Helvetica,sans-Serif\" font-size=\"14.00\">value = 365143333.333</text>\n</g>\n<!-- 40&#45;&gt;42 -->\n<g id=\"edge45\" class=\"edge\">\n<title>40&#45;&gt;42</title>\n<path fill=\"none\" stroke=\"black\" d=\"M3290.48,-296.6C3303.5,-287.44 3317.74,-277.42 3331.23,-267.94\"/>\n<polygon fill=\"black\" stroke=\"black\" points=\"3333.01,-270.96 3339.18,-262.34 3328.98,-265.24 3333.01,-270.96\"/>\n</g>\n<!-- 53 -->\n<g id=\"node47\" class=\"node\">\n<title>53</title>\n<polygon fill=\"#fae7d9\" stroke=\"black\" points=\"3381.5,-149.5 3082.5,-149.5 3082.5,-96.5 3381.5,-96.5 3381.5,-149.5\"/>\n<text text-anchor=\"middle\" x=\"3232\" y=\"-134.3\" font-family=\"Helvetica,sans-Serif\" font-size=\"14.00\">squared_error = 1.1649276510416672e+16</text>\n<text text-anchor=\"middle\" x=\"3232\" y=\"-119.3\" font-family=\"Helvetica,sans-Serif\" font-size=\"14.00\">samples = 24</text>\n<text text-anchor=\"middle\" x=\"3232\" y=\"-104.3\" font-family=\"Helvetica,sans-Serif\" font-size=\"14.00\">value = 323262500.0</text>\n</g>\n<!-- 42&#45;&gt;53 -->\n<g id=\"edge46\" class=\"edge\">\n<title>42&#45;&gt;53</title>\n<path fill=\"none\" stroke=\"black\" d=\"M3336.92,-192.6C3319,-180.89 3298.92,-167.76 3281.16,-156.14\"/>\n<polygon fill=\"black\" stroke=\"black\" points=\"3283.12,-153.24 3272.83,-150.7 3279.29,-159.1 3283.12,-153.24\"/>\n</g>\n<!-- 54 -->\n<g id=\"node48\" class=\"node\">\n<title>54</title>\n<polygon fill=\"#f7d6bf\" stroke=\"black\" points=\"3690.5,-157 3399.5,-157 3399.5,-89 3690.5,-89 3690.5,-157\"/>\n<text text-anchor=\"middle\" x=\"3545\" y=\"-141.8\" font-family=\"Helvetica,sans-Serif\" font-size=\"14.00\">building_age &lt;= 14.5</text>\n<text text-anchor=\"middle\" x=\"3545\" y=\"-126.8\" font-family=\"Helvetica,sans-Serif\" font-size=\"14.00\">squared_error = 6.422122222222221e+16</text>\n<text text-anchor=\"middle\" x=\"3545\" y=\"-111.8\" font-family=\"Helvetica,sans-Serif\" font-size=\"14.00\">samples = 6</text>\n<text text-anchor=\"middle\" x=\"3545\" y=\"-96.8\" font-family=\"Helvetica,sans-Serif\" font-size=\"14.00\">value = 532666666.667</text>\n</g>\n<!-- 42&#45;&gt;54 -->\n<g id=\"edge47\" class=\"edge\">\n<title>42&#45;&gt;54</title>\n<path fill=\"none\" stroke=\"black\" d=\"M3439.41,-192.6C3453.64,-183.36 3469.23,-173.23 3483.95,-163.66\"/>\n<polygon fill=\"black\" stroke=\"black\" points=\"3485.73,-166.68 3492.21,-158.3 3481.92,-160.81 3485.73,-166.68\"/>\n</g>\n<!-- 55 -->\n<g id=\"node49\" class=\"node\">\n<title>55</title>\n<polygon fill=\"#f9e2d1\" stroke=\"black\" points=\"3540.5,-53 3307.5,-53 3307.5,0 3540.5,0 3540.5,-53\"/>\n<text text-anchor=\"middle\" x=\"3424\" y=\"-37.8\" font-family=\"Helvetica,sans-Serif\" font-size=\"14.00\">squared_error = 1.70566875e+16</text>\n<text text-anchor=\"middle\" x=\"3424\" y=\"-22.8\" font-family=\"Helvetica,sans-Serif\" font-size=\"14.00\">samples = 4</text>\n<text text-anchor=\"middle\" x=\"3424\" y=\"-7.8\" font-family=\"Helvetica,sans-Serif\" font-size=\"14.00\">value = 386750000.0</text>\n</g>\n<!-- 54&#45;&gt;55 -->\n<g id=\"edge48\" class=\"edge\">\n<title>54&#45;&gt;55</title>\n<path fill=\"none\" stroke=\"black\" d=\"M3502.34,-88.68C3490.52,-79.45 3477.7,-69.44 3465.92,-60.24\"/>\n<polygon fill=\"black\" stroke=\"black\" points=\"3468.38,-57.72 3458.35,-54.33 3464.07,-63.24 3468.38,-57.72\"/>\n</g>\n<!-- 56 -->\n<g id=\"node50\" class=\"node\">\n<title>56</title>\n<polygon fill=\"#f2bf9a\" stroke=\"black\" points=\"3775.5,-53 3558.5,-53 3558.5,0 3775.5,0 3775.5,-53\"/>\n<text text-anchor=\"middle\" x=\"3667\" y=\"-37.8\" font-family=\"Helvetica,sans-Serif\" font-size=\"14.00\">squared_error = 3.080025e+16</text>\n<text text-anchor=\"middle\" x=\"3667\" y=\"-22.8\" font-family=\"Helvetica,sans-Serif\" font-size=\"14.00\">samples = 2</text>\n<text text-anchor=\"middle\" x=\"3667\" y=\"-7.8\" font-family=\"Helvetica,sans-Serif\" font-size=\"14.00\">value = 824500000.0</text>\n</g>\n<!-- 54&#45;&gt;56 -->\n<g id=\"edge49\" class=\"edge\">\n<title>54&#45;&gt;56</title>\n<path fill=\"none\" stroke=\"black\" d=\"M3588.01,-88.68C3599.93,-79.45 3612.85,-69.44 3624.73,-60.24\"/>\n<polygon fill=\"black\" stroke=\"black\" points=\"3626.61,-63.21 3632.37,-54.32 3622.33,-57.68 3626.61,-63.21\"/>\n</g>\n<!-- 11 -->\n<g id=\"node53\" class=\"node\">\n<title>11</title>\n<polygon fill=\"#efb185\" stroke=\"black\" points=\"3839.5,-781 3540.5,-781 3540.5,-713 3839.5,-713 3839.5,-781\"/>\n<text text-anchor=\"middle\" x=\"3690\" y=\"-765.8\" font-family=\"Helvetica,sans-Serif\" font-size=\"14.00\">Latitude &lt;= 43.214</text>\n<text text-anchor=\"middle\" x=\"3690\" y=\"-750.8\" font-family=\"Helvetica,sans-Serif\" font-size=\"14.00\">squared_error = 2.5694261726027174e+17</text>\n<text text-anchor=\"middle\" x=\"3690\" y=\"-735.8\" font-family=\"Helvetica,sans-Serif\" font-size=\"14.00\">samples = 9</text>\n<text text-anchor=\"middle\" x=\"3690\" y=\"-720.8\" font-family=\"Helvetica,sans-Serif\" font-size=\"14.00\">value = 995222223.0</text>\n</g>\n<!-- 10&#45;&gt;11 -->\n<g id=\"edge52\" class=\"edge\">\n<title>10&#45;&gt;11</title>\n<path fill=\"none\" stroke=\"black\" d=\"M3690,-816.6C3690,-809.03 3690,-800.87 3690,-792.9\"/>\n<polygon fill=\"black\" stroke=\"black\" points=\"3693.5,-792.99 3690,-782.99 3686.5,-792.99 3693.5,-792.99\"/>\n</g>\n<!-- 12 -->\n<g id=\"node60\" class=\"node\">\n<title>12</title>\n<polygon fill=\"#f9e3d3\" stroke=\"black\" points=\"4297.5,-781 4014.5,-781 4014.5,-713 4297.5,-713 4297.5,-781\"/>\n<text text-anchor=\"middle\" x=\"4156\" y=\"-765.8\" font-family=\"Helvetica,sans-Serif\" font-size=\"14.00\">floor_interaction &lt;= 43.5</text>\n<text text-anchor=\"middle\" x=\"4156\" y=\"-750.8\" font-family=\"Helvetica,sans-Serif\" font-size=\"14.00\">squared_error = 3.88556671597633e+16</text>\n<text text-anchor=\"middle\" x=\"4156\" y=\"-735.8\" font-family=\"Helvetica,sans-Serif\" font-size=\"14.00\">samples = 13</text>\n<text text-anchor=\"middle\" x=\"4156\" y=\"-720.8\" font-family=\"Helvetica,sans-Serif\" font-size=\"14.00\">value = 372326923.077</text>\n</g>\n<!-- 10&#45;&gt;12 -->\n<g id=\"edge59\" class=\"edge\">\n<title>10&#45;&gt;12</title>\n<path fill=\"none\" stroke=\"black\" d=\"M3839.69,-817.24C3891.87,-805.81 3950.47,-792.99 4002.92,-781.51\"/>\n<polygon fill=\"black\" stroke=\"black\" points=\"4003.51,-784.96 4012.53,-779.4 4002.01,-778.12 4003.51,-784.96\"/>\n</g>\n<!-- 15 -->\n<g id=\"node54\" class=\"node\">\n<title>15</title>\n<polygon fill=\"#f2bf9a\" stroke=\"black\" points=\"3683.5,-677 3384.5,-677 3384.5,-609 3683.5,-609 3683.5,-677\"/>\n<text text-anchor=\"middle\" x=\"3534\" y=\"-661.8\" font-family=\"Helvetica,sans-Serif\" font-size=\"14.00\">total_floor &lt;= 12.0</text>\n<text text-anchor=\"middle\" x=\"3534\" y=\"-646.8\" font-family=\"Helvetica,sans-Serif\" font-size=\"14.00\">squared_error = 1.6959477582677555e+17</text>\n<text text-anchor=\"middle\" x=\"3534\" y=\"-631.8\" font-family=\"Helvetica,sans-Serif\" font-size=\"14.00\">samples = 7</text>\n<text text-anchor=\"middle\" x=\"3534\" y=\"-616.8\" font-family=\"Helvetica,sans-Serif\" font-size=\"14.00\">value = 821714286.714</text>\n</g>\n<!-- 11&#45;&gt;15 -->\n<g id=\"edge53\" class=\"edge\">\n<title>11&#45;&gt;15</title>\n<path fill=\"none\" stroke=\"black\" d=\"M3638.92,-712.6C3624.78,-703.36 3609.29,-693.23 3594.66,-683.66\"/>\n<polygon fill=\"black\" stroke=\"black\" points=\"3596.75,-680.85 3586.46,-678.3 3592.92,-686.7 3596.75,-680.85\"/>\n</g>\n<!-- 16 -->\n<g id=\"node59\" class=\"node\">\n<title>16</title>\n<polygon fill=\"#e58139\" stroke=\"black\" points=\"3992.5,-669.5 3701.5,-669.5 3701.5,-616.5 3992.5,-616.5 3992.5,-669.5\"/>\n<text text-anchor=\"middle\" x=\"3847\" y=\"-654.3\" font-family=\"Helvetica,sans-Serif\" font-size=\"14.00\">squared_error = 8.850624999999998e+16</text>\n<text text-anchor=\"middle\" x=\"3847\" y=\"-639.3\" font-family=\"Helvetica,sans-Serif\" font-size=\"14.00\">samples = 2</text>\n<text text-anchor=\"middle\" x=\"3847\" y=\"-624.3\" font-family=\"Helvetica,sans-Serif\" font-size=\"14.00\">value = 1602500000.0</text>\n</g>\n<!-- 11&#45;&gt;16 -->\n<g id=\"edge58\" class=\"edge\">\n<title>11&#45;&gt;16</title>\n<path fill=\"none\" stroke=\"black\" d=\"M3741.41,-712.6C3759.61,-700.78 3780.02,-687.51 3798.02,-675.82\"/>\n<polygon fill=\"black\" stroke=\"black\" points=\"3799.43,-679.08 3805.91,-670.69 3795.62,-673.21 3799.43,-679.08\"/>\n</g>\n<!-- 19 -->\n<g id=\"node55\" class=\"node\">\n<title>19</title>\n<polygon fill=\"#f4c9ab\" stroke=\"black\" points=\"3679.5,-573 3388.5,-573 3388.5,-505 3679.5,-505 3679.5,-573\"/>\n<text text-anchor=\"middle\" x=\"3534\" y=\"-557.8\" font-family=\"Helvetica,sans-Serif\" font-size=\"14.00\">building_age &lt;= 8.0</text>\n<text text-anchor=\"middle\" x=\"3534\" y=\"-542.8\" font-family=\"Helvetica,sans-Serif\" font-size=\"14.00\">squared_error = 8.008000067200006e+16</text>\n<text text-anchor=\"middle\" x=\"3534\" y=\"-527.8\" font-family=\"Helvetica,sans-Serif\" font-size=\"14.00\">samples = 6</text>\n<text text-anchor=\"middle\" x=\"3534\" y=\"-512.8\" font-family=\"Helvetica,sans-Serif\" font-size=\"14.00\">value = 692000001.167</text>\n</g>\n<!-- 15&#45;&gt;19 -->\n<g id=\"edge54\" class=\"edge\">\n<title>15&#45;&gt;19</title>\n<path fill=\"none\" stroke=\"black\" d=\"M3534,-608.6C3534,-601.03 3534,-592.87 3534,-584.9\"/>\n<polygon fill=\"black\" stroke=\"black\" points=\"3537.5,-584.99 3534,-574.99 3530.5,-584.99 3537.5,-584.99\"/>\n</g>\n<!-- 20 -->\n<g id=\"node58\" class=\"node\">\n<title>20</title>\n<polygon fill=\"#e58139\" stroke=\"black\" points=\"3858,-565.5 3698,-565.5 3698,-512.5 3858,-512.5 3858,-565.5\"/>\n<text text-anchor=\"middle\" x=\"3778\" y=\"-550.3\" font-family=\"Helvetica,sans-Serif\" font-size=\"14.00\">squared_error = 512.0</text>\n<text text-anchor=\"middle\" x=\"3778\" y=\"-535.3\" font-family=\"Helvetica,sans-Serif\" font-size=\"14.00\">samples = 1</text>\n<text text-anchor=\"middle\" x=\"3778\" y=\"-520.3\" font-family=\"Helvetica,sans-Serif\" font-size=\"14.00\">value = 1600000000.0</text>\n</g>\n<!-- 15&#45;&gt;20 -->\n<g id=\"edge57\" class=\"edge\">\n<title>15&#45;&gt;20</title>\n<path fill=\"none\" stroke=\"black\" d=\"M3613.89,-608.6C3643.48,-596.23 3676.83,-582.29 3705.7,-570.22\"/>\n<polygon fill=\"black\" stroke=\"black\" points=\"3706.85,-573.54 3714.72,-566.45 3704.15,-567.08 3706.85,-573.54\"/>\n</g>\n<!-- 31 -->\n<g id=\"node56\" class=\"node\">\n<title>31</title>\n<polygon fill=\"#f8ddc9\" stroke=\"black\" points=\"3536.5,-461.5 3245.5,-461.5 3245.5,-408.5 3536.5,-408.5 3536.5,-461.5\"/>\n<text text-anchor=\"middle\" x=\"3391\" y=\"-446.3\" font-family=\"Helvetica,sans-Serif\" font-size=\"14.00\">squared_error = 3.842222222222221e+16</text>\n<text text-anchor=\"middle\" x=\"3391\" y=\"-431.3\" font-family=\"Helvetica,sans-Serif\" font-size=\"14.00\">samples = 3</text>\n<text text-anchor=\"middle\" x=\"3391\" y=\"-416.3\" font-family=\"Helvetica,sans-Serif\" font-size=\"14.00\">value = 446666666.667</text>\n</g>\n<!-- 19&#45;&gt;31 -->\n<g id=\"edge55\" class=\"edge\">\n<title>19&#45;&gt;31</title>\n<path fill=\"none\" stroke=\"black\" d=\"M3487.18,-504.6C3470.83,-492.94 3452.53,-479.89 3436.32,-468.32\"/>\n<polygon fill=\"black\" stroke=\"black\" points=\"3438.44,-465.54 3428.27,-462.58 3434.38,-471.24 3438.44,-465.54\"/>\n</g>\n<!-- 32 -->\n<g id=\"node57\" class=\"node\">\n<title>32</title>\n<polygon fill=\"#f0b68c\" stroke=\"black\" points=\"3821,-461.5 3555,-461.5 3555,-408.5 3821,-408.5 3821,-461.5\"/>\n<text text-anchor=\"middle\" x=\"3688\" y=\"-446.3\" font-family=\"Helvetica,sans-Serif\" font-size=\"14.00\">squared_error = 1360889088000128.0</text>\n<text text-anchor=\"middle\" x=\"3688\" y=\"-431.3\" font-family=\"Helvetica,sans-Serif\" font-size=\"14.00\">samples = 3</text>\n<text text-anchor=\"middle\" x=\"3688\" y=\"-416.3\" font-family=\"Helvetica,sans-Serif\" font-size=\"14.00\">value = 937333335.667</text>\n</g>\n<!-- 19&#45;&gt;32 -->\n<g id=\"edge56\" class=\"edge\">\n<title>19&#45;&gt;32</title>\n<path fill=\"none\" stroke=\"black\" d=\"M3584.43,-504.6C3602.19,-492.84 3622.1,-479.65 3639.69,-468\"/>\n<polygon fill=\"black\" stroke=\"black\" points=\"3641.52,-470.98 3647.93,-462.54 3637.66,-465.15 3641.52,-470.98\"/>\n</g>\n<!-- 51 -->\n<g id=\"node61\" class=\"node\">\n<title>51</title>\n<polygon fill=\"#f7d9c4\" stroke=\"black\" points=\"4301.5,-669.5 4010.5,-669.5 4010.5,-616.5 4301.5,-616.5 4301.5,-669.5\"/>\n<text text-anchor=\"middle\" x=\"4156\" y=\"-654.3\" font-family=\"Helvetica,sans-Serif\" font-size=\"14.00\">squared_error = 2.980792602040816e+16</text>\n<text text-anchor=\"middle\" x=\"4156\" y=\"-639.3\" font-family=\"Helvetica,sans-Serif\" font-size=\"14.00\">samples = 7</text>\n<text text-anchor=\"middle\" x=\"4156\" y=\"-624.3\" font-family=\"Helvetica,sans-Serif\" font-size=\"14.00\">value = 490607142.857</text>\n</g>\n<!-- 12&#45;&gt;51 -->\n<g id=\"edge60\" class=\"edge\">\n<title>12&#45;&gt;51</title>\n<path fill=\"none\" stroke=\"black\" d=\"M4156,-712.6C4156,-702.47 4156,-691.28 4156,-680.93\"/>\n<polygon fill=\"black\" stroke=\"black\" points=\"4159.5,-681.22 4156,-671.22 4152.5,-681.22 4159.5,-681.22\"/>\n</g>\n<!-- 52 -->\n<g id=\"node62\" class=\"node\">\n<title>52</title>\n<polygon fill=\"#fbeee4\" stroke=\"black\" points=\"4618.5,-669.5 4319.5,-669.5 4319.5,-616.5 4618.5,-616.5 4618.5,-669.5\"/>\n<text text-anchor=\"middle\" x=\"4469\" y=\"-654.3\" font-family=\"Helvetica,sans-Serif\" font-size=\"14.00\">squared_error = 1.4047222222222176e+16</text>\n<text text-anchor=\"middle\" x=\"4469\" y=\"-639.3\" font-family=\"Helvetica,sans-Serif\" font-size=\"14.00\">samples = 6</text>\n<text text-anchor=\"middle\" x=\"4469\" y=\"-624.3\" font-family=\"Helvetica,sans-Serif\" font-size=\"14.00\">value = 234333333.333</text>\n</g>\n<!-- 12&#45;&gt;52 -->\n<g id=\"edge61\" class=\"edge\">\n<title>12&#45;&gt;52</title>\n<path fill=\"none\" stroke=\"black\" d=\"M4258.49,-712.6C4297.19,-699.99 4340.91,-685.74 4378.45,-673.51\"/>\n<polygon fill=\"black\" stroke=\"black\" points=\"4379.51,-676.85 4387.93,-670.42 4377.34,-670.19 4379.51,-676.85\"/>\n</g>\n</g>\n</svg>\n",
      "text/plain": [
       "<graphviz.sources.Source at 0x20798043f40>"
      ]
     },
     "execution_count": 72,
     "metadata": {},
     "output_type": "execute_result"
    }
   ],
   "source": [
    "graph"
   ]
  },
  {
   "cell_type": "code",
   "execution_count": 16,
   "metadata": {},
   "outputs": [
    {
     "data": {
      "text/plain": [
       "0.3073761086918353"
      ]
     },
     "execution_count": 16,
     "metadata": {},
     "output_type": "execute_result"
    }
   ],
   "source": [
    "np.array(scores).mean()"
   ]
  },
  {
   "cell_type": "code",
   "execution_count": null,
   "metadata": {},
   "outputs": [],
   "source": [
    "tree = DecisionTreeRegressor(criterion='absolute_error', min_samples_split=5, max_leaf_nodes=16)"
   ]
  },
  {
   "cell_type": "code",
   "execution_count": null,
   "metadata": {},
   "outputs": [],
   "source": [
    "scores=[]\n",
    "kf = KFold(n_splits=10)\n",
    "for year in df_join.YEAR.unique():\n",
    "            \n",
    "    x, y = df_join[df_join['YEAR']==year][[ 'floor', 'building_age', 'total_floor', 'Latitude', 'Longitude','Regions_Alatau', 'Regions_Almaly', 'Regions_Almaty', 'Regions_Auezov',\n",
    "        'Regions_Bostandyq', 'Regions_Jetysu', 'Regions_Medeu',\n",
    "        'Regions_Nauryzbai', 'Regions_Turksib','YEAR']], df_join[df_join['YEAR']==year]['price_adj_per_area']\n",
    "    kf.get_n_splits(x, y)\n",
    "    for train_index,test_index in kf.split(x, y):    \n",
    "        X_train, X_test, y_train, y_test = x.iloc[train_index], x.iloc[test_index], y.iloc[train_index], y.iloc[test_index]\n",
    "        tree.fit(X_train, y_train)\n",
    "        scores.append(tree.score(X_test, y_test))"
   ]
  },
  {
   "cell_type": "code",
   "execution_count": null,
   "metadata": {},
   "outputs": [],
   "source": [
    "sample_means = df_join.groupby('YEAR', as_index=False).apply(lambda x: x.sample(20)).groupby('YEAR')['price_adj_per_area'].mean()\n"
   ]
  },
  {
   "cell_type": "code",
   "execution_count": 33,
   "metadata": {},
   "outputs": [],
   "source": [
    "performance_measure = dict()\n",
    "kf = KFold(n_splits=10,shuffle=True)\n",
    "for max_leaf_nodes in range(2, 50, 1):\n",
    "    tree = DecisionTreeRegressor(criterion='squared_error', min_samples_leaf=5, max_leaf_nodes=max_leaf_nodes)\n",
    "    scores=[]\n",
    "    for year in df_join.YEAR.unique():\n",
    "                \n",
    "        x, y = df_join[df_join['YEAR']==year][[ 'area','floor', 'building_age', 'total_floor', 'Latitude', 'Longitude','Regions_Alatau', 'Regions_Almaly', 'Regions_Almaty', 'Regions_Auezov',\n",
    "            'Regions_Bostandyq', 'Regions_Jetysu', 'Regions_Medeu',\n",
    "            'Regions_Nauryzbai', 'Regions_Turksib','YEAR']], df_join[df_join['YEAR']==year]['price']\n",
    "        kf.get_n_splits(x, y)\n",
    "        for train_index,test_index in kf.split(x, y):    \n",
    "            X_train, X_test, y_train, y_test = x.iloc[train_index], x.iloc[test_index], y.iloc[train_index], y.iloc[test_index]\n",
    "            tree.fit(X_train, y_train)\n",
    "            scores.append(tree.score(X_test, y_test))\n",
    "\n",
    "    performance_measure[max_leaf_nodes] = np.array(scores).mean() "
   ]
  },
  {
   "cell_type": "code",
   "execution_count": 36,
   "metadata": {},
   "outputs": [
    {
     "name": "stdout",
     "output_type": "stream",
     "text": [
      "TIMESERIES CV PERFORMANCE\n",
      "R^2 0.5855061550398324\n",
      "MSE 579572459949086.0\n",
      "RMSE 24074311.204042494\n",
      "MAE 10178768.729200227\n",
      "MAPE 0.2469947706631222\n"
     ]
    }
   ],
   "source": [
    "performance_measure = dict()\n",
    "kf = KFold(n_splits=5,shuffle=True)\n",
    "\n",
    "\n",
    "scores=[]\n",
    "mses = []\n",
    "maes = []\n",
    "mapes = []\n",
    "for year in df_join.YEAR.unique():\n",
    "    tree = DecisionTreeRegressor(criterion='squared_error', min_samples_leaf=5, max_leaf_nodes=11)\n",
    "    x, y = df_join[df_join['YEAR']==year][[ 'area','floor', 'building_age', 'total_floor', 'Latitude', 'Longitude','YEAR']], df_join[df_join['YEAR']==year]['price']\n",
    "    kf.get_n_splits(x, y)\n",
    "    scores_iter=[]\n",
    "    mses_iter = []\n",
    "    maes_iter = []\n",
    "    mapes_iter = []\n",
    "    for train_index,test_index in kf.split(x, y):    \n",
    "        X_train, X_test, y_train, y_test = x.iloc[train_index], x.iloc[test_index], y.iloc[train_index], y.iloc[test_index]\n",
    "        tree.fit(X_train, y_train)\n",
    "\n",
    "        #mathematical trick see beyond what you see\n",
    "\n",
    "        scores_iter.append(tree.score(X_test, y_test))\n",
    "        y_pred = tree.predict(X_test)\n",
    "        mses_iter.append(mean_squared_error(y_pred, y_test))\n",
    "        maes_iter.append(mean_absolute_error(y_pred, y_test))\n",
    "        mapes_iter.append(mean_absolute_percentage_error(y_pred, y_test))\n",
    "    scores.append(np.mean(scores_iter))\n",
    "    mses.append(np.mean(mses_iter))\n",
    "    maes.append(np.mean(maes_iter))\n",
    "    mapes.append(np.mean(mapes_iter))\n",
    "\n",
    "print('TIMESERIES CV PERFORMANCE')\n",
    "print('R^2', np.mean(scores))\n",
    "print('MSE', np.mean(mses))\n",
    "print('RMSE', np.mean(mses)**0.5)\n",
    "print('MAE', np.mean(maes))\n",
    "print('MAPE', np.mean(mapes)) "
   ]
  },
  {
   "cell_type": "code",
   "execution_count": 34,
   "metadata": {},
   "outputs": [
    {
     "data": {
      "text/plain": [
       "11"
      ]
     },
     "execution_count": 34,
     "metadata": {},
     "output_type": "execute_result"
    }
   ],
   "source": [
    "max(performance_measure, key=performance_measure.get)"
   ]
  },
  {
   "cell_type": "code",
   "execution_count": 35,
   "metadata": {},
   "outputs": [
    {
     "data": {
      "text/plain": [
       "0.588424960672692"
      ]
     },
     "execution_count": 35,
     "metadata": {},
     "output_type": "execute_result"
    }
   ],
   "source": [
    "performance_measure[max(performance_measure, key=performance_measure.get)]"
   ]
  },
  {
   "cell_type": "code",
   "execution_count": 87,
   "metadata": {},
   "outputs": [
    {
     "data": {
      "text/plain": [
       "{2: -0.053908320504698425,\n",
       " 3: 0.1616475257789399,\n",
       " 4: -0.9886463881624353,\n",
       " 5: 0.40858200018093066,\n",
       " 6: 0.45084598550215754,\n",
       " 7: -0.45220787816753416,\n",
       " 8: 0.49083308194685105,\n",
       " 9: 0.47395606552847375,\n",
       " 10: 0.2880736327254165,\n",
       " 11: 0.035410969852005626,\n",
       " 12: 0.213919334157052,\n",
       " 13: 0.34994608871098903,\n",
       " 14: 0.16100696133244824,\n",
       " 15: 0.29936430281642856,\n",
       " 16: -1.6243685974321145,\n",
       " 17: -2.6949484448134102,\n",
       " 18: -2.455090819628128,\n",
       " 19: 0.31124673295422606,\n",
       " 20: 0.5432125862470578,\n",
       " 21: 0.47582042267751606,\n",
       " 22: -2.7877860576535705,\n",
       " 23: 0.4134183431541668,\n",
       " 24: 0.17682116642293227,\n",
       " 25: 0.13400139816823398,\n",
       " 26: -1.181375039935755,\n",
       " 27: 0.3424863024305846,\n",
       " 28: 0.3069096842234494,\n",
       " 29: 0.30800283829721276,\n",
       " 30: 0.3689195765767246,\n",
       " 31: 0.2312162615111714,\n",
       " 32: 0.04445039662020178,\n",
       " 33: -2.405809927256797,\n",
       " 34: 0.5447116341589786,\n",
       " 35: -2.5742937497270826,\n",
       " 36: 0.5616725031039478,\n",
       " 37: 0.5533837043529151,\n",
       " 38: 0.5213320369589061,\n",
       " 39: 0.49922311636273686,\n",
       " 40: -0.9350701605498317,\n",
       " 41: -0.02853627562667862,\n",
       " 42: 0.5440251258685198,\n",
       " 43: 0.016333116306979933,\n",
       " 44: 0.41339187700714886,\n",
       " 45: 0.3327181681760307,\n",
       " 46: 0.5426954548748367,\n",
       " 47: 0.3140745106196362,\n",
       " 48: 0.1691434474134334,\n",
       " 49: -357.0094237458056}"
      ]
     },
     "execution_count": 87,
     "metadata": {},
     "output_type": "execute_result"
    }
   ],
   "source": [
    "performance_measure"
   ]
  },
  {
   "cell_type": "markdown",
   "metadata": {},
   "source": [
    "Random Forest"
   ]
  },
  {
   "cell_type": "code",
   "execution_count": 27,
   "metadata": {},
   "outputs": [],
   "source": [
    "performance_measure = dict()\n",
    "kf = KFold(n_splits=10,shuffle=True)\n",
    "for max_leaf_nodes in range(2, 20, 1):\n",
    "    tree = RandomForestRegressor(n_estimators=100 ,criterion='squared_error', min_samples_leaf=5, max_leaf_nodes=max_leaf_nodes)\n",
    "    scores=[]\n",
    "    for year in df_join.YEAR.unique():\n",
    "                \n",
    "        x, y = df_join[df_join['YEAR']==year][[ 'area','floor', 'building_age', 'total_floor', 'Latitude', 'Longitude','YEAR']], df_join[df_join['YEAR']==year]['price']\n",
    "        kf.get_n_splits(x, y)\n",
    "        for train_index,test_index in kf.split(x, y):    \n",
    "            X_train, X_test, y_train, y_test = x.iloc[train_index], x.iloc[test_index], y.iloc[train_index], y.iloc[test_index]\n",
    "            tree.fit(X_train, y_train)\n",
    "            scores.append(tree.score(X_test, y_test))\n",
    "\n",
    "    performance_measure[max_leaf_nodes] = np.array(scores).mean() "
   ]
  },
  {
   "cell_type": "code",
   "execution_count": 30,
   "metadata": {},
   "outputs": [
    {
     "name": "stdout",
     "output_type": "stream",
     "text": [
      "TIMESERIES CV PERFORMANCE\n",
      "R^2 0.6558574271880167\n",
      "MSE 519324096173822.6\n",
      "RMSE 22788683.511204034\n",
      "MAE 9428250.693048798\n",
      "MAPE 0.2293776222937195\n"
     ]
    }
   ],
   "source": [
    "performance_measure = dict()\n",
    "kf = KFold(n_splits=5,shuffle=True)\n",
    "\n",
    "\n",
    "scores=[]\n",
    "mses = []\n",
    "maes = []\n",
    "mapes = []\n",
    "for year in df_join.YEAR.unique():\n",
    "    tree = RandomForestRegressor(criterion='squared_error', min_samples_leaf=5, max_leaf_nodes=16)\n",
    "    x, y = df_join[df_join['YEAR']==year][[ 'area','floor', 'building_age', 'total_floor', 'Latitude', 'Longitude','YEAR']], df_join[df_join['YEAR']==year]['price']\n",
    "    kf.get_n_splits(x, y)\n",
    "    scores_iter=[]\n",
    "    mses_iter = []\n",
    "    maes_iter = []\n",
    "    mapes_iter = []\n",
    "    for train_index,test_index in kf.split(x, y):    \n",
    "        X_train, X_test, y_train, y_test = x.iloc[train_index], x.iloc[test_index], y.iloc[train_index], y.iloc[test_index]\n",
    "        tree.fit(X_train, y_train)\n",
    "\n",
    "        #mathematical trick see beyond what you see\n",
    "\n",
    "        scores_iter.append(tree.score(X_test, y_test))\n",
    "        y_pred = tree.predict(X_test)\n",
    "        mses_iter.append(mean_squared_error(y_pred, y_test))\n",
    "        maes_iter.append(mean_absolute_error(y_pred, y_test))\n",
    "        mapes_iter.append(mean_absolute_percentage_error(y_pred, y_test))\n",
    "    scores.append(np.mean(scores_iter))\n",
    "    mses.append(np.mean(mses_iter))\n",
    "    maes.append(np.mean(maes_iter))\n",
    "    mapes.append(np.mean(mapes_iter))\n",
    "\n",
    "print('TIMESERIES CV PERFORMANCE')\n",
    "print('R^2', np.mean(scores))\n",
    "print('MSE', np.mean(mses))\n",
    "print('RMSE', np.mean(mses)**0.5)\n",
    "print('MAE', np.mean(maes))\n",
    "print('MAPE', np.mean(mapes)) "
   ]
  },
  {
   "cell_type": "code",
   "execution_count": 28,
   "metadata": {},
   "outputs": [
    {
     "name": "stdout",
     "output_type": "stream",
     "text": [
      "Best estimator value 16\n",
      "R^2 performed 0.5510536918662733\n"
     ]
    }
   ],
   "source": [
    "print('Best estimator value', max(performance_measure, key=performance_measure.get))\n",
    "print('R^2 performed', performance_measure[max(performance_measure, key=performance_measure.get)])"
   ]
  },
  {
   "cell_type": "markdown",
   "metadata": {},
   "source": [
    "НАЧНИ ОТСЮДА"
   ]
  },
  {
   "cell_type": "markdown",
   "metadata": {},
   "source": [
    "Gradient Boosting\n"
   ]
  },
  {
   "cell_type": "code",
   "execution_count": 23,
   "metadata": {},
   "outputs": [
    {
     "ename": "KeyboardInterrupt",
     "evalue": "",
     "output_type": "error",
     "traceback": [
      "\u001b[1;31m---------------------------------------------------------------------------\u001b[0m",
      "\u001b[1;31mKeyboardInterrupt\u001b[0m                         Traceback (most recent call last)",
      "Cell \u001b[1;32mIn[23], line 14\u001b[0m\n\u001b[0;32m     12\u001b[0m     \u001b[38;5;28;01mfor\u001b[39;00m train_index,test_index \u001b[38;5;129;01min\u001b[39;00m kf\u001b[38;5;241m.\u001b[39msplit(x, y):    \n\u001b[0;32m     13\u001b[0m         X_train, X_test, y_train, y_test \u001b[38;5;241m=\u001b[39m x\u001b[38;5;241m.\u001b[39miloc[train_index], x\u001b[38;5;241m.\u001b[39miloc[test_index], y\u001b[38;5;241m.\u001b[39miloc[train_index], y\u001b[38;5;241m.\u001b[39miloc[test_index]\n\u001b[1;32m---> 14\u001b[0m         \u001b[43mtree\u001b[49m\u001b[38;5;241;43m.\u001b[39;49m\u001b[43mfit\u001b[49m\u001b[43m(\u001b[49m\u001b[43mX_train\u001b[49m\u001b[43m,\u001b[49m\u001b[43m \u001b[49m\u001b[43my_train\u001b[49m\u001b[43m)\u001b[49m\n\u001b[0;32m     15\u001b[0m         scores\u001b[38;5;241m.\u001b[39mappend(tree\u001b[38;5;241m.\u001b[39mscore(X_test, y_test))\n\u001b[0;32m     17\u001b[0m performance_measure[tree_count] \u001b[38;5;241m=\u001b[39m np\u001b[38;5;241m.\u001b[39marray(scores)\u001b[38;5;241m.\u001b[39mmean() \n",
      "File \u001b[1;32m~\\AppData\\Local\\Packages\\PythonSoftwareFoundation.Python.3.10_qbz5n2kfra8p0\\LocalCache\\local-packages\\Python310\\site-packages\\sklearn\\ensemble\\_gb.py:538\u001b[0m, in \u001b[0;36mBaseGradientBoosting.fit\u001b[1;34m(self, X, y, sample_weight, monitor)\u001b[0m\n\u001b[0;32m    535\u001b[0m     \u001b[39mself\u001b[39m\u001b[39m.\u001b[39m_resize_state()\n\u001b[0;32m    537\u001b[0m \u001b[39m# fit the boosting stages\u001b[39;00m\n\u001b[1;32m--> 538\u001b[0m n_stages \u001b[39m=\u001b[39m \u001b[39mself\u001b[39;49m\u001b[39m.\u001b[39;49m_fit_stages(\n\u001b[0;32m    539\u001b[0m     X,\n\u001b[0;32m    540\u001b[0m     y,\n\u001b[0;32m    541\u001b[0m     raw_predictions,\n\u001b[0;32m    542\u001b[0m     sample_weight,\n\u001b[0;32m    543\u001b[0m     \u001b[39mself\u001b[39;49m\u001b[39m.\u001b[39;49m_rng,\n\u001b[0;32m    544\u001b[0m     X_val,\n\u001b[0;32m    545\u001b[0m     y_val,\n\u001b[0;32m    546\u001b[0m     sample_weight_val,\n\u001b[0;32m    547\u001b[0m     begin_at_stage,\n\u001b[0;32m    548\u001b[0m     monitor,\n\u001b[0;32m    549\u001b[0m )\n\u001b[0;32m    551\u001b[0m \u001b[39m# change shape of arrays after fit (early-stopping or additional ests)\u001b[39;00m\n\u001b[0;32m    552\u001b[0m \u001b[39mif\u001b[39;00m n_stages \u001b[39m!=\u001b[39m \u001b[39mself\u001b[39m\u001b[39m.\u001b[39mestimators_\u001b[39m.\u001b[39mshape[\u001b[39m0\u001b[39m]:\n",
      "File \u001b[1;32m~\\AppData\\Local\\Packages\\PythonSoftwareFoundation.Python.3.10_qbz5n2kfra8p0\\LocalCache\\local-packages\\Python310\\site-packages\\sklearn\\ensemble\\_gb.py:615\u001b[0m, in \u001b[0;36mBaseGradientBoosting._fit_stages\u001b[1;34m(self, X, y, raw_predictions, sample_weight, random_state, X_val, y_val, sample_weight_val, begin_at_stage, monitor)\u001b[0m\n\u001b[0;32m    608\u001b[0m     old_oob_score \u001b[39m=\u001b[39m loss_(\n\u001b[0;32m    609\u001b[0m         y[\u001b[39m~\u001b[39msample_mask],\n\u001b[0;32m    610\u001b[0m         raw_predictions[\u001b[39m~\u001b[39msample_mask],\n\u001b[0;32m    611\u001b[0m         sample_weight[\u001b[39m~\u001b[39msample_mask],\n\u001b[0;32m    612\u001b[0m     )\n\u001b[0;32m    614\u001b[0m \u001b[39m# fit next stage of trees\u001b[39;00m\n\u001b[1;32m--> 615\u001b[0m raw_predictions \u001b[39m=\u001b[39m \u001b[39mself\u001b[39;49m\u001b[39m.\u001b[39;49m_fit_stage(\n\u001b[0;32m    616\u001b[0m     i,\n\u001b[0;32m    617\u001b[0m     X,\n\u001b[0;32m    618\u001b[0m     y,\n\u001b[0;32m    619\u001b[0m     raw_predictions,\n\u001b[0;32m    620\u001b[0m     sample_weight,\n\u001b[0;32m    621\u001b[0m     sample_mask,\n\u001b[0;32m    622\u001b[0m     random_state,\n\u001b[0;32m    623\u001b[0m     X_csc,\n\u001b[0;32m    624\u001b[0m     X_csr,\n\u001b[0;32m    625\u001b[0m )\n\u001b[0;32m    627\u001b[0m \u001b[39m# track deviance (= loss)\u001b[39;00m\n\u001b[0;32m    628\u001b[0m \u001b[39mif\u001b[39;00m do_oob:\n",
      "File \u001b[1;32m~\\AppData\\Local\\Packages\\PythonSoftwareFoundation.Python.3.10_qbz5n2kfra8p0\\LocalCache\\local-packages\\Python310\\site-packages\\sklearn\\ensemble\\_gb.py:257\u001b[0m, in \u001b[0;36mBaseGradientBoosting._fit_stage\u001b[1;34m(self, i, X, y, raw_predictions, sample_weight, sample_mask, random_state, X_csc, X_csr)\u001b[0m\n\u001b[0;32m    254\u001b[0m     sample_weight \u001b[39m=\u001b[39m sample_weight \u001b[39m*\u001b[39m sample_mask\u001b[39m.\u001b[39mastype(np\u001b[39m.\u001b[39mfloat64)\n\u001b[0;32m    256\u001b[0m X \u001b[39m=\u001b[39m X_csr \u001b[39mif\u001b[39;00m X_csr \u001b[39mis\u001b[39;00m \u001b[39mnot\u001b[39;00m \u001b[39mNone\u001b[39;00m \u001b[39melse\u001b[39;00m X\n\u001b[1;32m--> 257\u001b[0m tree\u001b[39m.\u001b[39;49mfit(X, residual, sample_weight\u001b[39m=\u001b[39;49msample_weight, check_input\u001b[39m=\u001b[39;49m\u001b[39mFalse\u001b[39;49;00m)\n\u001b[0;32m    259\u001b[0m \u001b[39m# update tree leaves\u001b[39;00m\n\u001b[0;32m    260\u001b[0m loss\u001b[39m.\u001b[39mupdate_terminal_regions(\n\u001b[0;32m    261\u001b[0m     tree\u001b[39m.\u001b[39mtree_,\n\u001b[0;32m    262\u001b[0m     X,\n\u001b[1;32m   (...)\u001b[0m\n\u001b[0;32m    269\u001b[0m     k\u001b[39m=\u001b[39mk,\n\u001b[0;32m    270\u001b[0m )\n",
      "File \u001b[1;32m~\\AppData\\Local\\Packages\\PythonSoftwareFoundation.Python.3.10_qbz5n2kfra8p0\\LocalCache\\local-packages\\Python310\\site-packages\\sklearn\\tree\\_classes.py:1247\u001b[0m, in \u001b[0;36mDecisionTreeRegressor.fit\u001b[1;34m(self, X, y, sample_weight, check_input)\u001b[0m\n\u001b[0;32m   1218\u001b[0m \u001b[39mdef\u001b[39;00m \u001b[39mfit\u001b[39m(\u001b[39mself\u001b[39m, X, y, sample_weight\u001b[39m=\u001b[39m\u001b[39mNone\u001b[39;00m, check_input\u001b[39m=\u001b[39m\u001b[39mTrue\u001b[39;00m):\n\u001b[0;32m   1219\u001b[0m \u001b[39m    \u001b[39m\u001b[39m\"\"\"Build a decision tree regressor from the training set (X, y).\u001b[39;00m\n\u001b[0;32m   1220\u001b[0m \n\u001b[0;32m   1221\u001b[0m \u001b[39m    Parameters\u001b[39;00m\n\u001b[1;32m   (...)\u001b[0m\n\u001b[0;32m   1244\u001b[0m \u001b[39m        Fitted estimator.\u001b[39;00m\n\u001b[0;32m   1245\u001b[0m \u001b[39m    \"\"\"\u001b[39;00m\n\u001b[1;32m-> 1247\u001b[0m     \u001b[39msuper\u001b[39;49m()\u001b[39m.\u001b[39;49mfit(\n\u001b[0;32m   1248\u001b[0m         X,\n\u001b[0;32m   1249\u001b[0m         y,\n\u001b[0;32m   1250\u001b[0m         sample_weight\u001b[39m=\u001b[39;49msample_weight,\n\u001b[0;32m   1251\u001b[0m         check_input\u001b[39m=\u001b[39;49mcheck_input,\n\u001b[0;32m   1252\u001b[0m     )\n\u001b[0;32m   1253\u001b[0m     \u001b[39mreturn\u001b[39;00m \u001b[39mself\u001b[39m\n",
      "File \u001b[1;32m~\\AppData\\Local\\Packages\\PythonSoftwareFoundation.Python.3.10_qbz5n2kfra8p0\\LocalCache\\local-packages\\Python310\\site-packages\\sklearn\\tree\\_classes.py:379\u001b[0m, in \u001b[0;36mBaseDecisionTree.fit\u001b[1;34m(self, X, y, sample_weight, check_input)\u001b[0m\n\u001b[0;32m    368\u001b[0m \u001b[39melse\u001b[39;00m:\n\u001b[0;32m    369\u001b[0m     builder \u001b[39m=\u001b[39m BestFirstTreeBuilder(\n\u001b[0;32m    370\u001b[0m         splitter,\n\u001b[0;32m    371\u001b[0m         min_samples_split,\n\u001b[1;32m   (...)\u001b[0m\n\u001b[0;32m    376\u001b[0m         \u001b[39mself\u001b[39m\u001b[39m.\u001b[39mmin_impurity_decrease,\n\u001b[0;32m    377\u001b[0m     )\n\u001b[1;32m--> 379\u001b[0m builder\u001b[39m.\u001b[39;49mbuild(\u001b[39mself\u001b[39;49m\u001b[39m.\u001b[39;49mtree_, X, y, sample_weight)\n\u001b[0;32m    381\u001b[0m \u001b[39mif\u001b[39;00m \u001b[39mself\u001b[39m\u001b[39m.\u001b[39mn_outputs_ \u001b[39m==\u001b[39m \u001b[39m1\u001b[39m \u001b[39mand\u001b[39;00m is_classifier(\u001b[39mself\u001b[39m):\n\u001b[0;32m    382\u001b[0m     \u001b[39mself\u001b[39m\u001b[39m.\u001b[39mn_classes_ \u001b[39m=\u001b[39m \u001b[39mself\u001b[39m\u001b[39m.\u001b[39mn_classes_[\u001b[39m0\u001b[39m]\n",
      "\u001b[1;31mKeyboardInterrupt\u001b[0m: "
     ]
    }
   ],
   "source": [
    "performance_measure = dict()\n",
    "kf = KFold(n_splits=5,shuffle=True)\n",
    "for tree_count in range(200, 1000, 100): #настраивай вот эти слева и вон тот справа \n",
    "    tree = GradientBoostingRegressor(n_estimators=tree_count ,criterion='squared_error', min_samples_leaf=5, max_leaf_nodes=6) # да вот этот\n",
    "    scores=[]\n",
    "    for year in df_join.YEAR.unique():\n",
    "                \n",
    "        x, y = df_join[df_join['YEAR']==year][[ 'area','floor', 'building_age', 'total_floor', 'Latitude', 'Longitude','Regions_Alatau', 'Regions_Almaly', 'Regions_Almaty', 'Regions_Auezov',\n",
    "            'Regions_Bostandyq', 'Regions_Jetysu', 'Regions_Medeu',\n",
    "            'Regions_Nauryzbai', 'Regions_Turksib','YEAR']], df_join[df_join['YEAR']==year]['price']\n",
    "        kf.get_n_splits(x, y)\n",
    "        for train_index,test_index in kf.split(x, y):    \n",
    "            X_train, X_test, y_train, y_test = x.iloc[train_index], x.iloc[test_index], y.iloc[train_index], y.iloc[test_index]\n",
    "            tree.fit(X_train, y_train)\n",
    "            scores.append(tree.score(X_test, y_test))\n",
    "\n",
    "    performance_measure[tree_count] = np.array(scores).mean() "
   ]
  },
  {
   "cell_type": "code",
   "execution_count": 24,
   "metadata": {},
   "outputs": [
    {
     "name": "stdout",
     "output_type": "stream",
     "text": [
      "Best estimator value 200\n",
      "R^2 performed 0.6858118858085701\n"
     ]
    }
   ],
   "source": [
    "print('Best estimator value', max(performance_measure, key=performance_measure.get))\n",
    "print('R^2 performed', performance_measure[max(performance_measure, key=performance_measure.get)])"
   ]
  },
  {
   "cell_type": "code",
   "execution_count": 32,
   "metadata": {},
   "outputs": [
    {
     "name": "stdout",
     "output_type": "stream",
     "text": [
      "TIMESERIES CV PERFORMANCE\n",
      "R^2 0.7156393867453958\n",
      "MSE 455946586883039.06\n",
      "RMSE 21352905.818249635\n",
      "MAE 8203173.351156605\n",
      "MAPE 0.19367044690178115\n"
     ]
    }
   ],
   "source": [
    "performance_measure = dict()\n",
    "kf = KFold(n_splits=5,shuffle=True)\n",
    "\n",
    "\n",
    "scores=[]\n",
    "mses = []\n",
    "maes = []\n",
    "mapes = []\n",
    "for year in df_join.YEAR.unique():\n",
    "    tree = GradientBoostingRegressor(criterion='squared_error', min_samples_leaf=5, max_leaf_nodes=6, n_estimators=40)\n",
    "    x, y = df_join[df_join['YEAR']==year][[ 'area','floor', 'building_age', 'total_floor', 'Latitude', 'Longitude','YEAR']], df_join[df_join['YEAR']==year]['price']\n",
    "    kf.get_n_splits(x, y)\n",
    "    scores_iter=[]\n",
    "    mses_iter = []\n",
    "    maes_iter = []\n",
    "    mapes_iter = []\n",
    "    for train_index,test_index in kf.split(x, y):    \n",
    "        X_train, X_test, y_train, y_test = x.iloc[train_index], x.iloc[test_index], y.iloc[train_index], y.iloc[test_index]\n",
    "        tree.fit(X_train, y_train)\n",
    "\n",
    "        #mathematical trick see beyond what you see\n",
    "\n",
    "        scores_iter.append(tree.score(X_test, y_test))\n",
    "        y_pred = tree.predict(X_test)\n",
    "        mses_iter.append(mean_squared_error(y_pred, y_test))\n",
    "        maes_iter.append(mean_absolute_error(y_pred, y_test))\n",
    "        mapes_iter.append(mean_absolute_percentage_error(y_pred, y_test))\n",
    "    scores.append(np.mean(scores_iter))\n",
    "    mses.append(np.mean(mses_iter))\n",
    "    maes.append(np.mean(maes_iter))\n",
    "    mapes.append(np.mean(mapes_iter))\n",
    "\n",
    "print('TIMESERIES CV PERFORMANCE')\n",
    "print('R^2', np.mean(scores))\n",
    "print('MSE', np.mean(mses))\n",
    "print('RMSE', np.mean(mses)**0.5)\n",
    "print('MAE', np.mean(maes))\n",
    "print('MAPE', np.mean(mapes)) "
   ]
  },
  {
   "cell_type": "markdown",
   "metadata": {},
   "source": [
    "Ada Boost"
   ]
  },
  {
   "cell_type": "code",
   "execution_count": 96,
   "metadata": {},
   "outputs": [
    {
     "data": {
      "text/plain": [
       "[10, 20, 30, 40, 50, 60, 70, 80, 90]"
      ]
     },
     "execution_count": 96,
     "metadata": {},
     "output_type": "execute_result"
    }
   ],
   "source": [
    "list(range(10, 100, 10))"
   ]
  },
  {
   "cell_type": "code",
   "execution_count": 7,
   "metadata": {},
   "outputs": [],
   "source": [
    "performance_measure = dict()\n",
    "kf = KFold(n_splits=10,shuffle=True)\n",
    "for tree_count in range(10, 25, 1): #настраивай вот эти слева и вон тот справа \n",
    "    tree = AdaBoostRegressor(estimator=DecisionTreeRegressor(criterion='squared_error', min_samples_leaf=5, max_leaf_nodes=6),n_estimators=tree_count ) # да вот этот\n",
    "    scores=[]\n",
    "    for year in df_join.YEAR.unique():\n",
    "                \n",
    "        x, y = df_join[df_join['YEAR']==year][[ 'area','floor', 'building_age', 'total_floor', 'Latitude', 'Longitude','Regions_Alatau', 'Regions_Almaly', 'Regions_Almaty', 'Regions_Auezov',\n",
    "            'Regions_Bostandyq', 'Regions_Jetysu', 'Regions_Medeu',\n",
    "            'Regions_Nauryzbai', 'Regions_Turksib','YEAR']], df_join[df_join['YEAR']==year]['price']\n",
    "        kf.get_n_splits(x, y)\n",
    "        for train_index,test_index in kf.split(x, y):    \n",
    "            X_train, X_test, y_train, y_test = x.iloc[train_index], x.iloc[test_index], y.iloc[train_index], y.iloc[test_index]\n",
    "            tree.fit(X_train, y_train)\n",
    "            scores.append(tree.score(X_test, y_test))\n",
    "\n",
    "    performance_measure[tree_count] = np.array(scores).mean() "
   ]
  },
  {
   "cell_type": "code",
   "execution_count": 9,
   "metadata": {},
   "outputs": [
    {
     "name": "stdout",
     "output_type": "stream",
     "text": [
      "Best estimator value 22\n",
      "R^2 performed 0.39798866497842855\n"
     ]
    }
   ],
   "source": [
    "print('Best estimator value', max(performance_measure, key=performance_measure.get))\n",
    "print('R^2 performed', performance_measure[max(performance_measure, key=performance_measure.get)])"
   ]
  },
  {
   "cell_type": "code",
   "execution_count": 15,
   "metadata": {},
   "outputs": [
    {
     "data": {
      "text/plain": [
       "[<matplotlib.lines.Line2D at 0x20796288df0>]"
      ]
     },
     "execution_count": 15,
     "metadata": {},
     "output_type": "execute_result"
    },
    {
     "data": {
      "image/png": "[encoded data removed]",
      "text/plain": [
       "<Figure size 640x480 with 1 Axes>"
      ]
     },
     "metadata": {},
     "output_type": "display_data"
    }
   ],
   "source": [
    "plt.plot(pd.DataFrame.from_dict(performance_measure, orient='index', columns=['R^2']))"
   ]
  },
  {
   "cell_type": "code",
   "execution_count": 23,
   "metadata": {},
   "outputs": [
    {
     "name": "stdout",
     "output_type": "stream",
     "text": [
      "TIMESERIES CV PERFORMANCE\n",
      "R^2 0.6425681884254164\n",
      "MSE 509980179186465.25\n",
      "RMSE 22582740.73682079\n",
      "MAE 10324358.60141979\n",
      "MAPE 0.23608490603407126\n"
     ]
    }
   ],
   "source": [
    "performance_measure = dict()\n",
    "kf = KFold(n_splits=5,shuffle=True)\n",
    "\n",
    "\n",
    "scores=[]\n",
    "mses = []\n",
    "maes = []\n",
    "mapes = []\n",
    "for year in df_join.YEAR.unique():\n",
    "    tree = AdaBoostRegressor(estimator=DecisionTreeRegressor(criterion='squared_error', min_samples_leaf=3, max_leaf_nodes=30), n_estimators=20)\n",
    "    x, y = df_join[df_join['YEAR']==year][[ 'area','floor', 'building_age', 'total_floor', 'Latitude', 'Longitude','YEAR']], df_join[df_join['YEAR']==year]['price']\n",
    "    kf.get_n_splits(x, y)\n",
    "    scores_iter=[]\n",
    "    mses_iter = []\n",
    "    maes_iter = []\n",
    "    mapes_iter = []\n",
    "    for train_index,test_index in kf.split(x, y):    \n",
    "        X_train, X_test, y_train, y_test = x.iloc[train_index], x.iloc[test_index], y.iloc[train_index], y.iloc[test_index]\n",
    "        tree.fit(X_train, y_train)\n",
    "\n",
    "        #mathematical trick see beyond what you see\n",
    "\n",
    "        scores_iter.append(tree.score(X_test, y_test))\n",
    "        y_pred = tree.predict(X_test)\n",
    "        mses_iter.append(mean_squared_error(y_pred, y_test))\n",
    "        maes_iter.append(mean_absolute_error(y_pred, y_test))\n",
    "        mapes_iter.append(mean_absolute_percentage_error(y_pred, y_test))\n",
    "    scores.append(np.mean(scores_iter))\n",
    "    mses.append(np.mean(mses_iter))\n",
    "    maes.append(np.mean(maes_iter))\n",
    "    mapes.append(np.mean(mapes_iter))\n",
    "\n",
    "print('TIMESERIES CV PERFORMANCE')\n",
    "print('R^2', np.mean(scores))\n",
    "print('MSE', np.mean(mses))\n",
    "print('RMSE', np.mean(mses)**0.5)\n",
    "print('MAE', np.mean(maes))\n",
    "print('MAPE', np.mean(mapes)) "
   ]
  },
  {
   "cell_type": "code",
   "execution_count": 43,
   "metadata": {},
   "outputs": [
    {
     "data": {
      "text/plain": [
       "11"
      ]
     },
     "execution_count": 43,
     "metadata": {},
     "output_type": "execute_result"
    }
   ],
   "source": [
    "len('11300938580')"
   ]
  },
  {
   "cell_type": "code",
   "execution_count": 42,
   "metadata": {},
   "outputs": [
    {
     "data": {
      "text/plain": [
       "11"
      ]
     },
     "execution_count": 42,
     "metadata": {},
     "output_type": "execute_result"
    }
   ],
   "source": [
    "len(str(int(2.759e10)))"
   ]
  },
  {
   "cell_type": "markdown",
   "metadata": {},
   "source": [
    "Bagging"
   ]
  },
  {
   "cell_type": "code",
   "execution_count": null,
   "metadata": {},
   "outputs": [],
   "source": [
    "performance_measure = dict()\n",
    "kf = KFold(n_splits=10,shuffle=True)\n",
    "for max_leaf_nodes in range(2, 50, 1):\n",
    "    tree = BaggingRegressor(DecisionTreeRegressor(criterion='squared_error', min_samples_leaf=5, max_leaf_nodes=max_leaf_nodes), n_estimators=10)\n",
    "    scores=[]\n",
    "    for year in df_join.YEAR.unique():\n",
    "                \n",
    "        x, y = df_join[df_join['YEAR']==year][[ 'area','floor', 'building_age', 'total_floor', 'Latitude', 'Longitude','Regions_Alatau', 'Regions_Almaly', 'Regions_Almaty', 'Regions_Auezov',\n",
    "            'Regions_Bostandyq', 'Regions_Jetysu', 'Regions_Medeu',\n",
    "            'Regions_Nauryzbai', 'Regions_Turksib','YEAR']], df_join[df_join['YEAR']==year]['price']\n",
    "        kf.get_n_splits(x, y)\n",
    "        for train_index,test_index in kf.split(x, y):    \n",
    "            X_train, X_test, y_train, y_test = x.iloc[train_index], x.iloc[test_index], y.iloc[train_index], y.iloc[test_index]\n",
    "            tree.fit(X_train, y_train)\n",
    "            scores.append(tree.score(X_test, y_test))\n",
    "\n",
    "    performance_measure[max_leaf_nodes] = np.array(scores).mean() "
   ]
  },
  {
   "cell_type": "markdown",
   "metadata": {},
   "source": [
    "print('Best estimator value', max(performance_measure, key=performance_measure.get))\n",
    "print('R^2 performed', performance_measure[max(performance_measure, key=performance_measure.get)])"
   ]
  },
  {
   "cell_type": "code",
   "execution_count": 3,
   "metadata": {},
   "outputs": [],
   "source": [
    "from sklearn.metrics import mean_squared_error, mean_absolute_error, mean_absolute_percentage_error"
   ]
  },
  {
   "cell_type": "markdown",
   "metadata": {},
   "source": [
    "Best Bagging"
   ]
  },
  {
   "cell_type": "code",
   "execution_count": 14,
   "metadata": {},
   "outputs": [
    {
     "name": "stdout",
     "output_type": "stream",
     "text": [
      "TIMESERIES CV PERFORMANCE\n",
      "R^2 0.7224484413252733\n",
      "MSE 439407853788287.1\n",
      "RMSE 20962057.47984408\n",
      "MAE 8147583.106507335\n",
      "MAPE 0.19366681694524782\n"
     ]
    }
   ],
   "source": [
    "performance_measure = dict()\n",
    "kf = KFold(n_splits=5,shuffle=True)\n",
    "\n",
    "\n",
    "scores=[]\n",
    "mses = []\n",
    "maes = []\n",
    "mapes = []\n",
    "for year in df_join.YEAR.unique():\n",
    "    tree = BaggingRegressor(DecisionTreeRegressor(criterion='squared_error', min_samples_leaf=3, max_leaf_nodes=36\n",
    "    ), n_estimators=10)\n",
    "    x, y = df_join[df_join['YEAR']==year][[ 'area','floor', 'building_age', 'total_floor', 'Latitude', 'Longitude','Regions_Alatau', 'Regions_Almaly', 'Regions_Almaty', 'Regions_Auezov',\n",
    "        'Regions_Bostandyq', 'Regions_Jetysu', 'Regions_Medeu',\n",
    "        'Regions_Nauryzbai', 'Regions_Turksib','YEAR']], df_join[df_join['YEAR']==year]['price']\n",
    "    kf.get_n_splits(x, y)\n",
    "    scores_iter=[]\n",
    "    mses_iter = []\n",
    "    maes_iter = []\n",
    "    mapes_iter = []\n",
    "    for train_index,test_index in kf.split(x, y):    \n",
    "        X_train, X_test, y_train, y_test = x.iloc[train_index], x.iloc[test_index], y.iloc[train_index], y.iloc[test_index]\n",
    "        tree.fit(X_train, y_train)\n",
    "\n",
    "        #mathematical trick see beyond what you see\n",
    "\n",
    "        scores_iter.append(tree.score(X_test, y_test))\n",
    "        y_pred = tree.predict(X_test)\n",
    "        mses_iter.append(mean_squared_error(y_pred, y_test))\n",
    "        maes_iter.append(mean_absolute_error(y_pred, y_test))\n",
    "        mapes_iter.append(mean_absolute_percentage_error(y_pred, y_test))\n",
    "    scores.append(np.mean(scores_iter))\n",
    "    mses.append(np.mean(mses_iter))\n",
    "    maes.append(np.mean(maes_iter))\n",
    "    mapes.append(np.mean(mapes_iter))\n",
    "\n",
    "print('TIMESERIES CV PERFORMANCE')\n",
    "print('R^2', np.mean(scores))\n",
    "print('MSE', np.mean(mses))\n",
    "print('RMSE', np.mean(mses)**0.5)\n",
    "print('MAE', np.mean(maes))\n",
    "print('MAPE', np.mean(mapes)) "
   ]
  },
  {
   "cell_type": "code",
   "execution_count": null,
   "metadata": {},
   "outputs": [],
   "source": []
  }
 ],
 "metadata": {
  "kernelspec": {
   "display_name": "Python 3.10.11 64-bit (microsoft store)",
   "language": "python",
   "name": "python3"
  },
  "language_info": {
   "codemirror_mode": {
    "name": "ipython",
    "version": 3
   },
   "file_extension": ".py",
   "mimetype": "text/x-python",
   "name": "python",
   "nbconvert_exporter": "python",
   "pygments_lexer": "ipython3",
   "version": "3.10.11"
  },
  "orig_nbformat": 4,
  "vscode": {
   "interpreter": {
    "hash": "3b7e9cb8e453d6cda0fe8c8dd13f891a1f09162f0e7c66ffeae7751a7aecf00d"
   }
  }
 },
 "nbformat": 4,
 "nbformat_minor": 2
}
