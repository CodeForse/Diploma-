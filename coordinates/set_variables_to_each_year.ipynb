{
 "cells": [
  {
   "cell_type": "code",
   "execution_count": 1,
   "metadata": {},
   "outputs": [],
   "source": [
    "import pandas as pd\n",
    "import numpy as np"
   ]
  },
  {
   "cell_type": "code",
   "execution_count": 3,
   "metadata": {},
   "outputs": [],
   "source": [
    "df = pd.read_excel('../data/dataset_almaty_2023.xlsx')"
   ]
  },
  {
   "cell_type": "code",
   "execution_count": 4,
   "metadata": {},
   "outputs": [],
   "source": [
    "add_df = pd.read_excel('../data/constructed/all_addresses.xlsx')"
   ]
  },
  {
   "cell_type": "code",
   "execution_count": 8,
   "metadata": {},
   "outputs": [],
   "source": [
    "df = df.drop(columns=['Unnamed: 0'])"
   ]
  },
  {
   "cell_type": "code",
   "execution_count": 21,
   "metadata": {},
   "outputs": [],
   "source": [
    "df = df.merge(add_df, left_on='location', right_on='address')"
   ]
  },
  {
   "cell_type": "code",
   "execution_count": 27,
   "metadata": {},
   "outputs": [
    {
     "data": {
      "text/plain": [
       "(15851, 28)"
      ]
     },
     "execution_count": 27,
     "metadata": {},
     "output_type": "execute_result"
    }
   ],
   "source": [
    "df.shape"
   ]
  },
  {
   "cell_type": "code",
   "execution_count": 29,
   "metadata": {},
   "outputs": [
    {
     "data": {
      "text/plain": [
       "False"
      ]
     },
     "execution_count": 29,
     "metadata": {},
     "output_type": "execute_result"
    }
   ],
   "source": [
    "df['Longitude'].isna().any()"
   ]
  },
  {
   "cell_type": "code",
   "execution_count": 28,
   "metadata": {},
   "outputs": [
    {
     "data": {
      "text/plain": [
       "False"
      ]
     },
     "execution_count": 28,
     "metadata": {},
     "output_type": "execute_result"
    }
   ],
   "source": [
    "df['Latitude'].isna().any()"
   ]
  },
  {
   "cell_type": "markdown",
   "metadata": {},
   "source": [
    "the same size and 0 Nans"
   ]
  },
  {
   "cell_type": "code",
   "execution_count": 30,
   "metadata": {},
   "outputs": [],
   "source": [
    "df.to_excel('../data/dataset_almaty_2023.xlsx')"
   ]
  },
  {
   "cell_type": "markdown",
   "metadata": {},
   "source": [
    "Save dataset 2023 we go forward\n",
    "_____________________________________________________________________________________"
   ]
  },
  {
   "cell_type": "code",
   "execution_count": 36,
   "metadata": {},
   "outputs": [],
   "source": [
    "df = pd.read_excel('../data/data2021_first.xlsx')"
   ]
  },
  {
   "cell_type": "code",
   "execution_count": 39,
   "metadata": {},
   "outputs": [],
   "source": [
    "df = df.drop(columns=['Unnamed: 0'])"
   ]
  },
  {
   "cell_type": "code",
   "execution_count": 41,
   "metadata": {},
   "outputs": [],
   "source": [
    "df['full_address'] = df['flat.city'] + ', ' + df['address']"
   ]
  },
  {
   "cell_type": "code",
   "execution_count": 44,
   "metadata": {},
   "outputs": [
    {
     "data": {
      "text/plain": [
       "(19298, 32)"
      ]
     },
     "execution_count": 44,
     "metadata": {},
     "output_type": "execute_result"
    }
   ],
   "source": [
    "df.shape"
   ]
  },
  {
   "cell_type": "code",
   "execution_count": 49,
   "metadata": {},
   "outputs": [],
   "source": [
    "df = df.merge(add_df, left_on='full_address', right_on='address')"
   ]
  },
  {
   "cell_type": "code",
   "execution_count": 51,
   "metadata": {},
   "outputs": [
    {
     "data": {
      "text/plain": [
       "(19298, 38)"
      ]
     },
     "execution_count": 51,
     "metadata": {},
     "output_type": "execute_result"
    }
   ],
   "source": [
    "df.shape"
   ]
  },
  {
   "cell_type": "code",
   "execution_count": 52,
   "metadata": {},
   "outputs": [
    {
     "data": {
      "text/plain": [
       "False"
      ]
     },
     "execution_count": 52,
     "metadata": {},
     "output_type": "execute_result"
    }
   ],
   "source": [
    "df['Latitude'].isna().any()"
   ]
  },
  {
   "cell_type": "code",
   "execution_count": 53,
   "metadata": {},
   "outputs": [],
   "source": [
    "df.to_excel('../data/data2021_first.xlsx')"
   ]
  },
  {
   "cell_type": "markdown",
   "metadata": {},
   "source": [
    "Finished adding coordinates to 21 year dataset1"
   ]
  },
  {
   "cell_type": "code",
   "execution_count": 56,
   "metadata": {},
   "outputs": [],
   "source": [
    "df = pd.read_excel('../data/kryshaData2021.xlsx')\n"
   ]
  },
  {
   "cell_type": "code",
   "execution_count": 60,
   "metadata": {},
   "outputs": [],
   "source": [
    "df = df.drop(columns=['Unnamed: 0.1', 'Unnamed: 0'])"
   ]
  },
  {
   "cell_type": "code",
   "execution_count": 63,
   "metadata": {},
   "outputs": [],
   "source": [
    "df['full_address'] = df['district'] + ', ' + df['adress']"
   ]
  },
  {
   "cell_type": "code",
   "execution_count": 66,
   "metadata": {},
   "outputs": [
    {
     "data": {
      "text/plain": [
       "(143, 13)"
      ]
     },
     "execution_count": 66,
     "metadata": {},
     "output_type": "execute_result"
    }
   ],
   "source": [
    "df.shape"
   ]
  },
  {
   "cell_type": "code",
   "execution_count": 67,
   "metadata": {},
   "outputs": [],
   "source": [
    "df = df.merge(add_df, left_on='full_address', right_on='address')"
   ]
  },
  {
   "cell_type": "code",
   "execution_count": 68,
   "metadata": {},
   "outputs": [],
   "source": [
    "df.to_excel('../data/kryshaData2021.xlsx')"
   ]
  },
  {
   "cell_type": "markdown",
   "metadata": {},
   "source": [
    "why do i keep this data with only 131/141 obs \n",
    "_________________________________________________________________________"
   ]
  },
  {
   "cell_type": "code",
   "execution_count": 161,
   "metadata": {},
   "outputs": [],
   "source": [
    "df = pd.read_excel('../data/data2020.xlsx')"
   ]
  },
  {
   "cell_type": "code",
   "execution_count": 162,
   "metadata": {},
   "outputs": [],
   "source": [
    "def get_adress(row):\n",
    "    if 'этаж' not in row['title'].lower():\n",
    "        adress = row['title'][row['title'].find('м²') + 3:]\n",
    "    else:\n",
    "        adress =row['title'][row['title'].find('этаж') + 5:]\n",
    "    \n",
    "    if 'р-н' not in adress:\n",
    "        adress = row['city'].replace('Алматы', '').replace(',','') + ', '*(row['city']!='Алматы')+ adress.strip()\n",
    "    return adress"
   ]
  },
  {
   "cell_type": "code",
   "execution_count": 163,
   "metadata": {},
   "outputs": [],
   "source": [
    "df['address'] = df.apply(lambda x: get_adress(x), axis=1)"
   ]
  },
  {
   "cell_type": "code",
   "execution_count": 166,
   "metadata": {},
   "outputs": [],
   "source": [
    "df = df.drop(columns=['Unnamed: 0.2', 'Unnamed: 0.1', 'Unnamed: 0'])"
   ]
  },
  {
   "cell_type": "code",
   "execution_count": 167,
   "metadata": {},
   "outputs": [
    {
     "data": {
      "text/plain": [
       "(59856, 13)"
      ]
     },
     "execution_count": 167,
     "metadata": {},
     "output_type": "execute_result"
    }
   ],
   "source": [
    "df.shape "
   ]
  },
  {
   "cell_type": "code",
   "execution_count": 164,
   "metadata": {},
   "outputs": [
    {
     "data": {
      "text/html": [
       "<div>\n",
       "<style scoped>\n",
       "    .dataframe tbody tr th:only-of-type {\n",
       "        vertical-align: middle;\n",
       "    }\n",
       "\n",
       "    .dataframe tbody tr th {\n",
       "        vertical-align: top;\n",
       "    }\n",
       "\n",
       "    .dataframe thead th {\n",
       "        text-align: right;\n",
       "    }\n",
       "</style>\n",
       "<table border=\"1\" class=\"dataframe\">\n",
       "  <thead>\n",
       "    <tr style=\"text-align: right;\">\n",
       "      <th></th>\n",
       "      <th>Unnamed: 0.2</th>\n",
       "      <th>Unnamed: 0.1</th>\n",
       "      <th>Unnamed: 0</th>\n",
       "      <th>title</th>\n",
       "      <th>price</th>\n",
       "      <th>city</th>\n",
       "      <th>house</th>\n",
       "      <th>floor</th>\n",
       "      <th>area_description</th>\n",
       "      <th>num_rooms</th>\n",
       "      <th>cold_entry</th>\n",
       "      <th>house_type</th>\n",
       "      <th>year_built</th>\n",
       "      <th>area</th>\n",
       "      <th>total_floor</th>\n",
       "      <th>address</th>\n",
       "    </tr>\n",
       "  </thead>\n",
       "  <tbody>\n",
       "    <tr>\n",
       "      <th>0</th>\n",
       "      <td>0</td>\n",
       "      <td>0</td>\n",
       "      <td>0</td>\n",
       "      <td>2-комнатная квартира, 56 м², 4/5 этаж, Ауэзовс...</td>\n",
       "      <td>18500000</td>\n",
       "      <td>Алматы, Ауэзовский р-н</td>\n",
       "      <td>панельный, 1997 г.п.</td>\n",
       "      <td>4</td>\n",
       "      <td>56 м², кухня — 11 м²</td>\n",
       "      <td>2</td>\n",
       "      <td>False</td>\n",
       "      <td>панельный</td>\n",
       "      <td>1997</td>\n",
       "      <td>56.0</td>\n",
       "      <td>5</td>\n",
       "      <td>Ауэзовский р-н, мкр Мамыр-7</td>\n",
       "    </tr>\n",
       "    <tr>\n",
       "      <th>1</th>\n",
       "      <td>1</td>\n",
       "      <td>1</td>\n",
       "      <td>1</td>\n",
       "      <td>3-комнатная квартира, 108 м², 15/25 этаж, Кабл...</td>\n",
       "      <td>47000000</td>\n",
       "      <td>Алматы</td>\n",
       "      <td>монолитный, 2008 г.п.</td>\n",
       "      <td>15</td>\n",
       "      <td>108 м²</td>\n",
       "      <td>3</td>\n",
       "      <td>False</td>\n",
       "      <td>монолитный</td>\n",
       "      <td>2008</td>\n",
       "      <td>108.0</td>\n",
       "      <td>25</td>\n",
       "      <td>Каблукова</td>\n",
       "    </tr>\n",
       "    <tr>\n",
       "      <th>2</th>\n",
       "      <td>2</td>\n",
       "      <td>2</td>\n",
       "      <td>2</td>\n",
       "      <td>2-комнатная квартира, 46 м², 14/16 этаж, просп...</td>\n",
       "      <td>31000000</td>\n",
       "      <td>Алматы, Алмалинский р-н</td>\n",
       "      <td>монолитный, 2019 г.п.</td>\n",
       "      <td>14</td>\n",
       "      <td>46 м²</td>\n",
       "      <td>2</td>\n",
       "      <td>False</td>\n",
       "      <td>монолитный</td>\n",
       "      <td>2019</td>\n",
       "      <td>46.0</td>\n",
       "      <td>16</td>\n",
       "      <td>Алмалинский р-н, проспект Абая 109/6 — Манаса</td>\n",
       "    </tr>\n",
       "    <tr>\n",
       "      <th>3</th>\n",
       "      <td>3</td>\n",
       "      <td>3</td>\n",
       "      <td>3</td>\n",
       "      <td>2-комнатная квартира, 42 м², 2/4 этаж, Кабанба...</td>\n",
       "      <td>19500096</td>\n",
       "      <td>Алматы, Алмалинский р-н</td>\n",
       "      <td>кирпичный, 1961 г.п.</td>\n",
       "      <td>2</td>\n",
       "      <td>42 м², кухня — 6 м²</td>\n",
       "      <td>2</td>\n",
       "      <td>False</td>\n",
       "      <td>кирпичный</td>\n",
       "      <td>1961</td>\n",
       "      <td>42.0</td>\n",
       "      <td>4</td>\n",
       "      <td>Алмалинский р-н, Кабанбай Батыра — Желтоксан</td>\n",
       "    </tr>\n",
       "    <tr>\n",
       "      <th>4</th>\n",
       "      <td>4</td>\n",
       "      <td>4</td>\n",
       "      <td>4</td>\n",
       "      <td>3-комнатная квартира, 73 м², 5/5 этаж, Ади Шар...</td>\n",
       "      <td>26500000</td>\n",
       "      <td>Алматы</td>\n",
       "      <td>кирпичный, 1977 г.п.</td>\n",
       "      <td>5</td>\n",
       "      <td>73 м², кухня — 9 м²</td>\n",
       "      <td>3</td>\n",
       "      <td>False</td>\n",
       "      <td>кирпичный</td>\n",
       "      <td>1977</td>\n",
       "      <td>73.0</td>\n",
       "      <td>5</td>\n",
       "      <td>Ади Шарипова(Мечникова)</td>\n",
       "    </tr>\n",
       "  </tbody>\n",
       "</table>\n",
       "</div>"
      ],
      "text/plain": [
       "   Unnamed: 0.2  Unnamed: 0.1  Unnamed: 0  \\\n",
       "0             0             0           0   \n",
       "1             1             1           1   \n",
       "2             2             2           2   \n",
       "3             3             3           3   \n",
       "4             4             4           4   \n",
       "\n",
       "                                               title     price  \\\n",
       "0  2-комнатная квартира, 56 м², 4/5 этаж, Ауэзовс...  18500000   \n",
       "1  3-комнатная квартира, 108 м², 15/25 этаж, Кабл...  47000000   \n",
       "2  2-комнатная квартира, 46 м², 14/16 этаж, просп...  31000000   \n",
       "3  2-комнатная квартира, 42 м², 2/4 этаж, Кабанба...  19500096   \n",
       "4  3-комнатная квартира, 73 м², 5/5 этаж, Ади Шар...  26500000   \n",
       "\n",
       "                      city                  house  floor  \\\n",
       "0   Алматы, Ауэзовский р-н   панельный, 1997 г.п.      4   \n",
       "1                   Алматы  монолитный, 2008 г.п.     15   \n",
       "2  Алматы, Алмалинский р-н  монолитный, 2019 г.п.     14   \n",
       "3  Алматы, Алмалинский р-н   кирпичный, 1961 г.п.      2   \n",
       "4                   Алматы   кирпичный, 1977 г.п.      5   \n",
       "\n",
       "       area_description  num_rooms  cold_entry  house_type  year_built   area  \\\n",
       "0  56 м², кухня — 11 м²          2       False   панельный        1997   56.0   \n",
       "1                108 м²          3       False  монолитный        2008  108.0   \n",
       "2                 46 м²          2       False  монолитный        2019   46.0   \n",
       "3   42 м², кухня — 6 м²          2       False   кирпичный        1961   42.0   \n",
       "4   73 м², кухня — 9 м²          3       False   кирпичный        1977   73.0   \n",
       "\n",
       "   total_floor                                         address  \n",
       "0            5                     Ауэзовский р-н, мкр Мамыр-7  \n",
       "1           25                                       Каблукова  \n",
       "2           16   Алмалинский р-н, проспект Абая 109/6 — Манаса  \n",
       "3            4    Алмалинский р-н, Кабанбай Батыра — Желтоксан  \n",
       "4            5                         Ади Шарипова(Мечникова)  "
      ]
     },
     "execution_count": 164,
     "metadata": {},
     "output_type": "execute_result"
    }
   ],
   "source": [
    "df.head(5)"
   ]
  },
  {
   "cell_type": "code",
   "execution_count": 169,
   "metadata": {},
   "outputs": [],
   "source": [
    "df = df.merge(add_df, left_on='address', right_on='address')"
   ]
  },
  {
   "cell_type": "code",
   "execution_count": 170,
   "metadata": {},
   "outputs": [],
   "source": [
    "df.to_excel('../data/data2020.xlsx')"
   ]
  },
  {
   "cell_type": "markdown",
   "metadata": {},
   "source": [
    "2020 is ended\n",
    "\n",
    "_______________________________________________________________________"
   ]
  },
  {
   "cell_type": "code",
   "execution_count": 71,
   "metadata": {},
   "outputs": [],
   "source": [
    "df = pd.read_excel('../data/data2018.xlsx')"
   ]
  },
  {
   "cell_type": "code",
   "execution_count": 74,
   "metadata": {},
   "outputs": [
    {
     "data": {
      "text/html": [
       "<div>\n",
       "<style scoped>\n",
       "    .dataframe tbody tr th:only-of-type {\n",
       "        vertical-align: middle;\n",
       "    }\n",
       "\n",
       "    .dataframe tbody tr th {\n",
       "        vertical-align: top;\n",
       "    }\n",
       "\n",
       "    .dataframe thead th {\n",
       "        text-align: right;\n",
       "    }\n",
       "</style>\n",
       "<table border=\"1\" class=\"dataframe\">\n",
       "  <thead>\n",
       "    <tr style=\"text-align: right;\">\n",
       "      <th></th>\n",
       "      <th>Column1</th>\n",
       "      <th>Column2</th>\n",
       "      <th>Column3</th>\n",
       "      <th>Column4</th>\n",
       "      <th>Column5</th>\n",
       "      <th>Column6</th>\n",
       "      <th>Column7</th>\n",
       "      <th>Column8</th>\n",
       "      <th>Column9</th>\n",
       "      <th>Column10</th>\n",
       "      <th>Column11</th>\n",
       "    </tr>\n",
       "  </thead>\n",
       "  <tbody>\n",
       "    <tr>\n",
       "      <th>0</th>\n",
       "      <td>47423318</td>\n",
       "      <td>2-комнатная квартира</td>\n",
       "      <td>Мусрепова 22/1 — Сатпаева</td>\n",
       "      <td>24600000</td>\n",
       "      <td>Бостандыкский р-н</td>\n",
       "      <td>8/16 эт.</td>\n",
       "      <td>60 м2</td>\n",
       "      <td>монолитный дом</td>\n",
       "      <td>2019 г.п.</td>\n",
       "      <td>жил. комплекс Central Esentai Residence</td>\n",
       "      <td>потолки 2.8м.</td>\n",
       "    </tr>\n",
       "    <tr>\n",
       "      <th>1</th>\n",
       "      <td>27829850</td>\n",
       "      <td>3-комнатная квартира</td>\n",
       "      <td>мкр Коктем-3 22</td>\n",
       "      <td>38800000</td>\n",
       "      <td>Бостандыкский р-н</td>\n",
       "      <td>6/16 эт.</td>\n",
       "      <td>93.4 м2</td>\n",
       "      <td>монолитный дом</td>\n",
       "      <td>2018 г.п.</td>\n",
       "      <td>жил. комплекс Central Esentai Residence</td>\n",
       "      <td>потолки 2.8м.</td>\n",
       "    </tr>\n",
       "  </tbody>\n",
       "</table>\n",
       "</div>"
      ],
      "text/plain": [
       "    Column1               Column2                    Column3   Column4  \\\n",
       "0  47423318  2-комнатная квартира  Мусрепова 22/1 — Сатпаева  24600000   \n",
       "1  27829850  3-комнатная квартира            мкр Коктем-3 22  38800000   \n",
       "\n",
       "             Column5   Column6  Column7         Column8    Column9  \\\n",
       "0  Бостандыкский р-н  8/16 эт.    60 м2  монолитный дом  2019 г.п.   \n",
       "1  Бостандыкский р-н  6/16 эт.  93.4 м2  монолитный дом  2018 г.п.   \n",
       "\n",
       "                                  Column10       Column11  \n",
       "0  жил. комплекс Central Esentai Residence  потолки 2.8м.  \n",
       "1  жил. комплекс Central Esentai Residence  потолки 2.8м.  "
      ]
     },
     "execution_count": 74,
     "metadata": {},
     "output_type": "execute_result"
    }
   ],
   "source": [
    "df.head(2)"
   ]
  },
  {
   "cell_type": "code",
   "execution_count": 75,
   "metadata": {},
   "outputs": [
    {
     "data": {
      "text/plain": [
       "(95, 11)"
      ]
     },
     "execution_count": 75,
     "metadata": {},
     "output_type": "execute_result"
    }
   ],
   "source": [
    "df.shape"
   ]
  },
  {
   "cell_type": "code",
   "execution_count": 78,
   "metadata": {},
   "outputs": [],
   "source": [
    "df = df.rename(columns={'Column1': 'krisha_id', 'Column2': 'title', 'Column3':'address', 'Column4': 'price', 'Column5': 'region', 'Column6':'floor_data', 'Column7':'area', 'Column8':'building_type', 'Column9':'year_built', 'Column10': 'seller', 'Column11':'ceiling'})"
   ]
  },
  {
   "cell_type": "code",
   "execution_count": 84,
   "metadata": {},
   "outputs": [],
   "source": [
    "df['num_rooms'] = df['title'].apply(lambda x: int(x[:x.find('-')]))"
   ]
  },
  {
   "cell_type": "code",
   "execution_count": 96,
   "metadata": {},
   "outputs": [],
   "source": [
    "df['floor_data'] = df['floor_data'].apply(lambda x: x.replace(' из ', '/') if x is not np.NaN else '-1/-1')"
   ]
  },
  {
   "cell_type": "code",
   "execution_count": 102,
   "metadata": {},
   "outputs": [],
   "source": [
    "df['floor'] = df['floor_data'].apply(lambda x: x[:x.find('/')])"
   ]
  },
  {
   "cell_type": "code",
   "execution_count": 109,
   "metadata": {},
   "outputs": [],
   "source": [
    "df['total_floor'] = df['floor_data'].apply(lambda x: x[x.find('/')+1:].replace(' эт.',''))"
   ]
  },
  {
   "cell_type": "code",
   "execution_count": 118,
   "metadata": {},
   "outputs": [],
   "source": [
    "df['area'] = df['area'].apply(lambda x: float(x.replace(' м2', '')))"
   ]
  },
  {
   "cell_type": "code",
   "execution_count": 125,
   "metadata": {},
   "outputs": [],
   "source": [
    "df['year_built'] = df['year_built'].apply(lambda x: int(x.replace(' г.п.','')))"
   ]
  },
  {
   "cell_type": "code",
   "execution_count": 134,
   "metadata": {},
   "outputs": [],
   "source": [
    "df['ceiling'] = df['ceiling'].apply(lambda x: float(x.replace('потолки ', '').replace('м.','')))"
   ]
  },
  {
   "cell_type": "code",
   "execution_count": 137,
   "metadata": {},
   "outputs": [],
   "source": [
    "df = df[['krisha_id', 'address', 'price', 'region', 'area', 'building_type', 'year_built', 'seller', 'ceiling', 'num_rooms', 'floor', 'total_floor']]"
   ]
  },
  {
   "cell_type": "code",
   "execution_count": 140,
   "metadata": {},
   "outputs": [
    {
     "name": "stderr",
     "output_type": "stream",
     "text": [
      "C:\\Users\\User\\AppData\\Local\\Temp\\ipykernel_3664\\4154314474.py:1: SettingWithCopyWarning: \n",
      "A value is trying to be set on a copy of a slice from a DataFrame.\n",
      "Try using .loc[row_indexer,col_indexer] = value instead\n",
      "\n",
      "See the caveats in the documentation: https://pandas.pydata.org/pandas-docs/stable/user_guide/indexing.html#returning-a-view-versus-a-copy\n",
      "  df['full_address'] = df['region'] + ', ' + df['address']\n"
     ]
    }
   ],
   "source": [
    "df['full_address'] = df['region'] + ', ' + df['address']"
   ]
  },
  {
   "cell_type": "code",
   "execution_count": 142,
   "metadata": {},
   "outputs": [
    {
     "data": {
      "text/plain": [
       "(95, 13)"
      ]
     },
     "execution_count": 142,
     "metadata": {},
     "output_type": "execute_result"
    }
   ],
   "source": [
    "df.shape"
   ]
  },
  {
   "cell_type": "code",
   "execution_count": 150,
   "metadata": {},
   "outputs": [],
   "source": [
    "df = df.merge(add_df,how='left', left_on='full_address', right_on='address')"
   ]
  },
  {
   "cell_type": "code",
   "execution_count": 151,
   "metadata": {},
   "outputs": [],
   "source": [
    "df.to_excel('../data/data2018.xlsx')"
   ]
  },
  {
   "cell_type": "markdown",
   "metadata": {},
   "source": [
    "Finished 2018\n",
    "______________________________________________________________________________"
   ]
  },
  {
   "cell_type": "code",
   "execution_count": 153,
   "metadata": {},
   "outputs": [],
   "source": [
    "df = pd.read_excel('../data/data2016.XLSX')"
   ]
  },
  {
   "cell_type": "code",
   "execution_count": 154,
   "metadata": {},
   "outputs": [
    {
     "data": {
      "text/plain": [
       "(95, 11)"
      ]
     },
     "execution_count": 154,
     "metadata": {},
     "output_type": "execute_result"
    }
   ],
   "source": [
    "df.shape"
   ]
  },
  {
   "cell_type": "code",
   "execution_count": 155,
   "metadata": {},
   "outputs": [
    {
     "data": {
      "text/html": [
       "<div>\n",
       "<style scoped>\n",
       "    .dataframe tbody tr th:only-of-type {\n",
       "        vertical-align: middle;\n",
       "    }\n",
       "\n",
       "    .dataframe tbody tr th {\n",
       "        vertical-align: top;\n",
       "    }\n",
       "\n",
       "    .dataframe thead th {\n",
       "        text-align: right;\n",
       "    }\n",
       "</style>\n",
       "<table border=\"1\" class=\"dataframe\">\n",
       "  <thead>\n",
       "    <tr style=\"text-align: right;\">\n",
       "      <th></th>\n",
       "      <th>Column1</th>\n",
       "      <th>Column2</th>\n",
       "      <th>Column3</th>\n",
       "      <th>Column4</th>\n",
       "      <th>Column5</th>\n",
       "      <th>Column6</th>\n",
       "      <th>Column7</th>\n",
       "      <th>Column8</th>\n",
       "      <th>Column9</th>\n",
       "      <th>Column10</th>\n",
       "      <th>Column11</th>\n",
       "    </tr>\n",
       "  </thead>\n",
       "  <tbody>\n",
       "    <tr>\n",
       "      <th>0</th>\n",
       "      <td>47423318</td>\n",
       "      <td>2-комнатная квартира</td>\n",
       "      <td>Мусрепова 22/1 — Сатпаева</td>\n",
       "      <td>24600000</td>\n",
       "      <td>Бостандыкский р-н</td>\n",
       "      <td>8/16 эт.</td>\n",
       "      <td>60 м2</td>\n",
       "      <td>монолитный дом</td>\n",
       "      <td>2019 г.п.</td>\n",
       "      <td>жил. комплекс Central Esentai Residence</td>\n",
       "      <td>потолки 2.8м.</td>\n",
       "    </tr>\n",
       "    <tr>\n",
       "      <th>1</th>\n",
       "      <td>27829850</td>\n",
       "      <td>3-комнатная квартира</td>\n",
       "      <td>мкр Коктем-3 22</td>\n",
       "      <td>38800000</td>\n",
       "      <td>Бостандыкский р-н</td>\n",
       "      <td>6/16 эт.</td>\n",
       "      <td>93.4 м2</td>\n",
       "      <td>монолитный дом</td>\n",
       "      <td>2018 г.п.</td>\n",
       "      <td>жил. комплекс Central Esentai Residence</td>\n",
       "      <td>потолки 2.8м.</td>\n",
       "    </tr>\n",
       "    <tr>\n",
       "      <th>2</th>\n",
       "      <td>29398189</td>\n",
       "      <td>4-комнатная квартира</td>\n",
       "      <td>Мусрепова 22/1 — Сатпаева</td>\n",
       "      <td>63000000</td>\n",
       "      <td>Бостандыкский р-н</td>\n",
       "      <td>16/16 эт.</td>\n",
       "      <td>157 м2</td>\n",
       "      <td>монолитный дом</td>\n",
       "      <td>2018 г.п.</td>\n",
       "      <td>жил. комплекс Central Esentai Residence</td>\n",
       "      <td>потолки 2.8м.</td>\n",
       "    </tr>\n",
       "    <tr>\n",
       "      <th>3</th>\n",
       "      <td>29429706</td>\n",
       "      <td>3-комнатная квартира</td>\n",
       "      <td>Мусрепова 22/1 — Сатпаева</td>\n",
       "      <td>43775000</td>\n",
       "      <td>Бостандыкский р-н</td>\n",
       "      <td>10/16 эт.</td>\n",
       "      <td>103 м2</td>\n",
       "      <td>монолитный дом</td>\n",
       "      <td>2018 г.п.</td>\n",
       "      <td>жил. комплекс Central Esentai Residence</td>\n",
       "      <td>потолки 2.8м.</td>\n",
       "    </tr>\n",
       "    <tr>\n",
       "      <th>4</th>\n",
       "      <td>47317163</td>\n",
       "      <td>3-комнатная квартира</td>\n",
       "      <td>проспект Сакена Сейфуллина 580 — проспект Аль-...</td>\n",
       "      <td>37800000</td>\n",
       "      <td>Бостандыкский р-н</td>\n",
       "      <td>2/9 эт.</td>\n",
       "      <td>108 м2</td>\n",
       "      <td>монолитный дом</td>\n",
       "      <td>2015 г.п.</td>\n",
       "      <td>жил. комплекс NS – Towers</td>\n",
       "      <td>потолки 2.8м.</td>\n",
       "    </tr>\n",
       "    <tr>\n",
       "      <th>...</th>\n",
       "      <td>...</td>\n",
       "      <td>...</td>\n",
       "      <td>...</td>\n",
       "      <td>...</td>\n",
       "      <td>...</td>\n",
       "      <td>...</td>\n",
       "      <td>...</td>\n",
       "      <td>...</td>\n",
       "      <td>...</td>\n",
       "      <td>...</td>\n",
       "      <td>...</td>\n",
       "    </tr>\n",
       "    <tr>\n",
       "      <th>90</th>\n",
       "      <td>28312770</td>\n",
       "      <td>2-комнатная квартира</td>\n",
       "      <td>проспект Суюнбая — Бекмаханова</td>\n",
       "      <td>12600000</td>\n",
       "      <td>Турксибский р-н</td>\n",
       "      <td>4 из 5</td>\n",
       "      <td>49 м2</td>\n",
       "      <td>панельный дом</td>\n",
       "      <td>1989 г.п.</td>\n",
       "      <td>NaN</td>\n",
       "      <td>потолки 2.8м.</td>\n",
       "    </tr>\n",
       "    <tr>\n",
       "      <th>91</th>\n",
       "      <td>27031820</td>\n",
       "      <td>2-комнатная квартира</td>\n",
       "      <td>Ахметова 12</td>\n",
       "      <td>11300000</td>\n",
       "      <td>Турксибский р-н</td>\n",
       "      <td>2 из 3</td>\n",
       "      <td>40 м2</td>\n",
       "      <td>кирпичный дом</td>\n",
       "      <td>1968 г.п.</td>\n",
       "      <td>NaN</td>\n",
       "      <td>потолки 3м.</td>\n",
       "    </tr>\n",
       "    <tr>\n",
       "      <th>92</th>\n",
       "      <td>28266140</td>\n",
       "      <td>2-комнатная квартира</td>\n",
       "      <td>Зенкова 25 — Богенбай батыра</td>\n",
       "      <td>26000000</td>\n",
       "      <td>Медеуский р-н</td>\n",
       "      <td>2 из 12</td>\n",
       "      <td>64.4 м2</td>\n",
       "      <td>NaN</td>\n",
       "      <td>1977 г.п.</td>\n",
       "      <td>NaN</td>\n",
       "      <td>потолки 2.7м.</td>\n",
       "    </tr>\n",
       "    <tr>\n",
       "      <th>93</th>\n",
       "      <td>24001598</td>\n",
       "      <td>3-комнатная квартира</td>\n",
       "      <td>Аль-Фараби 21</td>\n",
       "      <td>61200000</td>\n",
       "      <td>Бостандыкский р-н</td>\n",
       "      <td>6 из 21</td>\n",
       "      <td>119.1 м2</td>\n",
       "      <td>монолитный дом</td>\n",
       "      <td>2014 г.п.</td>\n",
       "      <td>жил. комплекс AFD Plaza</td>\n",
       "      <td>потолки 2.9м.</td>\n",
       "    </tr>\n",
       "    <tr>\n",
       "      <th>94</th>\n",
       "      <td>26853781</td>\n",
       "      <td>4-комнатная квартира</td>\n",
       "      <td>Аль-Фараби 1</td>\n",
       "      <td>70000000</td>\n",
       "      <td>Бостандыкский р-н</td>\n",
       "      <td>21 из 29</td>\n",
       "      <td>163 м2</td>\n",
       "      <td>монолитный дом</td>\n",
       "      <td>2008 г.п.</td>\n",
       "      <td>жил. комплекс Нурлы Тау</td>\n",
       "      <td>потолки 2.9м.</td>\n",
       "    </tr>\n",
       "  </tbody>\n",
       "</table>\n",
       "<p>95 rows × 11 columns</p>\n",
       "</div>"
      ],
      "text/plain": [
       "     Column1               Column2  \\\n",
       "0   47423318  2-комнатная квартира   \n",
       "1   27829850  3-комнатная квартира   \n",
       "2   29398189  4-комнатная квартира   \n",
       "3   29429706  3-комнатная квартира   \n",
       "4   47317163  3-комнатная квартира   \n",
       "..       ...                   ...   \n",
       "90  28312770  2-комнатная квартира   \n",
       "91  27031820  2-комнатная квартира   \n",
       "92  28266140  2-комнатная квартира   \n",
       "93  24001598  3-комнатная квартира   \n",
       "94  26853781  4-комнатная квартира   \n",
       "\n",
       "                                              Column3   Column4  \\\n",
       "0                           Мусрепова 22/1 — Сатпаева  24600000   \n",
       "1                                     мкр Коктем-3 22  38800000   \n",
       "2                           Мусрепова 22/1 — Сатпаева  63000000   \n",
       "3                           Мусрепова 22/1 — Сатпаева  43775000   \n",
       "4   проспект Сакена Сейфуллина 580 — проспект Аль-...  37800000   \n",
       "..                                                ...       ...   \n",
       "90                     проспект Суюнбая — Бекмаханова  12600000   \n",
       "91                                        Ахметова 12  11300000   \n",
       "92                       Зенкова 25 — Богенбай батыра  26000000   \n",
       "93                                      Аль-Фараби 21  61200000   \n",
       "94                                       Аль-Фараби 1  70000000   \n",
       "\n",
       "              Column5    Column6   Column7         Column8    Column9  \\\n",
       "0   Бостандыкский р-н   8/16 эт.     60 м2  монолитный дом  2019 г.п.   \n",
       "1   Бостандыкский р-н   6/16 эт.   93.4 м2  монолитный дом  2018 г.п.   \n",
       "2   Бостандыкский р-н  16/16 эт.    157 м2  монолитный дом  2018 г.п.   \n",
       "3   Бостандыкский р-н  10/16 эт.    103 м2  монолитный дом  2018 г.п.   \n",
       "4   Бостандыкский р-н    2/9 эт.    108 м2  монолитный дом  2015 г.п.   \n",
       "..                ...        ...       ...             ...        ...   \n",
       "90    Турксибский р-н     4 из 5     49 м2   панельный дом  1989 г.п.   \n",
       "91    Турксибский р-н     2 из 3     40 м2   кирпичный дом  1968 г.п.   \n",
       "92      Медеуский р-н    2 из 12   64.4 м2             NaN  1977 г.п.   \n",
       "93  Бостандыкский р-н    6 из 21  119.1 м2  монолитный дом  2014 г.п.   \n",
       "94  Бостандыкский р-н   21 из 29    163 м2  монолитный дом  2008 г.п.   \n",
       "\n",
       "                                   Column10       Column11  \n",
       "0   жил. комплекс Central Esentai Residence  потолки 2.8м.  \n",
       "1   жил. комплекс Central Esentai Residence  потолки 2.8м.  \n",
       "2   жил. комплекс Central Esentai Residence  потолки 2.8м.  \n",
       "3   жил. комплекс Central Esentai Residence  потолки 2.8м.  \n",
       "4                 жил. комплекс NS – Towers  потолки 2.8м.  \n",
       "..                                      ...            ...  \n",
       "90                                      NaN  потолки 2.8м.  \n",
       "91                                      NaN    потолки 3м.  \n",
       "92                                      NaN  потолки 2.7м.  \n",
       "93                  жил. комплекс AFD Plaza  потолки 2.9м.  \n",
       "94                  жил. комплекс Нурлы Тау  потолки 2.9м.  \n",
       "\n",
       "[95 rows x 11 columns]"
      ]
     },
     "execution_count": 155,
     "metadata": {},
     "output_type": "execute_result"
    }
   ],
   "source": [
    "df"
   ]
  },
  {
   "cell_type": "code",
   "execution_count": null,
   "metadata": {},
   "outputs": [],
   "source": []
  }
 ],
 "metadata": {
  "kernelspec": {
   "display_name": "Python 3.10.11 64-bit (microsoft store)",
   "language": "python",
   "name": "python3"
  },
  "language_info": {
   "codemirror_mode": {
    "name": "ipython",
    "version": 3
   },
   "file_extension": ".py",
   "mimetype": "text/x-python",
   "name": "python",
   "nbconvert_exporter": "python",
   "pygments_lexer": "ipython3",
   "version": "3.10.11"
  },
  "orig_nbformat": 4,
  "vscode": {
   "interpreter": {
    "hash": "3b7e9cb8e453d6cda0fe8c8dd13f891a1f09162f0e7c66ffeae7751a7aecf00d"
   }
  }
 },
 "nbformat": 4,
 "nbformat_minor": 2
}
