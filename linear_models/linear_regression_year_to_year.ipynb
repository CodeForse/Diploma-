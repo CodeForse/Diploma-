{
 "cells": [
  {
   "cell_type": "code",
   "execution_count": 1,
   "metadata": {},
   "outputs": [],
   "source": [
    "import pandas as pd\n",
    "import numpy as np\n",
    "import matplotlib.pyplot as plt\n",
    "import seaborn as sns\n",
    "import sklearn\n",
    "from sklearn.linear_model import LinearRegression"
   ]
  },
  {
   "cell_type": "code",
   "execution_count": 2,
   "metadata": {},
   "outputs": [],
   "source": [
    "df23 = pd.read_excel('../data/data2023.xlsx')"
   ]
  },
  {
   "cell_type": "code",
   "execution_count": 4,
   "metadata": {},
   "outputs": [],
   "source": [
    "df20 = pd.read_excel('../data/data2020.xlsx')\n",
    "df21 = pd.read_excel('../data/data2021_first.xlsx')"
   ]
  },
  {
   "cell_type": "markdown",
   "metadata": {},
   "source": [
    "Try pred 21 using 20 year data"
   ]
  },
  {
   "cell_type": "markdown",
   "metadata": {},
   "source": [
    "Try no adjusment"
   ]
  },
  {
   "cell_type": "code",
   "execution_count": 10,
   "metadata": {},
   "outputs": [],
   "source": [
    "df21['YEAR'] = 2021\n",
    "df20['YEAR'] = 2020"
   ]
  },
  {
   "cell_type": "code",
   "execution_count": 11,
   "metadata": {},
   "outputs": [],
   "source": [
    "df20=df20[['price','area', 'floor','total_floor', 'year_built','city_x','Latitude', 'Longitude', 'YEAR']].rename(columns={'city_x':'region'})"
   ]
  },
  {
   "cell_type": "code",
   "execution_count": 12,
   "metadata": {},
   "outputs": [],
   "source": [
    "df21=df21[['price', 'area', 'floor', 'total_floor', 'flat.city' , 'Latitude',\n",
    "       'Longitude', 'YEAR', 'year_built']].rename(columns={'flat.city':'region'})"
   ]
  },
  {
   "cell_type": "code",
   "execution_count": 13,
   "metadata": {},
   "outputs": [],
   "source": [
    "df_join = pd.concat([df20, df21])"
   ]
  },
  {
   "cell_type": "code",
   "execution_count": 89,
   "metadata": {},
   "outputs": [],
   "source": [
    "from scipy import spatial\n",
    "tree20 = spatial.KDTree(df20[['Latitude','Longitude']].to_numpy())\n",
    "tree21 = spatial.KDTree(df21[['Latitude','Longitude']].to_numpy())\n",
    "\n",
    "def get_neigbours(row, n_neighbors = 5):\n",
    "    if row['YEAR'] == 2020:\n",
    "        tree = tree20\n",
    "        df_send = df20\n",
    "    elif row['YEAR'] == 2021:\n",
    "        tree = tree21\n",
    "        df_send = df21\n",
    "        \n",
    "    distances, indexes = tree.query([row['Latitude'], row['Longitude']], k=n_neighbors+10000)\n",
    " \n",
    "    indexes = [index for distance, index in zip(distances, indexes) if distance!=0]\n",
    "\n",
    "    return df_send.iloc[indexes[0]]\n",
    "\n",
    "def is_best_view(row, n_neighbors=5):\n",
    "    neibgours = get_neigbours(row, n_neighbors)\n",
    "    # try:\n",
    "    return int(neibgours['total_floor'].max())< int(row['floor'])\n",
    "    # except:\n",
    "        # return False"
   ]
  },
  {
   "cell_type": "code",
   "execution_count": 90,
   "metadata": {},
   "outputs": [],
   "source": [
    "df_join['best_view'] = df_join.apply(lambda row: is_best_view(row, 1), axis=1)"
   ]
  },
  {
   "cell_type": "code",
   "execution_count": 92,
   "metadata": {},
   "outputs": [
    {
     "data": {
      "text/plain": [
       "<AxesSubplot: xlabel='best_view', ylabel='price'>"
      ]
     },
     "execution_count": 92,
     "metadata": {},
     "output_type": "execute_result"
    },
    {
     "data": {
      "image/png": "[encoded data removed]",
      "text/plain": [
       "<Figure size 640x480 with 1 Axes>"
      ]
     },
     "metadata": {},
     "output_type": "display_data"
    }
   ],
   "source": [
    "sns.barplot(x=df_join['best_view'], y=df_join['price'])"
   ]
  },
  {
   "cell_type": "code",
   "execution_count": 41,
   "metadata": {},
   "outputs": [],
   "source": [
    "from geopy.distance import geodesic"
   ]
  },
  {
   "cell_type": "code",
   "execution_count": 95,
   "metadata": {},
   "outputs": [],
   "source": [
    "\n",
    "def calculate_distance(row):\n",
    "    neigbour = get_neigbours(row,n_neighbors=1)\n",
    "    # coord1 и coord2 - кортежи с широтой и долготой в формате (широта, долгота)\n",
    "    distance = geodesic((row['Latitude'], row['Longitude']), (neigbour['Latitude'],neigbour['Longitude'])).meters\n",
    "    return distance\n"
   ]
  },
  {
   "cell_type": "code",
   "execution_count": 96,
   "metadata": {},
   "outputs": [],
   "source": [
    "df_join['dist_to_neigbour'] = df_join.apply(lambda x: calculate_distance(x),axis=1)\n"
   ]
  },
  {
   "cell_type": "code",
   "execution_count": 97,
   "metadata": {},
   "outputs": [
    {
     "ename": "",
     "evalue": "",
     "output_type": "error",
     "traceback": [
      "\u001b[1;31mНе удалось прервать работу ядра. \n",
      "\u001b[1;31mНе удалось запустить ядро \"Python 3.10.11\", так как истекло время ожидания подключения. \n",
      "Дополнительные сведения см. в <a href='command:jupyter.viewOutput'>журнале Jupyter</a>."
     ]
    }
   ],
   "source": [
    "sns.histplot(df_join['dist_to_neigbour'])"
   ]
  },
  {
   "cell_type": "code",
   "execution_count": 1,
   "metadata": {},
   "outputs": [
    {
     "ename": "NameError",
     "evalue": "name 'df_join' is not defined",
     "output_type": "error",
     "traceback": [
      "\u001b[1;31m---------------------------------------------------------------------------\u001b[0m",
      "\u001b[1;31mNameError\u001b[0m                                 Traceback (most recent call last)",
      "Cell \u001b[1;32mIn[1], line 1\u001b[0m\n\u001b[1;32m----> 1\u001b[0m \u001b[43mdf_join\u001b[49m[\u001b[38;5;124m'\u001b[39m\u001b[38;5;124mdist_to_neigbour\u001b[39m\u001b[38;5;124m'\u001b[39m]\u001b[38;5;241m.\u001b[39mvalue_counts()\n",
      "\u001b[1;31mNameError\u001b[0m: name 'df_join' is not defined"
     ]
    }
   ],
   "source": [
    "df_join['dist_to_neigbour'].value_counts()"
   ]
  },
  {
   "cell_type": "code",
   "execution_count": null,
   "metadata": {},
   "outputs": [],
   "source": []
  }
 ],
 "metadata": {
  "kernelspec": {
   "display_name": "Python 3.10.11 64-bit (microsoft store)",
   "language": "python",
   "name": "python3"
  },
  "language_info": {
   "codemirror_mode": {
    "name": "ipython",
    "version": 3
   },
   "file_extension": ".py",
   "mimetype": "text/x-python",
   "name": "python",
   "nbconvert_exporter": "python",
   "pygments_lexer": "ipython3",
   "version": "3.10.11"
  },
  "orig_nbformat": 4,
  "vscode": {
   "interpreter": {
    "hash": "3b7e9cb8e453d6cda0fe8c8dd13f891a1f09162f0e7c66ffeae7751a7aecf00d"
   }
  }
 },
 "nbformat": 4,
 "nbformat_minor": 2
}
