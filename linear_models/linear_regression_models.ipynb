{
 "cells": [
  {
   "cell_type": "code",
   "execution_count": 2,
   "metadata": {},
   "outputs": [],
   "source": [
    "import pandas as pd\n",
    "import numpy as np \n",
    "import seaborn as sns\n",
    "import matplotlib.pyplot as plt\n",
    "import sklearn"
   ]
  },
  {
   "cell_type": "code",
   "execution_count": 3,
   "metadata": {},
   "outputs": [
    {
     "ename": "FileNotFoundError",
     "evalue": "[Errno 2] No such file or directory: './data/data2023.xlsx'",
     "output_type": "error",
     "traceback": [
      "\u001b[1;31m---------------------------------------------------------------------------\u001b[0m",
      "\u001b[1;31mFileNotFoundError\u001b[0m                         Traceback (most recent call last)",
      "Cell \u001b[1;32mIn[3], line 1\u001b[0m\n\u001b[1;32m----> 1\u001b[0m df \u001b[38;5;241m=\u001b[39m \u001b[43mpd\u001b[49m\u001b[38;5;241;43m.\u001b[39;49m\u001b[43mread_excel\u001b[49m\u001b[43m(\u001b[49m\u001b[38;5;124;43m'\u001b[39;49m\u001b[38;5;124;43m./data/data2023.xlsx\u001b[39;49m\u001b[38;5;124;43m'\u001b[39;49m\u001b[43m)\u001b[49m\n",
      "File \u001b[1;32m~\\AppData\\Local\\Packages\\PythonSoftwareFoundation.Python.3.10_qbz5n2kfra8p0\\LocalCache\\local-packages\\Python310\\site-packages\\pandas\\util\\_decorators.py:211\u001b[0m, in \u001b[0;36mdeprecate_kwarg.<locals>._deprecate_kwarg.<locals>.wrapper\u001b[1;34m(*args, **kwargs)\u001b[0m\n\u001b[0;32m    209\u001b[0m     \u001b[39melse\u001b[39;00m:\n\u001b[0;32m    210\u001b[0m         kwargs[new_arg_name] \u001b[39m=\u001b[39m new_arg_value\n\u001b[1;32m--> 211\u001b[0m \u001b[39mreturn\u001b[39;00m func(\u001b[39m*\u001b[39margs, \u001b[39m*\u001b[39m\u001b[39m*\u001b[39mkwargs)\n",
      "File \u001b[1;32m~\\AppData\\Local\\Packages\\PythonSoftwareFoundation.Python.3.10_qbz5n2kfra8p0\\LocalCache\\local-packages\\Python310\\site-packages\\pandas\\util\\_decorators.py:331\u001b[0m, in \u001b[0;36mdeprecate_nonkeyword_arguments.<locals>.decorate.<locals>.wrapper\u001b[1;34m(*args, **kwargs)\u001b[0m\n\u001b[0;32m    325\u001b[0m \u001b[39mif\u001b[39;00m \u001b[39mlen\u001b[39m(args) \u001b[39m>\u001b[39m num_allow_args:\n\u001b[0;32m    326\u001b[0m     warnings\u001b[39m.\u001b[39mwarn(\n\u001b[0;32m    327\u001b[0m         msg\u001b[39m.\u001b[39mformat(arguments\u001b[39m=\u001b[39m_format_argument_list(allow_args)),\n\u001b[0;32m    328\u001b[0m         \u001b[39mFutureWarning\u001b[39;00m,\n\u001b[0;32m    329\u001b[0m         stacklevel\u001b[39m=\u001b[39mfind_stack_level(),\n\u001b[0;32m    330\u001b[0m     )\n\u001b[1;32m--> 331\u001b[0m \u001b[39mreturn\u001b[39;00m func(\u001b[39m*\u001b[39margs, \u001b[39m*\u001b[39m\u001b[39m*\u001b[39mkwargs)\n",
      "File \u001b[1;32m~\\AppData\\Local\\Packages\\PythonSoftwareFoundation.Python.3.10_qbz5n2kfra8p0\\LocalCache\\local-packages\\Python310\\site-packages\\pandas\\io\\excel\\_base.py:482\u001b[0m, in \u001b[0;36mread_excel\u001b[1;34m(io, sheet_name, header, names, index_col, usecols, squeeze, dtype, engine, converters, true_values, false_values, skiprows, nrows, na_values, keep_default_na, na_filter, verbose, parse_dates, date_parser, thousands, decimal, comment, skipfooter, convert_float, mangle_dupe_cols, storage_options)\u001b[0m\n\u001b[0;32m    480\u001b[0m \u001b[39mif\u001b[39;00m \u001b[39mnot\u001b[39;00m \u001b[39misinstance\u001b[39m(io, ExcelFile):\n\u001b[0;32m    481\u001b[0m     should_close \u001b[39m=\u001b[39m \u001b[39mTrue\u001b[39;00m\n\u001b[1;32m--> 482\u001b[0m     io \u001b[39m=\u001b[39m ExcelFile(io, storage_options\u001b[39m=\u001b[39;49mstorage_options, engine\u001b[39m=\u001b[39;49mengine)\n\u001b[0;32m    483\u001b[0m \u001b[39melif\u001b[39;00m engine \u001b[39mand\u001b[39;00m engine \u001b[39m!=\u001b[39m io\u001b[39m.\u001b[39mengine:\n\u001b[0;32m    484\u001b[0m     \u001b[39mraise\u001b[39;00m \u001b[39mValueError\u001b[39;00m(\n\u001b[0;32m    485\u001b[0m         \u001b[39m\"\u001b[39m\u001b[39mEngine should not be specified when passing \u001b[39m\u001b[39m\"\u001b[39m\n\u001b[0;32m    486\u001b[0m         \u001b[39m\"\u001b[39m\u001b[39man ExcelFile - ExcelFile already has the engine set\u001b[39m\u001b[39m\"\u001b[39m\n\u001b[0;32m    487\u001b[0m     )\n",
      "File \u001b[1;32m~\\AppData\\Local\\Packages\\PythonSoftwareFoundation.Python.3.10_qbz5n2kfra8p0\\LocalCache\\local-packages\\Python310\\site-packages\\pandas\\io\\excel\\_base.py:1652\u001b[0m, in \u001b[0;36mExcelFile.__init__\u001b[1;34m(self, path_or_buffer, engine, storage_options)\u001b[0m\n\u001b[0;32m   1650\u001b[0m     ext \u001b[39m=\u001b[39m \u001b[39m\"\u001b[39m\u001b[39mxls\u001b[39m\u001b[39m\"\u001b[39m\n\u001b[0;32m   1651\u001b[0m \u001b[39melse\u001b[39;00m:\n\u001b[1;32m-> 1652\u001b[0m     ext \u001b[39m=\u001b[39m inspect_excel_format(\n\u001b[0;32m   1653\u001b[0m         content_or_path\u001b[39m=\u001b[39;49mpath_or_buffer, storage_options\u001b[39m=\u001b[39;49mstorage_options\n\u001b[0;32m   1654\u001b[0m     )\n\u001b[0;32m   1655\u001b[0m     \u001b[39mif\u001b[39;00m ext \u001b[39mis\u001b[39;00m \u001b[39mNone\u001b[39;00m:\n\u001b[0;32m   1656\u001b[0m         \u001b[39mraise\u001b[39;00m \u001b[39mValueError\u001b[39;00m(\n\u001b[0;32m   1657\u001b[0m             \u001b[39m\"\u001b[39m\u001b[39mExcel file format cannot be determined, you must specify \u001b[39m\u001b[39m\"\u001b[39m\n\u001b[0;32m   1658\u001b[0m             \u001b[39m\"\u001b[39m\u001b[39man engine manually.\u001b[39m\u001b[39m\"\u001b[39m\n\u001b[0;32m   1659\u001b[0m         )\n",
      "File \u001b[1;32m~\\AppData\\Local\\Packages\\PythonSoftwareFoundation.Python.3.10_qbz5n2kfra8p0\\LocalCache\\local-packages\\Python310\\site-packages\\pandas\\io\\excel\\_base.py:1525\u001b[0m, in \u001b[0;36minspect_excel_format\u001b[1;34m(content_or_path, storage_options)\u001b[0m\n\u001b[0;32m   1522\u001b[0m \u001b[39mif\u001b[39;00m \u001b[39misinstance\u001b[39m(content_or_path, \u001b[39mbytes\u001b[39m):\n\u001b[0;32m   1523\u001b[0m     content_or_path \u001b[39m=\u001b[39m BytesIO(content_or_path)\n\u001b[1;32m-> 1525\u001b[0m \u001b[39mwith\u001b[39;00m get_handle(\n\u001b[0;32m   1526\u001b[0m     content_or_path, \u001b[39m\"\u001b[39;49m\u001b[39mrb\u001b[39;49m\u001b[39m\"\u001b[39;49m, storage_options\u001b[39m=\u001b[39;49mstorage_options, is_text\u001b[39m=\u001b[39;49m\u001b[39mFalse\u001b[39;49;00m\n\u001b[0;32m   1527\u001b[0m ) \u001b[39mas\u001b[39;00m handle:\n\u001b[0;32m   1528\u001b[0m     stream \u001b[39m=\u001b[39m handle\u001b[39m.\u001b[39mhandle\n\u001b[0;32m   1529\u001b[0m     stream\u001b[39m.\u001b[39mseek(\u001b[39m0\u001b[39m)\n",
      "File \u001b[1;32m~\\AppData\\Local\\Packages\\PythonSoftwareFoundation.Python.3.10_qbz5n2kfra8p0\\LocalCache\\local-packages\\Python310\\site-packages\\pandas\\io\\common.py:865\u001b[0m, in \u001b[0;36mget_handle\u001b[1;34m(path_or_buf, mode, encoding, compression, memory_map, is_text, errors, storage_options)\u001b[0m\n\u001b[0;32m    856\u001b[0m         handle \u001b[39m=\u001b[39m \u001b[39mopen\u001b[39m(\n\u001b[0;32m    857\u001b[0m             handle,\n\u001b[0;32m    858\u001b[0m             ioargs\u001b[39m.\u001b[39mmode,\n\u001b[1;32m   (...)\u001b[0m\n\u001b[0;32m    861\u001b[0m             newline\u001b[39m=\u001b[39m\u001b[39m\"\u001b[39m\u001b[39m\"\u001b[39m,\n\u001b[0;32m    862\u001b[0m         )\n\u001b[0;32m    863\u001b[0m     \u001b[39melse\u001b[39;00m:\n\u001b[0;32m    864\u001b[0m         \u001b[39m# Binary mode\u001b[39;00m\n\u001b[1;32m--> 865\u001b[0m         handle \u001b[39m=\u001b[39m \u001b[39mopen\u001b[39;49m(handle, ioargs\u001b[39m.\u001b[39;49mmode)\n\u001b[0;32m    866\u001b[0m     handles\u001b[39m.\u001b[39mappend(handle)\n\u001b[0;32m    868\u001b[0m \u001b[39m# Convert BytesIO or file objects passed with an encoding\u001b[39;00m\n",
      "\u001b[1;31mFileNotFoundError\u001b[0m: [Errno 2] No such file or directory: './data/data2023.xlsx'"
     ]
    }
   ],
   "source": [
    "df = pd.read_excel('./data/data2023.xlsx')"
   ]
  },
  {
   "cell_type": "code",
   "execution_count": 6,
   "metadata": {},
   "outputs": [
    {
     "data": {
      "text/plain": [
       "Index(['Unnamed: 0.1', 'Unnamed: 0', 'cv ', 'prime_key', 'krisha_id', 'price',\n",
       "       'description', 'is_mortgaged', 'seller', 'city', 'date_creation',\n",
       "       'num_views', 'is_hot', 'is_paid_up', 'is_hyped_turbo', 'is_cold_entry',\n",
       "       'num_pictures', 'num_rooms', 'Area', 'floor', 'total_floors',\n",
       "       'year_builded', 'ceiling_height', 'Region', 'Address', 'Price per Area',\n",
       "       'f/tf', 'Full Address', 'Latitude', 'Longitude'],\n",
       "      dtype='object')"
      ]
     },
     "execution_count": 6,
     "metadata": {},
     "output_type": "execute_result"
    }
   ],
   "source": [
    "df.columns"
   ]
  },
  {
   "cell_type": "code",
   "execution_count": 20,
   "metadata": {},
   "outputs": [
    {
     "data": {
      "text/plain": [
       "<AxesSubplot: xlabel='ceiling_height', ylabel='price'>"
      ]
     },
     "execution_count": 20,
     "metadata": {},
     "output_type": "execute_result"
    },
    {
     "data": {
      "image/png": "[encoded data removed]",
      "text/plain": [
       "<Figure size 640x480 with 1 Axes>"
      ]
     },
     "metadata": {},
     "output_type": "display_data"
    }
   ],
   "source": [
    "sns.barplot(x=df['ceiling_height']>=3, y=df['price'])"
   ]
  },
  {
   "cell_type": "code",
   "execution_count": 21,
   "metadata": {},
   "outputs": [
    {
     "data": {
      "text/plain": [
       "Index(['Unnamed: 0.1', 'Unnamed: 0', 'cv ', 'prime_key', 'krisha_id', 'price',\n",
       "       'description', 'is_mortgaged', 'seller', 'city', 'date_creation',\n",
       "       'num_views', 'is_hot', 'is_paid_up', 'is_hyped_turbo', 'is_cold_entry',\n",
       "       'num_pictures', 'num_rooms', 'Area', 'floor', 'total_floors',\n",
       "       'year_builded', 'ceiling_height', 'Region', 'Address', 'Price per Area',\n",
       "       'f/tf', 'Full Address', 'Latitude', 'Longitude'],\n",
       "      dtype='object')"
      ]
     },
     "execution_count": 21,
     "metadata": {},
     "output_type": "execute_result"
    }
   ],
   "source": [
    "df.columns"
   ]
  },
  {
   "cell_type": "code",
   "execution_count": 28,
   "metadata": {},
   "outputs": [
    {
     "data": {
      "text/plain": [
       "<AxesSubplot: xlabel='num_pictures', ylabel='Area'>"
      ]
     },
     "execution_count": 28,
     "metadata": {},
     "output_type": "execute_result"
    },
    {
     "data": {
      "image/png": "[encoded data removed]",
      "text/plain": [
       "<Figure size 640x480 with 1 Axes>"
      ]
     },
     "metadata": {},
     "output_type": "display_data"
    }
   ],
   "source": [
    "sns.lineplot(df, x='num_pictures', y='Area')"
   ]
  },
  {
   "cell_type": "code",
   "execution_count": 3,
   "metadata": {},
   "outputs": [
    {
     "data": {
      "text/plain": [
       "(array([0, 1, 2, 3, 4, 5, 6, 7, 8]),\n",
       " [Text(0, 0, 'Auezov district'),\n",
       "  Text(1, 0, 'Bostandyk district'),\n",
       "  Text(2, 0, 'Alatau district'),\n",
       "  Text(3, 0, 'Almalinsky district'),\n",
       "  Text(4, 0, 'Medeu district'),\n",
       "  Text(5, 0, 'Nauryzbay district'),\n",
       "  Text(6, 0, 'Zhetysu district'),\n",
       "  Text(7, 0, 'Turksib district'),\n",
       "  Text(8, 0, 'Торекулова')])"
      ]
     },
     "execution_count": 3,
     "metadata": {},
     "output_type": "execute_result"
    },
    {
     "data": {
      "image/png": "[encoded data removed]",
      "text/plain": [
       "<Figure size 640x480 with 1 Axes>"
      ]
     },
     "metadata": {},
     "output_type": "display_data"
    }
   ],
   "source": [
    "sns.barplot(df, x='Region', y='price')\n",
    "plt.xticks(rotation=90)\n"
   ]
  },
  {
   "cell_type": "code",
   "execution_count": 4,
   "metadata": {},
   "outputs": [
    {
     "data": {
      "text/plain": [
       "(array([0, 1, 2, 3, 4]),\n",
       " [Text(0, 0, 'Company'),\n",
       "  Text(1, 0, 'Krisha specialist'),\n",
       "  Text(2, 0, 'New builded house'),\n",
       "  Text(3, 0, 'Specialist'),\n",
       "  Text(4, 0, 'Owner of the house')])"
      ]
     },
     "execution_count": 4,
     "metadata": {},
     "output_type": "execute_result"
    },
    {
     "data": {
      "image/png": "[encoded data removed]",
      "text/plain": [
       "<Figure size 640x480 with 1 Axes>"
      ]
     },
     "metadata": {},
     "output_type": "display_data"
    }
   ],
   "source": [
    "sns.barplot(df, x='seller', y='price')\n",
    "plt.xticks(rotation=90)\n"
   ]
  },
  {
   "cell_type": "code",
   "execution_count": 5,
   "metadata": {},
   "outputs": [],
   "source": [
    "df = pd.read_excel('../data/data2023.xlsx')\n",
    "df22 = pd.read_excel('../data/data2022.xlsx')\n",
    "df21 = pd.read_excel('../data/data2021_first.xlsx')\n",
    "df21.rename(columns={'page_url':'krisha_id'}, inplace=True)\n",
    "df20 = pd.read_excel('../data/data2020.xlsx')\n",
    "df19 = pd.read_excel('../data/data2019.xlsx')\n",
    "df18 = pd.read_excel('../data/data2018.xlsx')\n",
    "df17 = pd.read_excel('../data/data2017.xlsx')\n",
    "df16 = pd.read_excel('../data/data2016.xlsx')"
   ]
  },
  {
   "cell_type": "code",
   "execution_count": 6,
   "metadata": {},
   "outputs": [],
   "source": [
    "df['YEAR'] = 2023\n",
    "df22['YEAR'] = 2022\n",
    "df21['YEAR'] = 2021\n",
    "df20['YEAR'] = 2020\n",
    "df19['YEAR'] = 2019\n",
    "df18['YEAR'] = 2018\n",
    "df17['YEAR'] = 2017\n",
    "df16['YEAR'] = 2016\n"
   ]
  },
  {
   "cell_type": "code",
   "execution_count": 105,
   "metadata": {},
   "outputs": [],
   "source": [
    "df23may = pd.read_excel('../data/data2023m.xlsx')\n",
    "df23may['YEAR'] = 2023"
   ]
  },
  {
   "cell_type": "code",
   "execution_count": 122,
   "metadata": {},
   "outputs": [],
   "source": [
    "df23may = df23may.rename(columns={'area':'Area', 'total_floor':'total_floors', 'year_built':'year_builded'})"
   ]
  },
  {
   "cell_type": "code",
   "execution_count": null,
   "metadata": {},
   "outputs": [],
   "source": [
    "df23may.location.apply(lambda x: x[:x.f] if 'р-н' in x else 'Алматы')"
   ]
  },
  {
   "cell_type": "code",
   "execution_count": 131,
   "metadata": {},
   "outputs": [],
   "source": [
    "df23may['Region'] = df23may.location.apply(lambda x: 'Алматы, ' + x[:x.find('р-н') + 3].strip() if 'р-н' in x else 'Алматы')"
   ]
  },
  {
   "cell_type": "code",
   "execution_count": 109,
   "metadata": {},
   "outputs": [
    {
     "data": {
      "text/plain": [
       "Index(['Unnamed: 0.1', 'Unnamed: 0', 'cv ', 'prime_key', 'krisha_id', 'price',\n",
       "       'description', 'is_mortgaged', 'seller', 'city', 'date_creation',\n",
       "       'num_views', 'is_hot', 'is_paid_up', 'is_hyped_turbo', 'is_cold_entry',\n",
       "       'num_pictures', 'num_rooms', 'Area', 'floor', 'total_floors',\n",
       "       'year_builded', 'ceiling_height', 'Region', 'Address', 'Price per Area',\n",
       "       'f/tf', 'Full Address', 'Latitude', 'Longitude', 'YEAR'],\n",
       "      dtype='object')"
      ]
     },
     "execution_count": 109,
     "metadata": {},
     "output_type": "execute_result"
    }
   ],
   "source": [
    "df.columns"
   ]
  },
  {
   "cell_type": "code",
   "execution_count": 132,
   "metadata": {},
   "outputs": [],
   "source": [
    "df23may = df23may[df23may.seller!='Новостройка']"
   ]
  },
  {
   "cell_type": "code",
   "execution_count": 133,
   "metadata": {},
   "outputs": [],
   "source": [
    "df = df[df.seller != 'New builded house']"
   ]
  },
  {
   "cell_type": "code",
   "execution_count": 82,
   "metadata": {},
   "outputs": [
    {
     "data": {
      "text/plain": [
       "860"
      ]
     },
     "execution_count": 82,
     "metadata": {},
     "output_type": "execute_result"
    }
   ],
   "source": [
    "len(set(df.krisha_id).intersection(set(df23may.krisha_id)))"
   ]
  },
  {
   "cell_type": "code",
   "execution_count": 88,
   "metadata": {},
   "outputs": [
    {
     "data": {
      "text/plain": [
       "{25469147,\n",
       " 27214428,\n",
       " 29278284,\n",
       " 29836635,\n",
       " 51134798,\n",
       " 51746512,\n",
       " 53252900,\n",
       " 56231966,\n",
       " 56529856,\n",
       " 56825653,\n",
       " 58116193,\n",
       " 58272071,\n",
       " 58275465,\n",
       " 58625495,\n",
       " 660229702,\n",
       " 660695599,\n",
       " 661398688,\n",
       " 661442647,\n",
       " 661828057,\n",
       " 661878108,\n",
       " 661878647,\n",
       " 661953681,\n",
       " 661955123,\n",
       " 662540744,\n",
       " 662599411,\n",
       " 662612489,\n",
       " 662893037,\n",
       " 663225928,\n",
       " 663339255,\n",
       " 663469534,\n",
       " 663701073,\n",
       " 663974804,\n",
       " 664594202,\n",
       " 664831177,\n",
       " 664845713,\n",
       " 664851495,\n",
       " 665040023,\n",
       " 665283320,\n",
       " 665379738,\n",
       " 665593148,\n",
       " 665970012,\n",
       " 666284675,\n",
       " 667465960,\n",
       " 667699614,\n",
       " 668617907,\n",
       " 668695292,\n",
       " 668745071,\n",
       " 669391221,\n",
       " 669434844,\n",
       " 670187515,\n",
       " 670740079,\n",
       " 671216587,\n",
       " 671374352,\n",
       " 671511277,\n",
       " 671689902,\n",
       " 671758442,\n",
       " 671875520,\n",
       " 672043972,\n",
       " 672046031,\n",
       " 672059214,\n",
       " 672087147,\n",
       " 672139965,\n",
       " 672173303,\n",
       " 672177367,\n",
       " 672218049,\n",
       " 672243506,\n",
       " 672296810,\n",
       " 672309379,\n",
       " 672313308,\n",
       " 672408442,\n",
       " 672557004,\n",
       " 672612293,\n",
       " 672721637,\n",
       " 672840260,\n",
       " 672858417,\n",
       " 672887088,\n",
       " 672934011,\n",
       " 672987190,\n",
       " 673018923,\n",
       " 673069797,\n",
       " 673198088,\n",
       " 673290413,\n",
       " 673524623,\n",
       " 673608151,\n",
       " 673614943,\n",
       " 673627824,\n",
       " 673768498,\n",
       " 673797068,\n",
       " 673806060,\n",
       " 673979139,\n",
       " 674456428,\n",
       " 674518858,\n",
       " 674537956,\n",
       " 674607210,\n",
       " 674644276,\n",
       " 674666526,\n",
       " 674695176,\n",
       " 674698740,\n",
       " 674801271,\n",
       " 674855742,\n",
       " 674927894,\n",
       " 674950870,\n",
       " 675062647,\n",
       " 675091210,\n",
       " 675106690,\n",
       " 675110550,\n",
       " 675179052,\n",
       " 675192321,\n",
       " 675267325,\n",
       " 675296318,\n",
       " 675389946,\n",
       " 675429041,\n",
       " 675435189,\n",
       " 675441118,\n",
       " 675456236,\n",
       " 675547816,\n",
       " 675589402,\n",
       " 675610629,\n",
       " 675655574,\n",
       " 675674920,\n",
       " 675677539,\n",
       " 675725652,\n",
       " 675779472,\n",
       " 675812922,\n",
       " 675831567,\n",
       " 675875566,\n",
       " 675876590,\n",
       " 675927782,\n",
       " 675937491,\n",
       " 675997051,\n",
       " 676014262,\n",
       " 676017806,\n",
       " 676077878,\n",
       " 676139710,\n",
       " 676180602,\n",
       " 676208004,\n",
       " 676220228,\n",
       " 676222109,\n",
       " 676235974,\n",
       " 676365029,\n",
       " 676402822,\n",
       " 676425675,\n",
       " 676428309,\n",
       " 676429243,\n",
       " 676461147,\n",
       " 676495833,\n",
       " 676518719,\n",
       " 676523911,\n",
       " 676530840,\n",
       " 676606516,\n",
       " 676635715,\n",
       " 676698943,\n",
       " 676743171,\n",
       " 676862920,\n",
       " 676918806,\n",
       " 676921851,\n",
       " 676951717,\n",
       " 676988461,\n",
       " 676988970,\n",
       " 677059670,\n",
       " 677086629,\n",
       " 677088172,\n",
       " 677096374,\n",
       " 677113948,\n",
       " 677113964,\n",
       " 677115656,\n",
       " 677126377,\n",
       " 677171317,\n",
       " 677194962,\n",
       " 677235806,\n",
       " 677249004,\n",
       " 677257624,\n",
       " 677288490,\n",
       " 677290146,\n",
       " 677369316,\n",
       " 677399748,\n",
       " 677416952,\n",
       " 677498913,\n",
       " 677503099,\n",
       " 677569572,\n",
       " 677571043,\n",
       " 677595430,\n",
       " 677597918,\n",
       " 677660008,\n",
       " 677693693,\n",
       " 677702432,\n",
       " 677702504,\n",
       " 677723187,\n",
       " 677751105,\n",
       " 677775470,\n",
       " 677775608,\n",
       " 677803765,\n",
       " 677851298,\n",
       " 677867263,\n",
       " 677888606,\n",
       " 677889007,\n",
       " 677929557,\n",
       " 677929600,\n",
       " 677945414,\n",
       " 677954465,\n",
       " 677962456,\n",
       " 677962899,\n",
       " 677971876,\n",
       " 678009015,\n",
       " 678009590,\n",
       " 678022802,\n",
       " 678053042,\n",
       " 678069951,\n",
       " 678096467,\n",
       " 678113315,\n",
       " 678178910,\n",
       " 678222829,\n",
       " 678223456,\n",
       " 678234383,\n",
       " 678235870,\n",
       " 678274262,\n",
       " 678300644,\n",
       " 678318740,\n",
       " 678345562,\n",
       " 678361617,\n",
       " 678377624,\n",
       " 678389391,\n",
       " 678423582,\n",
       " 678469893,\n",
       " 678479669,\n",
       " 678505777,\n",
       " 678506127,\n",
       " 678506211,\n",
       " 678571991,\n",
       " 678594737,\n",
       " 678618702,\n",
       " 678624180,\n",
       " 678644264,\n",
       " 678647626,\n",
       " 678665365,\n",
       " 678683665,\n",
       " 678690854,\n",
       " 678742227,\n",
       " 678748414,\n",
       " 678805688,\n",
       " 678807640,\n",
       " 678811256,\n",
       " 678820226,\n",
       " 678857871,\n",
       " 678857953,\n",
       " 678902133,\n",
       " 678922659,\n",
       " 678946434,\n",
       " 678996438,\n",
       " 679006286,\n",
       " 679022750,\n",
       " 679023181,\n",
       " 679035565,\n",
       " 679037870,\n",
       " 679075360,\n",
       " 679087024,\n",
       " 679093093,\n",
       " 679127075,\n",
       " 679161084,\n",
       " 679172431,\n",
       " 679175129,\n",
       " 679183962,\n",
       " 679185319,\n",
       " 679188381,\n",
       " 679212090,\n",
       " 679214510,\n",
       " 679232768,\n",
       " 679245749,\n",
       " 679246030,\n",
       " 679254074,\n",
       " 679264335,\n",
       " 679281618,\n",
       " 679284837,\n",
       " 679302818,\n",
       " 679316244,\n",
       " 679335889,\n",
       " 679367053,\n",
       " 679372435,\n",
       " 679376440,\n",
       " 679383603,\n",
       " 679389430,\n",
       " 679391929,\n",
       " 679394852,\n",
       " 679401655,\n",
       " 679407313,\n",
       " 679414335,\n",
       " 679428820,\n",
       " 679434798,\n",
       " 679440452,\n",
       " 679445884,\n",
       " 679449006,\n",
       " 679451257,\n",
       " 679476596,\n",
       " 679502754,\n",
       " 679508842,\n",
       " 679517623,\n",
       " 679520100,\n",
       " 679529021,\n",
       " 679546635,\n",
       " 679572905,\n",
       " 679584302,\n",
       " 679617934,\n",
       " 679650881,\n",
       " 679655624,\n",
       " 679662730,\n",
       " 679673099,\n",
       " 679673745,\n",
       " 679705936,\n",
       " 679737273,\n",
       " 679746688,\n",
       " 679751021,\n",
       " 679755467,\n",
       " 679756552,\n",
       " 679757901,\n",
       " 679762474,\n",
       " 679764951,\n",
       " 679819136,\n",
       " 679836338,\n",
       " 679849343,\n",
       " 679881319,\n",
       " 679881387,\n",
       " 679904187,\n",
       " 679906422,\n",
       " 679907063,\n",
       " 679928744,\n",
       " 679953427,\n",
       " 679957832,\n",
       " 679969791,\n",
       " 679969845,\n",
       " 679972691,\n",
       " 679983437,\n",
       " 679985197,\n",
       " 680013785,\n",
       " 680015956,\n",
       " 680041754,\n",
       " 680055987,\n",
       " 680057012,\n",
       " 680059442,\n",
       " 680078174,\n",
       " 680087329,\n",
       " 680096009,\n",
       " 680099648,\n",
       " 680104813,\n",
       " 680116899,\n",
       " 680136891,\n",
       " 680152158,\n",
       " 680170357,\n",
       " 680191961,\n",
       " 680208035,\n",
       " 680247146,\n",
       " 680252788,\n",
       " 680291585,\n",
       " 680298312,\n",
       " 680306008,\n",
       " 680359841,\n",
       " 680381794,\n",
       " 680397313,\n",
       " 680401827,\n",
       " 680411014,\n",
       " 680414800,\n",
       " 680419844,\n",
       " 680428191,\n",
       " 680454724,\n",
       " 680466243,\n",
       " 680478438,\n",
       " 680484762,\n",
       " 680508101,\n",
       " 680516083,\n",
       " 680521011,\n",
       " 680521065,\n",
       " 680535842,\n",
       " 680536311,\n",
       " 680536732,\n",
       " 680544403,\n",
       " 680558640,\n",
       " 680563189,\n",
       " 680573100,\n",
       " 680578768,\n",
       " 680590151,\n",
       " 680592742,\n",
       " 680595627,\n",
       " 680613999,\n",
       " 680627905,\n",
       " 680632680,\n",
       " 680655294,\n",
       " 680659252,\n",
       " 680662585,\n",
       " 680675633,\n",
       " 680678117,\n",
       " 680708867,\n",
       " 680710239,\n",
       " 680711731,\n",
       " 680714210,\n",
       " 680722897,\n",
       " 680723932,\n",
       " 680731177,\n",
       " 680769937,\n",
       " 680784576,\n",
       " 680801496,\n",
       " 680803907,\n",
       " 680813774,\n",
       " 680818859,\n",
       " 680833735,\n",
       " 680836814,\n",
       " 680839330,\n",
       " 680843958,\n",
       " 680847011,\n",
       " 680857067,\n",
       " 680857743,\n",
       " 680862373,\n",
       " 680869752,\n",
       " 680871412,\n",
       " 680878737,\n",
       " 680880644,\n",
       " 680881671,\n",
       " 680891717,\n",
       " 680894087,\n",
       " 680895192,\n",
       " 680901348,\n",
       " 680907083,\n",
       " 680910450,\n",
       " 680911164,\n",
       " 680914956,\n",
       " 680924291,\n",
       " 680932971,\n",
       " 680936185,\n",
       " 680942061,\n",
       " 680943164,\n",
       " 680956848,\n",
       " 680973241,\n",
       " 680973970,\n",
       " 681009044,\n",
       " 681013697,\n",
       " 681016100,\n",
       " 681039398,\n",
       " 681041894,\n",
       " 681042890,\n",
       " 681043562,\n",
       " 681044193,\n",
       " 681047781,\n",
       " 681048027,\n",
       " 681059723,\n",
       " 681075398,\n",
       " 681076778,\n",
       " 681088874,\n",
       " 681094632,\n",
       " 681101281,\n",
       " 681106453,\n",
       " 681113468,\n",
       " 681116258,\n",
       " 681121264,\n",
       " 681124103,\n",
       " 681127694,\n",
       " 681133629,\n",
       " 681139929,\n",
       " 681141819,\n",
       " 681153746,\n",
       " 681157779,\n",
       " 681164898,\n",
       " 681177749,\n",
       " 681186614,\n",
       " 681193710,\n",
       " 681193967,\n",
       " 681206110,\n",
       " 681206111,\n",
       " 681208617,\n",
       " 681221347,\n",
       " 681221636,\n",
       " 681224489,\n",
       " 681225586,\n",
       " 681228669,\n",
       " 681232346,\n",
       " 681237932,\n",
       " 681241916,\n",
       " 681243530,\n",
       " 681243582,\n",
       " 681249726,\n",
       " 681251530,\n",
       " 681258145,\n",
       " 681259609,\n",
       " 681262529,\n",
       " 681271936,\n",
       " 681276527,\n",
       " 681281148,\n",
       " 681293601,\n",
       " 681295513,\n",
       " 681304012,\n",
       " 681312681,\n",
       " 681328556,\n",
       " 681328976,\n",
       " 681336392,\n",
       " 681336453,\n",
       " 681345503,\n",
       " 681345535,\n",
       " 681348711,\n",
       " 681349596,\n",
       " 681353498,\n",
       " 681358443,\n",
       " 681379646,\n",
       " 681379730,\n",
       " 681379801,\n",
       " 681379888,\n",
       " 681381265,\n",
       " 681385714,\n",
       " 681403524,\n",
       " 681407450,\n",
       " 681408443,\n",
       " 681410365,\n",
       " 681419142,\n",
       " 681420729,\n",
       " 681424263,\n",
       " 681425432,\n",
       " 681426045,\n",
       " 681433200,\n",
       " 681448338,\n",
       " 681448455,\n",
       " 681454774,\n",
       " 681456920,\n",
       " 681461295,\n",
       " 681465647,\n",
       " 681475137,\n",
       " 681476538,\n",
       " 681477211,\n",
       " 681480240,\n",
       " 681486502,\n",
       " 681489045,\n",
       " 681499517,\n",
       " 681502304,\n",
       " 681513114,\n",
       " 681513526,\n",
       " 681525368,\n",
       " 681527130,\n",
       " 681527135,\n",
       " 681529967,\n",
       " 681531950,\n",
       " 681534450,\n",
       " 681541712,\n",
       " 681543942,\n",
       " 681546487,\n",
       " 681549273,\n",
       " 681558424,\n",
       " 681570792,\n",
       " 681573409,\n",
       " 681580273,\n",
       " 681582012,\n",
       " 681582287,\n",
       " 681588584,\n",
       " 681590402,\n",
       " 681594364,\n",
       " 681596346,\n",
       " 681601297,\n",
       " 681601658,\n",
       " 681601689,\n",
       " 681601716,\n",
       " 681603695,\n",
       " 681605197,\n",
       " 681614464,\n",
       " 681623116,\n",
       " 681635872,\n",
       " 681636216,\n",
       " 681636931,\n",
       " 681639986,\n",
       " 681641828,\n",
       " 681649764,\n",
       " 681651877,\n",
       " 681652570,\n",
       " 681654551,\n",
       " 681655374,\n",
       " 681656041,\n",
       " 681658958,\n",
       " 681667703,\n",
       " 681668858,\n",
       " 681673709,\n",
       " 681681152,\n",
       " 681682071,\n",
       " 681685485,\n",
       " 681695569,\n",
       " 681698251,\n",
       " 681698515,\n",
       " 681728941,\n",
       " 681734020,\n",
       " 681737280,\n",
       " 681741511,\n",
       " 681765826,\n",
       " 681773115,\n",
       " 681787989,\n",
       " 681790101,\n",
       " 681796058,\n",
       " 681809889,\n",
       " 681812947,\n",
       " 681813792,\n",
       " 681813843,\n",
       " 681814437,\n",
       " 681821360,\n",
       " 681830229,\n",
       " 681831772,\n",
       " 681834626,\n",
       " 681839260,\n",
       " 681840517,\n",
       " 681842711,\n",
       " 681842958,\n",
       " 681848164,\n",
       " 681851503,\n",
       " 681856044,\n",
       " 681857821,\n",
       " 681861842,\n",
       " 681862516,\n",
       " 681864763,\n",
       " 681866423,\n",
       " 681867695,\n",
       " 681869929,\n",
       " 681870739,\n",
       " 681871035,\n",
       " 681875452,\n",
       " 681885927,\n",
       " 681917731,\n",
       " 681931792,\n",
       " 681943084,\n",
       " 681943303,\n",
       " 681946044,\n",
       " 681949739,\n",
       " 681956963,\n",
       " 681957180,\n",
       " 681963557,\n",
       " 681968124,\n",
       " 681972437,\n",
       " 681976023,\n",
       " 681982233,\n",
       " 681986809,\n",
       " 681988816,\n",
       " 681995216,\n",
       " 681996381,\n",
       " 681997968,\n",
       " 682000072,\n",
       " 682000758,\n",
       " 682001809,\n",
       " 682005742,\n",
       " 682006011,\n",
       " 682006872,\n",
       " 682014482,\n",
       " 682014670,\n",
       " 682017660,\n",
       " 682018157,\n",
       " 682019031,\n",
       " 682021167,\n",
       " 682025350,\n",
       " 682031476,\n",
       " 682032119,\n",
       " 682038394,\n",
       " 682048865,\n",
       " 682060622,\n",
       " 682061105,\n",
       " 682061792,\n",
       " 682061826,\n",
       " 682070284,\n",
       " 682070679,\n",
       " 682070769,\n",
       " 682078495,\n",
       " 682088913,\n",
       " 682095265,\n",
       " 682095366,\n",
       " 682101972,\n",
       " 682106258,\n",
       " 682112677,\n",
       " 682113314,\n",
       " 682123272,\n",
       " 682123454,\n",
       " 682124756,\n",
       " 682148255,\n",
       " 682155861,\n",
       " 682156035,\n",
       " 682156692,\n",
       " 682156704,\n",
       " 682157074,\n",
       " 682159691,\n",
       " 682160416,\n",
       " 682162423,\n",
       " 682163928,\n",
       " 682167825,\n",
       " 682169378,\n",
       " 682178918,\n",
       " 682178956,\n",
       " 682181446,\n",
       " 682182085,\n",
       " 682188119,\n",
       " 682190940,\n",
       " 682192003,\n",
       " 682193408,\n",
       " 682195787,\n",
       " 682196446,\n",
       " 682197629,\n",
       " 682201382,\n",
       " 682202915,\n",
       " 682204209,\n",
       " 682205602,\n",
       " 682206052,\n",
       " 682206125,\n",
       " 682208196,\n",
       " 682214782,\n",
       " 682219375,\n",
       " 682225662,\n",
       " 682226188,\n",
       " 682226551,\n",
       " 682233191,\n",
       " 682236437,\n",
       " 682236969,\n",
       " 682240368,\n",
       " 682243445,\n",
       " 682251645,\n",
       " 682252352,\n",
       " 682252558,\n",
       " 682253288,\n",
       " 682259325,\n",
       " 682259814,\n",
       " 682273617,\n",
       " 682274541,\n",
       " 682274546,\n",
       " 682275678,\n",
       " 682284953,\n",
       " 682294412,\n",
       " 682294614,\n",
       " 682295908,\n",
       " 682306802,\n",
       " 682312989,\n",
       " 682313768,\n",
       " 682324153,\n",
       " 682329159,\n",
       " 682330499,\n",
       " 682330506,\n",
       " 682331745,\n",
       " 682333624,\n",
       " 682336421,\n",
       " 682340259,\n",
       " 682342280,\n",
       " 682343445,\n",
       " 682343495,\n",
       " 682345065,\n",
       " 682345994,\n",
       " 682346100,\n",
       " 682346778,\n",
       " 682348080,\n",
       " 682348800,\n",
       " 682352200,\n",
       " 682352474,\n",
       " 682357442,\n",
       " 682357643,\n",
       " 682359304,\n",
       " 682361350,\n",
       " 682363097,\n",
       " 682368597,\n",
       " 682370529,\n",
       " 682371678,\n",
       " 682372368,\n",
       " 682373250,\n",
       " 682374575,\n",
       " 682378923,\n",
       " 682379545,\n",
       " 682380911,\n",
       " 682382813,\n",
       " 682384111,\n",
       " 682385601,\n",
       " 682387090,\n",
       " 682387205,\n",
       " 682387361,\n",
       " 682392282,\n",
       " 682393634,\n",
       " 682395694,\n",
       " 682396582,\n",
       " 682397522,\n",
       " 682398937,\n",
       " 682399744,\n",
       " 682400995,\n",
       " 682401368,\n",
       " 682403946,\n",
       " 682407991,\n",
       " 682409272,\n",
       " 682409667,\n",
       " 682414814,\n",
       " 682416455,\n",
       " 682417184,\n",
       " 682419616,\n",
       " 682424184,\n",
       " 682426058,\n",
       " 682426289,\n",
       " 682427967,\n",
       " 682429975,\n",
       " 682434892,\n",
       " 682443608,\n",
       " 682452050,\n",
       " 682459337,\n",
       " 682485460,\n",
       " 682488034,\n",
       " 682488207,\n",
       " 682488899,\n",
       " 682501558,\n",
       " 682506609,\n",
       " 682508280,\n",
       " 682508391,\n",
       " 682512224,\n",
       " 682512983,\n",
       " 682516186,\n",
       " 682518692,\n",
       " 682519245,\n",
       " 682519735,\n",
       " 682519850,\n",
       " 682520517,\n",
       " 682521089,\n",
       " 682522083,\n",
       " 682524562,\n",
       " 682525460,\n",
       " 682525823,\n",
       " 682527034,\n",
       " 682527110,\n",
       " 682530254,\n",
       " 682530570,\n",
       " 682530829,\n",
       " 682533654,\n",
       " 682537185,\n",
       " 682539254,\n",
       " 682543039,\n",
       " 682544123,\n",
       " 682545853,\n",
       " 682546402,\n",
       " 682546617,\n",
       " 682547004,\n",
       " 682547489,\n",
       " 682548218,\n",
       " 682549032,\n",
       " 682550215,\n",
       " 682551215,\n",
       " 682551460,\n",
       " 682553627,\n",
       " 682553768,\n",
       " 682556087,\n",
       " 682556602,\n",
       " 682556634,\n",
       " 682557420,\n",
       " 682557653,\n",
       " 682559701,\n",
       " 682560556,\n",
       " 682561264,\n",
       " 682562988,\n",
       " 682564822,\n",
       " 682567242,\n",
       " 682567293,\n",
       " 682567338,\n",
       " 682567745,\n",
       " 682567782,\n",
       " 682567914,\n",
       " 682569271,\n",
       " 682570628,\n",
       " 682572350,\n",
       " 682574355,\n",
       " 682574745,\n",
       " 682576099,\n",
       " 682577729,\n",
       " 682577958,\n",
       " 682578221,\n",
       " 682579353,\n",
       " 682581621}"
      ]
     },
     "execution_count": 88,
     "metadata": {},
     "output_type": "execute_result"
    }
   ],
   "source": [
    "set(df.krisha_id).intersection(set(df23may.krisha_id))"
   ]
  },
  {
   "cell_type": "code",
   "execution_count": 134,
   "metadata": {},
   "outputs": [
    {
     "data": {
      "text/plain": [
       "26590"
      ]
     },
     "execution_count": 134,
     "metadata": {},
     "output_type": "execute_result"
    }
   ],
   "source": [
    "len(set(df.krisha_id))+len(set(df23may.krisha_id)) - len(set(df.krisha_id).intersection(set(df23may.krisha_id)))"
   ]
  },
  {
   "cell_type": "code",
   "execution_count": 135,
   "metadata": {},
   "outputs": [],
   "source": [
    "df = pd.concat([df,df23may]).drop_duplicates(subset=['krisha_id'],keep='last')"
   ]
  },
  {
   "cell_type": "code",
   "execution_count": 8,
   "metadata": {},
   "outputs": [
    {
     "data": {
      "text/plain": [
       "Index(['Unnamed: 0', 'krisha_id', 'num_rooms', 'area', 'price', 'region',\n",
       "       'address', 'zhil complex', 'house_type', 'year_built', 'ceiling',\n",
       "       'floor', 'total_floors', 'cold_entry', 'full_address', 'Latitude',\n",
       "       'Longitude', 'YEAR'],\n",
       "      dtype='object')"
      ]
     },
     "execution_count": 8,
     "metadata": {},
     "output_type": "execute_result"
    }
   ],
   "source": [
    "df22.columns"
   ]
  },
  {
   "cell_type": "code",
   "execution_count": 30,
   "metadata": {},
   "outputs": [],
   "source": [
    "df22 = df22[~df22['cold_entry']]"
   ]
  },
  {
   "cell_type": "code",
   "execution_count": 34,
   "metadata": {},
   "outputs": [],
   "source": [
    "df21 = df21[~df21.is_cold_entry]"
   ]
  },
  {
   "cell_type": "code",
   "execution_count": 38,
   "metadata": {},
   "outputs": [],
   "source": [
    "df20 = df20[~df20.cold_entry]"
   ]
  },
  {
   "cell_type": "code",
   "execution_count": 50,
   "metadata": {},
   "outputs": [
    {
     "data": {
      "text/plain": [
       "Index(['Unnamed: 0.1', 'Unnamed: 0', 'krisha_id', 'price', 'num_rooms',\n",
       "       'is_mortgaged', 'building_type', 'year_built', 'floor', 'total_floor',\n",
       "       'propusk', 'area', 'PrivDormitory', 'Renovation', 'TelephoneType',\n",
       "       'InternetType', 'BathroomType', 'Balcony', 'BalconyGlazed', 'DoorType',\n",
       "       'Parking', 'Furniture', 'FloorType', 'CeilingHeight', 'Security',\n",
       "       'MapComplex', 'HasChange', 'country', 'city', 'district', 'street',\n",
       "       'house_num', 'Latitude', 'Longitude', 'YEAR'],\n",
       "      dtype='object')"
      ]
     },
     "execution_count": 50,
     "metadata": {},
     "output_type": "execute_result"
    }
   ],
   "source": [
    "df19.columns"
   ]
  },
  {
   "cell_type": "code",
   "execution_count": 40,
   "metadata": {},
   "outputs": [
    {
     "data": {
      "text/plain": [
       "Index(['krisha_id', 'num_rooms', 'area', 'price', 'region', 'address', 'compl',\n",
       "       'type', 'ceiling', 'floor', 'year_built', 'full_address', 'Latitude',\n",
       "       'Longitude', 'total_floor', 'YEAR'],\n",
       "      dtype='object')"
      ]
     },
     "execution_count": 40,
     "metadata": {},
     "output_type": "execute_result"
    }
   ],
   "source": [
    "df18.columns"
   ]
  },
  {
   "cell_type": "code",
   "execution_count": 43,
   "metadata": {},
   "outputs": [
    {
     "data": {
      "text/plain": [
       "Index(['Unnamed: 0', 'district', 'address', 'room_count', 'price',\n",
       "       'Жилой комплекс', 'Дом', 'Время постройки', 'Этаж', 'Площадь',\n",
       "       'Состояние', 'Санузел', 'Балкон', 'Балкон остеклен', 'Дверь', 'Телефон',\n",
       "       'Потолки', 'Безопасноть', 'В прив. общежитии', 'Интернет', 'Мебель',\n",
       "       'Пол', 'Парковка', 'Latitude', 'Longitude', 'floor', 'total_floor',\n",
       "       'year_built', 'area', 'YEAR'],\n",
       "      dtype='object')"
      ]
     },
     "execution_count": 43,
     "metadata": {},
     "output_type": "execute_result"
    }
   ],
   "source": [
    "df17.columns"
   ]
  },
  {
   "cell_type": "code",
   "execution_count": 48,
   "metadata": {},
   "outputs": [
    {
     "data": {
      "text/plain": [
       "Index(['Unnamed: 0.1', 'krisha_id', 'address_x', 'price', 'region', 'area',\n",
       "       'building_type', 'year_built', 'seller', 'ceiling', 'num_rooms',\n",
       "       'floor', 'total_floor', 'full_address', 'Unnamed: 0', 'city',\n",
       "       'address_y', 'Full Address', 'Latitude', 'Longitude', 'YEAR'],\n",
       "      dtype='object')"
      ]
     },
     "execution_count": 48,
     "metadata": {},
     "output_type": "execute_result"
    }
   ],
   "source": [
    "df16.columns"
   ]
  },
  {
   "cell_type": "code",
   "execution_count": null,
   "metadata": {},
   "outputs": [],
   "source": [
    "pd.concat([df,df23may]).drop_duplicates(subset ='krisha_id', keep='last')"
   ]
  },
  {
   "cell_type": "code",
   "execution_count": 137,
   "metadata": {},
   "outputs": [],
   "source": [
    "df = df[['Area','price','floor','year_builded', 'Region','total_floors', 'Latitude', 'Longitude', 'YEAR']].rename(columns={'total_floors':'total_floor', 'Region':'region', 'Area':'area', 'year_builded':'year_built'})"
   ]
  },
  {
   "cell_type": "code",
   "execution_count": 53,
   "metadata": {},
   "outputs": [],
   "source": [
    "df22 = df22[['area','price','region','year_built','Latitude',\n",
    "       'Longitude', 'YEAR', 'floor', 'total_floors']].rename(columns={'total_floors':'total_floor'})"
   ]
  },
  {
   "cell_type": "code",
   "execution_count": 54,
   "metadata": {},
   "outputs": [],
   "source": [
    "df21=df21[['price', 'area', 'floor', 'total_floor', 'flat.city' , 'Latitude',\n",
    "       'Longitude', 'YEAR', 'year_built']].rename(columns={'flat.city':'region'})"
   ]
  },
  {
   "cell_type": "code",
   "execution_count": 55,
   "metadata": {},
   "outputs": [],
   "source": [
    "df20=df20[['price','area', 'floor','total_floor', 'year_built','city_x','Latitude', 'Longitude', 'YEAR']].rename(columns={'city_x':'region'})"
   ]
  },
  {
   "cell_type": "code",
   "execution_count": 56,
   "metadata": {},
   "outputs": [],
   "source": [
    "df19=df19[['price','year_built', 'floor', 'total_floor', 'area', 'district', 'Latitude', 'Longitude', 'YEAR']].rename(columns={'district':'region'})"
   ]
  },
  {
   "cell_type": "code",
   "execution_count": 57,
   "metadata": {},
   "outputs": [],
   "source": [
    "df18=df18[['area', 'price', 'region', 'floor', 'year_built','Latitude',\n",
    "       'Longitude', 'total_floor', 'YEAR']]"
   ]
  },
  {
   "cell_type": "code",
   "execution_count": 58,
   "metadata": {},
   "outputs": [],
   "source": [
    "df17 = df17[['price', 'floor', 'area','year_built','district', 'total_floor' ,'Latitude', 'Longitude', 'YEAR']].rename(columns={'district':'region'})"
   ]
  },
  {
   "cell_type": "code",
   "execution_count": 59,
   "metadata": {},
   "outputs": [],
   "source": [
    "df16 = df16[['price', 'region', 'area', 'floor', 'total_floor', 'Latitude', 'Longitude', 'YEAR', 'year_built']]"
   ]
  },
  {
   "cell_type": "code",
   "execution_count": 77,
   "metadata": {},
   "outputs": [],
   "source": [
    "regions = [] \n",
    "for iter_df in [df,df22,df21,df20,df19,df18,df17,df16]:\n",
    "    regions.extend(iter_df.region.unique())\n"
   ]
  },
  {
   "cell_type": "code",
   "execution_count": 83,
   "metadata": {},
   "outputs": [
    {
     "data": {
      "text/plain": [
       "array(['Алматы, Ауэзовский р-н', 'Алматы, Бостандыкский р-н',\n",
       "       'Алматы, Алатауский р-н', 'Алматы, Турксибский р-н',\n",
       "       'Алматы, Медеуский р-н', 'Алматы, Алмалинский р-н',\n",
       "       'Алматы, Наурызбайский р-н', 'Алматы', 'Алматы, Жетысуский р-н',\n",
       "       'Астана, Есильский р-н', 'Астана, Алматинский р-н',\n",
       "       'Астана, Сарыаркинский р-н', 'Казахстан', 'Талгар'], dtype=object)"
      ]
     },
     "execution_count": 83,
     "metadata": {},
     "output_type": "execute_result"
    }
   ],
   "source": [
    "df17.region.unique()"
   ]
  },
  {
   "cell_type": "code",
   "execution_count": 60,
   "metadata": {},
   "outputs": [],
   "source": [
    "df17 = df17[~df17.region.isin(['Астана, Есильский р-н', 'Астана, Алматинский р-н',\n",
    "       'Астана, Сарыаркинский р-н', 'Казахстан', 'Талгар'])]"
   ]
  },
  {
   "cell_type": "code",
   "execution_count": 138,
   "metadata": {},
   "outputs": [],
   "source": [
    "df_join = pd.concat([df,df22,df21,df20,df19,df18,df17,df16])"
   ]
  },
  {
   "cell_type": "code",
   "execution_count": 139,
   "metadata": {},
   "outputs": [
    {
     "data": {
      "text/plain": [
       "2020    59756\n",
       "2023    26590\n",
       "2017    22916\n",
       "2021    18991\n",
       "2019     1211\n",
       "2022      135\n",
       "2016       91\n",
       "2018       23\n",
       "Name: YEAR, dtype: int64"
      ]
     },
     "execution_count": 139,
     "metadata": {},
     "output_type": "execute_result"
    }
   ],
   "source": [
    "df_join['YEAR'].value_counts()"
   ]
  },
  {
   "cell_type": "code",
   "execution_count": 160,
   "metadata": {},
   "outputs": [
    {
     "data": {
      "text/plain": [
       "array(['Auezov district', 'Bostandyk district', 'Alatau district',\n",
       "       'Almalinsky district', 'Medeu district', 'Nauryzbay district',\n",
       "       'Zhetysu district', 'Turksib district', 'Торекулова',\n",
       "       ' Ауэзовский р-н', ' Бостандыкский р-н', ' Медеуский р-н',\n",
       "       ' Алмалинский р-н', nan, ' Турксибский р-н', ' Наурызбайский р-н',\n",
       "       ' Алатауский р-н', 'Алматы, Наурызбайский р-н',\n",
       "       'Алматы, Алмалинский р-н', 'Алматы, Бостандыкский р-н', 'Алматы',\n",
       "       'Алматы, Медеуский р-н', 'Алматы, Турксибский р-н',\n",
       "       'Алматы, Ауэзовский р-н', 'Алматы, Алатауский р-н',\n",
       "       'Алматы, Жетысуский р-н', 'Medeuskiy_r-n', 'Almalinskiy_r-n',\n",
       "       'Auezovskiy_r-n', 'Alatauskiy_r-n', 'Bostandykskiy_r-n',\n",
       "       'Turksibskiy_r-n', 'Zhetysuskiy_r-n', 'Nauryzbayskiy_r-n',\n",
       "       'Бостандыкский р-н', 'Жетысуский р-н', 'Ауэзовский р-н',\n",
       "       'Алмалинский р-н', 'Медеуский р-н', 'Алатауский р-н',\n",
       "       'Турксибский р-н', 'Наурызбайский р-н'], dtype=object)"
      ]
     },
     "execution_count": 160,
     "metadata": {},
     "output_type": "execute_result"
    }
   ],
   "source": [
    "df_join.region.unique()"
   ]
  },
  {
   "cell_type": "code",
   "execution_count": 140,
   "metadata": {},
   "outputs": [],
   "source": [
    "df_join.to_excel('../data/data_joined_16-23.xlsx')"
   ]
  },
  {
   "cell_type": "markdown",
   "metadata": {},
   "source": [
    "Refactored by hands at this stage"
   ]
  },
  {
   "cell_type": "code",
   "execution_count": 2,
   "metadata": {},
   "outputs": [],
   "source": [
    "df_join = pd.read_excel('./data/data_joined_16-23.xlsx')"
   ]
  },
  {
   "cell_type": "code",
   "execution_count": 3,
   "metadata": {},
   "outputs": [],
   "source": [
    "from sklearn.linear_model import LinearRegression"
   ]
  },
  {
   "cell_type": "code",
   "execution_count": 178,
   "metadata": {},
   "outputs": [
    {
     "data": {
      "text/plain": [
       "Index(['Unnamed: 0', 'area', 'price', 'floor', 'year_built', 'region',\n",
       "       'total_floor', 'Latitude', 'Longitude', 'YEAR', 'Regions'],\n",
       "      dtype='object')"
      ]
     },
     "execution_count": 178,
     "metadata": {},
     "output_type": "execute_result"
    }
   ],
   "source": [
    "df_join.columns"
   ]
  },
  {
   "cell_type": "code",
   "execution_count": 179,
   "metadata": {},
   "outputs": [
    {
     "data": {
      "text/plain": [
       "array(['Auezov', 'Bostandyq', 'Alatau', 'Almaly', 'Medeu', 'Nauryzbai',\n",
       "       'Jetysu', 'Turksib', 'Almaty'], dtype=object)"
      ]
     },
     "execution_count": 179,
     "metadata": {},
     "output_type": "execute_result"
    }
   ],
   "source": [
    "df_join.Regions.unique()"
   ]
  },
  {
   "cell_type": "code",
   "execution_count": 174,
   "metadata": {},
   "outputs": [],
   "source": [
    "df_join['year_built'] = df_join['year_built'].apply(lambda x: int(x.replace('г.п.','')) if type(x)==str else int(x))"
   ]
  },
  {
   "cell_type": "code",
   "execution_count": 180,
   "metadata": {},
   "outputs": [
    {
     "data": {
      "text/plain": [
       "0.629575952655715"
      ]
     },
     "execution_count": 180,
     "metadata": {},
     "output_type": "execute_result"
    }
   ],
   "source": [
    "LinearRegression().fit(df_join[['area', 'floor', 'year_built', 'total_floor',\n",
    "       'Latitude', 'Longitude', 'YEAR']], df_join['price']).score(df_join[['area', 'floor', 'year_built', 'total_floor',\n",
    "       'Latitude', 'Longitude', 'YEAR']], df_join['price'])"
   ]
  },
  {
   "cell_type": "code",
   "execution_count": 131,
   "metadata": {},
   "outputs": [
    {
     "data": {
      "text/plain": [
       "0.5911786677071281"
      ]
     },
     "execution_count": 131,
     "metadata": {},
     "output_type": "execute_result"
    }
   ],
   "source": [
    "LinearRegression().fit(df_join[['area']], df_join['price']).score(df_join[['area']], df_join['price'])"
   ]
  },
  {
   "cell_type": "code",
   "execution_count": 139,
   "metadata": {},
   "outputs": [
    {
     "data": {
      "text/plain": [
       "0.6285457329110524"
      ]
     },
     "execution_count": 139,
     "metadata": {},
     "output_type": "execute_result"
    }
   ],
   "source": [
    "LinearRegression().fit(df_join[['area','YEAR']], df_join['price']).score(df_join[['area','YEAR']], df_join['price'])"
   ]
  },
  {
   "cell_type": "code",
   "execution_count": 4,
   "metadata": {},
   "outputs": [
    {
     "name": "stderr",
     "output_type": "stream",
     "text": [
      "C:\\Users\\User\\AppData\\Local\\Temp\\ipykernel_13568\\2441390593.py:2: FutureWarning: The default value of regex will change from True to False in a future version. In addition, single character regular expressions will *not* be treated as literal strings when regex=True.\n",
      "  df_infl['Year'] = pd.to_numeric(df_infl['Year'].str.replace('*',''))\n"
     ]
    }
   ],
   "source": [
    "df_infl = pd.read_excel('./data/constructed/inflation-rate-in-kazakhstan-2028.xlsx', sheet_name='Data')\n",
    "df_infl['Year'] = pd.to_numeric(df_infl['Year'].str.replace('*',''))\n",
    "df_infl=df_infl[pd.to_numeric(df_infl.Year)>=2016]\n",
    "def get_perc_from_base(row):\n",
    "    if row['Year'] == 2016:\n",
    "        return 1.0\n",
    "    else:\n",
    "        return (1+row['Value']/100)\n",
    "\n",
    "df_infl['Multiplier'] = df_infl.apply(lambda x: get_perc_from_base(x),axis=1)\n",
    "\n",
    "for elem in range(18, 18 + df_infl.__len__()):\n",
    "    if elem != 18:\n",
    "        df_infl.at[elem,'Multiplier'] = df_infl.at[elem,'Multiplier']*df_infl.at[elem-1,'Multiplier']\n",
    "    \n",
    "df_join = df_join.merge(df_infl[['Year','Multiplier']], left_on='YEAR',right_on='Year').drop(columns=['Year'])"
   ]
  },
  {
   "cell_type": "code",
   "execution_count": 182,
   "metadata": {},
   "outputs": [],
   "source": [
    "df_join['price_adj'] = df_join['price']/df_join['Multiplier']"
   ]
  },
  {
   "cell_type": "code",
   "execution_count": 183,
   "metadata": {},
   "outputs": [
    {
     "data": {
      "text/plain": [
       "0.6346781618692496"
      ]
     },
     "execution_count": 183,
     "metadata": {},
     "output_type": "execute_result"
    }
   ],
   "source": [
    "LinearRegression().fit(df_join[['area']], df_join['price_adj']).score(df_join[['area']], df_join['price_adj'])"
   ]
  },
  {
   "cell_type": "code",
   "execution_count": 184,
   "metadata": {},
   "outputs": [],
   "source": [
    "import seaborn as sns\n",
    "import matplotlib.pyplot as plt"
   ]
  },
  {
   "cell_type": "code",
   "execution_count": 186,
   "metadata": {},
   "outputs": [
    {
     "name": "stderr",
     "output_type": "stream",
     "text": [
      "C:\\Users\\User\\AppData\\Local\\Temp\\ipykernel_7512\\4052519091.py:1: FutureWarning: The default value of numeric_only in DataFrame.corr is deprecated. In a future version, it will default to False. Select only valid columns or specify the value of numeric_only to silence this warning.\n",
      "  sns.heatmap(df_join.corr())\n"
     ]
    },
    {
     "data": {
      "text/plain": [
       "<AxesSubplot: >"
      ]
     },
     "execution_count": 186,
     "metadata": {},
     "output_type": "execute_result"
    },
    {
     "data": {
      "image/png": "[encoded data removed]",
      "text/plain": [
       "<Figure size 640x480 with 2 Axes>"
      ]
     },
     "metadata": {},
     "output_type": "display_data"
    }
   ],
   "source": [
    "sns.heatmap(df_join.corr())"
   ]
  },
  {
   "cell_type": "code",
   "execution_count": 190,
   "metadata": {},
   "outputs": [
    {
     "data": {
      "text/plain": [
       "(-15.350000000000001, 30.0)"
      ]
     },
     "execution_count": 190,
     "metadata": {},
     "output_type": "execute_result"
    },
    {
     "data": {
      "image/png": "[encoded data removed]",
      "text/plain": [
       "<Figure size 640x480 with 1 Axes>"
      ]
     },
     "metadata": {},
     "output_type": "display_data"
    }
   ],
   "source": [
    "sns.histplot(df_join.floor)\n",
    "plt.xlim(right=30)"
   ]
  },
  {
   "cell_type": "code",
   "execution_count": 192,
   "metadata": {},
   "outputs": [
    {
     "data": {
      "text/plain": [
       "Index(['Unnamed: 0', 'area', 'price', 'floor', 'year_built', 'region',\n",
       "       'total_floor', 'Latitude', 'Longitude', 'YEAR', 'Regions', 'Multiplier',\n",
       "       'price_adj'],\n",
       "      dtype='object')"
      ]
     },
     "execution_count": 192,
     "metadata": {},
     "output_type": "execute_result"
    }
   ],
   "source": [
    "df_join.columns"
   ]
  },
  {
   "cell_type": "code",
   "execution_count": 194,
   "metadata": {},
   "outputs": [],
   "source": [
    "df_join['price_per_area'] = df_join['price']/df_join['area']"
   ]
  },
  {
   "cell_type": "code",
   "execution_count": 204,
   "metadata": {},
   "outputs": [],
   "source": [
    "df_join['price_per_area_adj'] = df_join['price_adj']/df_join['area']"
   ]
  },
  {
   "cell_type": "code",
   "execution_count": 196,
   "metadata": {},
   "outputs": [
    {
     "data": {
      "text/plain": [
       "<AxesSubplot: xlabel='price_per_area', ylabel='Count'>"
      ]
     },
     "execution_count": 196,
     "metadata": {},
     "output_type": "execute_result"
    },
    {
     "data": {
      "image/png": "[encoded data removed]",
      "text/plain": [
       "<Figure size 640x480 with 1 Axes>"
      ]
     },
     "metadata": {},
     "output_type": "display_data"
    }
   ],
   "source": [
    "sns.histplot(np.log(df_join['price_per_area']))"
   ]
  },
  {
   "cell_type": "code",
   "execution_count": 201,
   "metadata": {},
   "outputs": [],
   "source": [
    "from scipy import spatial"
   ]
  },
  {
   "cell_type": "code",
   "execution_count": 217,
   "metadata": {},
   "outputs": [],
   "source": [
    "tree = spatial.KDTree(df_join[['Latitude','Longitude']].to_numpy())\n",
    "def get_neigbours(row, n_neighbors = 5):\n",
    "    indexes = tree.query([row['Latitude'], row['Longitude']], k=n_neighbors+1)[1][1:]\n",
    "\n",
    "    return df_join.iloc[indexes]\n",
    "    "
   ]
  },
  {
   "cell_type": "code",
   "execution_count": 218,
   "metadata": {},
   "outputs": [],
   "source": [
    "def get_price_of_neigbour(row, ):\n",
    "    n_neighbors = 1\n",
    "    neibgours = get_neigbours(row, 1)\n",
    "    return neibgours['price_per_area_adj']\n",
    "    "
   ]
  },
  {
   "cell_type": "code",
   "execution_count": 219,
   "metadata": {},
   "outputs": [],
   "source": [
    "df_join.apply(lambda x: get_price_of_neigbour(x), axis=1)"
   ]
  },
  {
   "cell_type": "code",
   "execution_count": null,
   "metadata": {},
   "outputs": [],
   "source": []
  }
 ],
 "metadata": {
  "kernelspec": {
   "display_name": "Python 3.10.11 64-bit (microsoft store)",
   "language": "python",
   "name": "python3"
  },
  "language_info": {
   "codemirror_mode": {
    "name": "ipython",
    "version": 3
   },
   "file_extension": ".py",
   "mimetype": "text/x-python",
   "name": "python",
   "nbconvert_exporter": "python",
   "pygments_lexer": "ipython3",
   "version": "3.10.11"
  },
  "orig_nbformat": 4,
  "vscode": {
   "interpreter": {
    "hash": "3b7e9cb8e453d6cda0fe8c8dd13f891a1f09162f0e7c66ffeae7751a7aecf00d"
   }
  }
 },
 "nbformat": 4,
 "nbformat_minor": 2
}
